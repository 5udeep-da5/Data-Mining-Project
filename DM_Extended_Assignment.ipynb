{
 "cells": [
  {
   "cell_type": "code",
   "execution_count": 233,
   "metadata": {},
   "outputs": [],
   "source": [
    "import pandas as pd\n",
    "import numpy as np\n",
    "import seaborn as sns\n",
    "import matplotlib.pyplot as plt\n",
    "%matplotlib inline"
   ]
  },
  {
   "cell_type": "code",
   "execution_count": 234,
   "metadata": {},
   "outputs": [],
   "source": [
    "df=pd.read_csv(\"Hair Salon (1) (1).csv\")"
   ]
  },
  {
   "cell_type": "code",
   "execution_count": 235,
   "metadata": {},
   "outputs": [
    {
     "data": {
      "text/html": [
       "<div>\n",
       "<style scoped>\n",
       "    .dataframe tbody tr th:only-of-type {\n",
       "        vertical-align: middle;\n",
       "    }\n",
       "\n",
       "    .dataframe tbody tr th {\n",
       "        vertical-align: top;\n",
       "    }\n",
       "\n",
       "    .dataframe thead th {\n",
       "        text-align: right;\n",
       "    }\n",
       "</style>\n",
       "<table border=\"1\" class=\"dataframe\">\n",
       "  <thead>\n",
       "    <tr style=\"text-align: right;\">\n",
       "      <th></th>\n",
       "      <th>ID</th>\n",
       "      <th>ProdQual</th>\n",
       "      <th>Ecom</th>\n",
       "      <th>TechSup</th>\n",
       "      <th>CompRes</th>\n",
       "      <th>Advertising</th>\n",
       "      <th>ProdLine</th>\n",
       "      <th>SalesFImage</th>\n",
       "      <th>ComPricing</th>\n",
       "      <th>WartyClaim</th>\n",
       "      <th>OrdBilling</th>\n",
       "      <th>DelSpeed</th>\n",
       "      <th>Satisfaction</th>\n",
       "    </tr>\n",
       "  </thead>\n",
       "  <tbody>\n",
       "    <tr>\n",
       "      <th>0</th>\n",
       "      <td>1</td>\n",
       "      <td>8.5</td>\n",
       "      <td>3.9</td>\n",
       "      <td>2.5</td>\n",
       "      <td>5.9</td>\n",
       "      <td>4.8</td>\n",
       "      <td>4.9</td>\n",
       "      <td>6.0</td>\n",
       "      <td>6.8</td>\n",
       "      <td>4.7</td>\n",
       "      <td>5.0</td>\n",
       "      <td>3.7</td>\n",
       "      <td>8.2</td>\n",
       "    </tr>\n",
       "    <tr>\n",
       "      <th>1</th>\n",
       "      <td>2</td>\n",
       "      <td>8.2</td>\n",
       "      <td>2.7</td>\n",
       "      <td>5.1</td>\n",
       "      <td>7.2</td>\n",
       "      <td>3.4</td>\n",
       "      <td>7.9</td>\n",
       "      <td>3.1</td>\n",
       "      <td>5.3</td>\n",
       "      <td>5.5</td>\n",
       "      <td>3.9</td>\n",
       "      <td>4.9</td>\n",
       "      <td>5.7</td>\n",
       "    </tr>\n",
       "    <tr>\n",
       "      <th>2</th>\n",
       "      <td>3</td>\n",
       "      <td>9.2</td>\n",
       "      <td>3.4</td>\n",
       "      <td>5.6</td>\n",
       "      <td>5.6</td>\n",
       "      <td>5.4</td>\n",
       "      <td>7.4</td>\n",
       "      <td>5.8</td>\n",
       "      <td>4.5</td>\n",
       "      <td>6.2</td>\n",
       "      <td>5.4</td>\n",
       "      <td>4.5</td>\n",
       "      <td>8.9</td>\n",
       "    </tr>\n",
       "    <tr>\n",
       "      <th>3</th>\n",
       "      <td>4</td>\n",
       "      <td>6.4</td>\n",
       "      <td>3.3</td>\n",
       "      <td>7.0</td>\n",
       "      <td>3.7</td>\n",
       "      <td>4.7</td>\n",
       "      <td>4.7</td>\n",
       "      <td>4.5</td>\n",
       "      <td>8.8</td>\n",
       "      <td>7.0</td>\n",
       "      <td>4.3</td>\n",
       "      <td>3.0</td>\n",
       "      <td>4.8</td>\n",
       "    </tr>\n",
       "    <tr>\n",
       "      <th>4</th>\n",
       "      <td>5</td>\n",
       "      <td>9.0</td>\n",
       "      <td>3.4</td>\n",
       "      <td>5.2</td>\n",
       "      <td>4.6</td>\n",
       "      <td>2.2</td>\n",
       "      <td>6.0</td>\n",
       "      <td>4.5</td>\n",
       "      <td>6.8</td>\n",
       "      <td>6.1</td>\n",
       "      <td>4.5</td>\n",
       "      <td>3.5</td>\n",
       "      <td>7.1</td>\n",
       "    </tr>\n",
       "  </tbody>\n",
       "</table>\n",
       "</div>"
      ],
      "text/plain": [
       "   ID  ProdQual  Ecom  TechSup  CompRes  Advertising  ProdLine  SalesFImage  \\\n",
       "0   1       8.5   3.9      2.5      5.9          4.8       4.9          6.0   \n",
       "1   2       8.2   2.7      5.1      7.2          3.4       7.9          3.1   \n",
       "2   3       9.2   3.4      5.6      5.6          5.4       7.4          5.8   \n",
       "3   4       6.4   3.3      7.0      3.7          4.7       4.7          4.5   \n",
       "4   5       9.0   3.4      5.2      4.6          2.2       6.0          4.5   \n",
       "\n",
       "   ComPricing  WartyClaim  OrdBilling  DelSpeed  Satisfaction  \n",
       "0         6.8         4.7         5.0       3.7           8.2  \n",
       "1         5.3         5.5         3.9       4.9           5.7  \n",
       "2         4.5         6.2         5.4       4.5           8.9  \n",
       "3         8.8         7.0         4.3       3.0           4.8  \n",
       "4         6.8         6.1         4.5       3.5           7.1  "
      ]
     },
     "execution_count": 235,
     "metadata": {},
     "output_type": "execute_result"
    }
   ],
   "source": [
    "df.head()"
   ]
  },
  {
   "cell_type": "code",
   "execution_count": 236,
   "metadata": {},
   "outputs": [
    {
     "data": {
      "text/html": [
       "<div>\n",
       "<style scoped>\n",
       "    .dataframe tbody tr th:only-of-type {\n",
       "        vertical-align: middle;\n",
       "    }\n",
       "\n",
       "    .dataframe tbody tr th {\n",
       "        vertical-align: top;\n",
       "    }\n",
       "\n",
       "    .dataframe thead th {\n",
       "        text-align: right;\n",
       "    }\n",
       "</style>\n",
       "<table border=\"1\" class=\"dataframe\">\n",
       "  <thead>\n",
       "    <tr style=\"text-align: right;\">\n",
       "      <th></th>\n",
       "      <th>ID</th>\n",
       "      <th>ProdQual</th>\n",
       "      <th>Ecom</th>\n",
       "      <th>TechSup</th>\n",
       "      <th>CompRes</th>\n",
       "      <th>Advertising</th>\n",
       "      <th>ProdLine</th>\n",
       "      <th>SalesFImage</th>\n",
       "      <th>ComPricing</th>\n",
       "      <th>WartyClaim</th>\n",
       "      <th>OrdBilling</th>\n",
       "      <th>DelSpeed</th>\n",
       "      <th>Satisfaction</th>\n",
       "    </tr>\n",
       "  </thead>\n",
       "  <tbody>\n",
       "    <tr>\n",
       "      <th>95</th>\n",
       "      <td>96</td>\n",
       "      <td>8.6</td>\n",
       "      <td>4.8</td>\n",
       "      <td>5.6</td>\n",
       "      <td>5.3</td>\n",
       "      <td>2.3</td>\n",
       "      <td>6.0</td>\n",
       "      <td>5.7</td>\n",
       "      <td>6.7</td>\n",
       "      <td>5.8</td>\n",
       "      <td>4.9</td>\n",
       "      <td>3.6</td>\n",
       "      <td>7.3</td>\n",
       "    </tr>\n",
       "    <tr>\n",
       "      <th>96</th>\n",
       "      <td>97</td>\n",
       "      <td>7.4</td>\n",
       "      <td>3.4</td>\n",
       "      <td>2.6</td>\n",
       "      <td>5.0</td>\n",
       "      <td>4.1</td>\n",
       "      <td>4.4</td>\n",
       "      <td>4.8</td>\n",
       "      <td>7.2</td>\n",
       "      <td>4.5</td>\n",
       "      <td>4.2</td>\n",
       "      <td>3.7</td>\n",
       "      <td>6.3</td>\n",
       "    </tr>\n",
       "    <tr>\n",
       "      <th>97</th>\n",
       "      <td>98</td>\n",
       "      <td>8.7</td>\n",
       "      <td>3.2</td>\n",
       "      <td>3.3</td>\n",
       "      <td>3.2</td>\n",
       "      <td>3.1</td>\n",
       "      <td>6.1</td>\n",
       "      <td>2.9</td>\n",
       "      <td>5.6</td>\n",
       "      <td>5.0</td>\n",
       "      <td>3.1</td>\n",
       "      <td>2.5</td>\n",
       "      <td>5.4</td>\n",
       "    </tr>\n",
       "    <tr>\n",
       "      <th>98</th>\n",
       "      <td>99</td>\n",
       "      <td>7.8</td>\n",
       "      <td>4.9</td>\n",
       "      <td>5.8</td>\n",
       "      <td>5.3</td>\n",
       "      <td>5.2</td>\n",
       "      <td>5.3</td>\n",
       "      <td>7.1</td>\n",
       "      <td>7.9</td>\n",
       "      <td>6.0</td>\n",
       "      <td>4.3</td>\n",
       "      <td>3.9</td>\n",
       "      <td>6.4</td>\n",
       "    </tr>\n",
       "    <tr>\n",
       "      <th>99</th>\n",
       "      <td>100</td>\n",
       "      <td>7.9</td>\n",
       "      <td>3.0</td>\n",
       "      <td>4.4</td>\n",
       "      <td>5.1</td>\n",
       "      <td>5.9</td>\n",
       "      <td>4.2</td>\n",
       "      <td>4.8</td>\n",
       "      <td>9.7</td>\n",
       "      <td>5.7</td>\n",
       "      <td>3.4</td>\n",
       "      <td>3.5</td>\n",
       "      <td>6.4</td>\n",
       "    </tr>\n",
       "  </tbody>\n",
       "</table>\n",
       "</div>"
      ],
      "text/plain": [
       "     ID  ProdQual  Ecom  TechSup  CompRes  Advertising  ProdLine  SalesFImage  \\\n",
       "95   96       8.6   4.8      5.6      5.3          2.3       6.0          5.7   \n",
       "96   97       7.4   3.4      2.6      5.0          4.1       4.4          4.8   \n",
       "97   98       8.7   3.2      3.3      3.2          3.1       6.1          2.9   \n",
       "98   99       7.8   4.9      5.8      5.3          5.2       5.3          7.1   \n",
       "99  100       7.9   3.0      4.4      5.1          5.9       4.2          4.8   \n",
       "\n",
       "    ComPricing  WartyClaim  OrdBilling  DelSpeed  Satisfaction  \n",
       "95         6.7         5.8         4.9       3.6           7.3  \n",
       "96         7.2         4.5         4.2       3.7           6.3  \n",
       "97         5.6         5.0         3.1       2.5           5.4  \n",
       "98         7.9         6.0         4.3       3.9           6.4  \n",
       "99         9.7         5.7         3.4       3.5           6.4  "
      ]
     },
     "execution_count": 236,
     "metadata": {},
     "output_type": "execute_result"
    }
   ],
   "source": [
    "df.tail()"
   ]
  },
  {
   "cell_type": "code",
   "execution_count": 237,
   "metadata": {},
   "outputs": [
    {
     "data": {
      "text/plain": [
       "(100, 13)"
      ]
     },
     "execution_count": 237,
     "metadata": {},
     "output_type": "execute_result"
    }
   ],
   "source": [
    "df.shape"
   ]
  },
  {
   "cell_type": "code",
   "execution_count": 238,
   "metadata": {},
   "outputs": [
    {
     "name": "stdout",
     "output_type": "stream",
     "text": [
      "<class 'pandas.core.frame.DataFrame'>\n",
      "RangeIndex: 100 entries, 0 to 99\n",
      "Data columns (total 13 columns):\n",
      " #   Column        Non-Null Count  Dtype  \n",
      "---  ------        --------------  -----  \n",
      " 0   ID            100 non-null    int64  \n",
      " 1   ProdQual      100 non-null    float64\n",
      " 2   Ecom          100 non-null    float64\n",
      " 3   TechSup       100 non-null    float64\n",
      " 4   CompRes       100 non-null    float64\n",
      " 5   Advertising   100 non-null    float64\n",
      " 6   ProdLine      100 non-null    float64\n",
      " 7   SalesFImage   100 non-null    float64\n",
      " 8   ComPricing    100 non-null    float64\n",
      " 9   WartyClaim    100 non-null    float64\n",
      " 10  OrdBilling    100 non-null    float64\n",
      " 11  DelSpeed      100 non-null    float64\n",
      " 12  Satisfaction  100 non-null    float64\n",
      "dtypes: float64(12), int64(1)\n",
      "memory usage: 10.3 KB\n"
     ]
    }
   ],
   "source": [
    "df.info()"
   ]
  },
  {
   "cell_type": "code",
   "execution_count": 239,
   "metadata": {},
   "outputs": [
    {
     "data": {
      "text/html": [
       "<div>\n",
       "<style scoped>\n",
       "    .dataframe tbody tr th:only-of-type {\n",
       "        vertical-align: middle;\n",
       "    }\n",
       "\n",
       "    .dataframe tbody tr th {\n",
       "        vertical-align: top;\n",
       "    }\n",
       "\n",
       "    .dataframe thead th {\n",
       "        text-align: right;\n",
       "    }\n",
       "</style>\n",
       "<table border=\"1\" class=\"dataframe\">\n",
       "  <thead>\n",
       "    <tr style=\"text-align: right;\">\n",
       "      <th></th>\n",
       "      <th>count</th>\n",
       "      <th>mean</th>\n",
       "      <th>std</th>\n",
       "      <th>min</th>\n",
       "      <th>25%</th>\n",
       "      <th>50%</th>\n",
       "      <th>75%</th>\n",
       "      <th>max</th>\n",
       "    </tr>\n",
       "  </thead>\n",
       "  <tbody>\n",
       "    <tr>\n",
       "      <th>ID</th>\n",
       "      <td>100.0</td>\n",
       "      <td>50.500</td>\n",
       "      <td>29.011492</td>\n",
       "      <td>1.0</td>\n",
       "      <td>25.750</td>\n",
       "      <td>50.50</td>\n",
       "      <td>75.250</td>\n",
       "      <td>100.0</td>\n",
       "    </tr>\n",
       "    <tr>\n",
       "      <th>ProdQual</th>\n",
       "      <td>100.0</td>\n",
       "      <td>7.810</td>\n",
       "      <td>1.396279</td>\n",
       "      <td>5.0</td>\n",
       "      <td>6.575</td>\n",
       "      <td>8.00</td>\n",
       "      <td>9.100</td>\n",
       "      <td>10.0</td>\n",
       "    </tr>\n",
       "    <tr>\n",
       "      <th>Ecom</th>\n",
       "      <td>100.0</td>\n",
       "      <td>3.672</td>\n",
       "      <td>0.700516</td>\n",
       "      <td>2.2</td>\n",
       "      <td>3.275</td>\n",
       "      <td>3.60</td>\n",
       "      <td>3.925</td>\n",
       "      <td>5.7</td>\n",
       "    </tr>\n",
       "    <tr>\n",
       "      <th>TechSup</th>\n",
       "      <td>100.0</td>\n",
       "      <td>5.365</td>\n",
       "      <td>1.530457</td>\n",
       "      <td>1.3</td>\n",
       "      <td>4.250</td>\n",
       "      <td>5.40</td>\n",
       "      <td>6.625</td>\n",
       "      <td>8.5</td>\n",
       "    </tr>\n",
       "    <tr>\n",
       "      <th>CompRes</th>\n",
       "      <td>100.0</td>\n",
       "      <td>5.442</td>\n",
       "      <td>1.208403</td>\n",
       "      <td>2.6</td>\n",
       "      <td>4.600</td>\n",
       "      <td>5.45</td>\n",
       "      <td>6.325</td>\n",
       "      <td>7.8</td>\n",
       "    </tr>\n",
       "    <tr>\n",
       "      <th>Advertising</th>\n",
       "      <td>100.0</td>\n",
       "      <td>4.010</td>\n",
       "      <td>1.126943</td>\n",
       "      <td>1.9</td>\n",
       "      <td>3.175</td>\n",
       "      <td>4.00</td>\n",
       "      <td>4.800</td>\n",
       "      <td>6.5</td>\n",
       "    </tr>\n",
       "    <tr>\n",
       "      <th>ProdLine</th>\n",
       "      <td>100.0</td>\n",
       "      <td>5.805</td>\n",
       "      <td>1.315285</td>\n",
       "      <td>2.3</td>\n",
       "      <td>4.700</td>\n",
       "      <td>5.75</td>\n",
       "      <td>6.800</td>\n",
       "      <td>8.4</td>\n",
       "    </tr>\n",
       "    <tr>\n",
       "      <th>SalesFImage</th>\n",
       "      <td>100.0</td>\n",
       "      <td>5.123</td>\n",
       "      <td>1.072320</td>\n",
       "      <td>2.9</td>\n",
       "      <td>4.500</td>\n",
       "      <td>4.90</td>\n",
       "      <td>5.800</td>\n",
       "      <td>8.2</td>\n",
       "    </tr>\n",
       "    <tr>\n",
       "      <th>ComPricing</th>\n",
       "      <td>100.0</td>\n",
       "      <td>6.974</td>\n",
       "      <td>1.545055</td>\n",
       "      <td>3.7</td>\n",
       "      <td>5.875</td>\n",
       "      <td>7.10</td>\n",
       "      <td>8.400</td>\n",
       "      <td>9.9</td>\n",
       "    </tr>\n",
       "    <tr>\n",
       "      <th>WartyClaim</th>\n",
       "      <td>100.0</td>\n",
       "      <td>6.043</td>\n",
       "      <td>0.819738</td>\n",
       "      <td>4.1</td>\n",
       "      <td>5.400</td>\n",
       "      <td>6.10</td>\n",
       "      <td>6.600</td>\n",
       "      <td>8.1</td>\n",
       "    </tr>\n",
       "    <tr>\n",
       "      <th>OrdBilling</th>\n",
       "      <td>100.0</td>\n",
       "      <td>4.278</td>\n",
       "      <td>0.928840</td>\n",
       "      <td>2.0</td>\n",
       "      <td>3.700</td>\n",
       "      <td>4.40</td>\n",
       "      <td>4.800</td>\n",
       "      <td>6.7</td>\n",
       "    </tr>\n",
       "    <tr>\n",
       "      <th>DelSpeed</th>\n",
       "      <td>100.0</td>\n",
       "      <td>3.886</td>\n",
       "      <td>0.734437</td>\n",
       "      <td>1.6</td>\n",
       "      <td>3.400</td>\n",
       "      <td>3.90</td>\n",
       "      <td>4.425</td>\n",
       "      <td>5.5</td>\n",
       "    </tr>\n",
       "    <tr>\n",
       "      <th>Satisfaction</th>\n",
       "      <td>100.0</td>\n",
       "      <td>6.918</td>\n",
       "      <td>1.191839</td>\n",
       "      <td>4.7</td>\n",
       "      <td>6.000</td>\n",
       "      <td>7.05</td>\n",
       "      <td>7.625</td>\n",
       "      <td>9.9</td>\n",
       "    </tr>\n",
       "  </tbody>\n",
       "</table>\n",
       "</div>"
      ],
      "text/plain": [
       "              count    mean        std  min     25%    50%     75%    max\n",
       "ID            100.0  50.500  29.011492  1.0  25.750  50.50  75.250  100.0\n",
       "ProdQual      100.0   7.810   1.396279  5.0   6.575   8.00   9.100   10.0\n",
       "Ecom          100.0   3.672   0.700516  2.2   3.275   3.60   3.925    5.7\n",
       "TechSup       100.0   5.365   1.530457  1.3   4.250   5.40   6.625    8.5\n",
       "CompRes       100.0   5.442   1.208403  2.6   4.600   5.45   6.325    7.8\n",
       "Advertising   100.0   4.010   1.126943  1.9   3.175   4.00   4.800    6.5\n",
       "ProdLine      100.0   5.805   1.315285  2.3   4.700   5.75   6.800    8.4\n",
       "SalesFImage   100.0   5.123   1.072320  2.9   4.500   4.90   5.800    8.2\n",
       "ComPricing    100.0   6.974   1.545055  3.7   5.875   7.10   8.400    9.9\n",
       "WartyClaim    100.0   6.043   0.819738  4.1   5.400   6.10   6.600    8.1\n",
       "OrdBilling    100.0   4.278   0.928840  2.0   3.700   4.40   4.800    6.7\n",
       "DelSpeed      100.0   3.886   0.734437  1.6   3.400   3.90   4.425    5.5\n",
       "Satisfaction  100.0   6.918   1.191839  4.7   6.000   7.05   7.625    9.9"
      ]
     },
     "execution_count": 239,
     "metadata": {},
     "output_type": "execute_result"
    }
   ],
   "source": [
    "df.describe(include=\"all\").T"
   ]
  },
  {
   "cell_type": "code",
   "execution_count": 240,
   "metadata": {},
   "outputs": [
    {
     "data": {
      "text/plain": [
       "ID              0\n",
       "ProdQual        0\n",
       "Ecom            0\n",
       "TechSup         0\n",
       "CompRes         0\n",
       "Advertising     0\n",
       "ProdLine        0\n",
       "SalesFImage     0\n",
       "ComPricing      0\n",
       "WartyClaim      0\n",
       "OrdBilling      0\n",
       "DelSpeed        0\n",
       "Satisfaction    0\n",
       "dtype: int64"
      ]
     },
     "execution_count": 240,
     "metadata": {},
     "output_type": "execute_result"
    }
   ],
   "source": [
    "df.isnull().sum()"
   ]
  },
  {
   "cell_type": "code",
   "execution_count": 241,
   "metadata": {},
   "outputs": [
    {
     "data": {
      "text/plain": [
       "0"
      ]
     },
     "execution_count": 241,
     "metadata": {},
     "output_type": "execute_result"
    }
   ],
   "source": [
    "df.duplicated().sum()"
   ]
  },
  {
   "cell_type": "code",
   "execution_count": 242,
   "metadata": {},
   "outputs": [],
   "source": [
    "df1=df.copy()"
   ]
  },
  {
   "cell_type": "code",
   "execution_count": 243,
   "metadata": {},
   "outputs": [
    {
     "data": {
      "text/html": [
       "<div>\n",
       "<style scoped>\n",
       "    .dataframe tbody tr th:only-of-type {\n",
       "        vertical-align: middle;\n",
       "    }\n",
       "\n",
       "    .dataframe tbody tr th {\n",
       "        vertical-align: top;\n",
       "    }\n",
       "\n",
       "    .dataframe thead th {\n",
       "        text-align: right;\n",
       "    }\n",
       "</style>\n",
       "<table border=\"1\" class=\"dataframe\">\n",
       "  <thead>\n",
       "    <tr style=\"text-align: right;\">\n",
       "      <th></th>\n",
       "      <th>ID</th>\n",
       "      <th>ProdQual</th>\n",
       "      <th>Ecom</th>\n",
       "      <th>TechSup</th>\n",
       "      <th>CompRes</th>\n",
       "      <th>Advertising</th>\n",
       "      <th>ProdLine</th>\n",
       "      <th>SalesFImage</th>\n",
       "      <th>ComPricing</th>\n",
       "      <th>WartyClaim</th>\n",
       "      <th>OrdBilling</th>\n",
       "      <th>DelSpeed</th>\n",
       "      <th>Satisfaction</th>\n",
       "    </tr>\n",
       "  </thead>\n",
       "  <tbody>\n",
       "    <tr>\n",
       "      <th>0</th>\n",
       "      <td>1</td>\n",
       "      <td>8.5</td>\n",
       "      <td>3.9</td>\n",
       "      <td>2.5</td>\n",
       "      <td>5.9</td>\n",
       "      <td>4.8</td>\n",
       "      <td>4.9</td>\n",
       "      <td>6.0</td>\n",
       "      <td>6.8</td>\n",
       "      <td>4.7</td>\n",
       "      <td>5.0</td>\n",
       "      <td>3.7</td>\n",
       "      <td>8.2</td>\n",
       "    </tr>\n",
       "    <tr>\n",
       "      <th>1</th>\n",
       "      <td>2</td>\n",
       "      <td>8.2</td>\n",
       "      <td>2.7</td>\n",
       "      <td>5.1</td>\n",
       "      <td>7.2</td>\n",
       "      <td>3.4</td>\n",
       "      <td>7.9</td>\n",
       "      <td>3.1</td>\n",
       "      <td>5.3</td>\n",
       "      <td>5.5</td>\n",
       "      <td>3.9</td>\n",
       "      <td>4.9</td>\n",
       "      <td>5.7</td>\n",
       "    </tr>\n",
       "    <tr>\n",
       "      <th>2</th>\n",
       "      <td>3</td>\n",
       "      <td>9.2</td>\n",
       "      <td>3.4</td>\n",
       "      <td>5.6</td>\n",
       "      <td>5.6</td>\n",
       "      <td>5.4</td>\n",
       "      <td>7.4</td>\n",
       "      <td>5.8</td>\n",
       "      <td>4.5</td>\n",
       "      <td>6.2</td>\n",
       "      <td>5.4</td>\n",
       "      <td>4.5</td>\n",
       "      <td>8.9</td>\n",
       "    </tr>\n",
       "    <tr>\n",
       "      <th>3</th>\n",
       "      <td>4</td>\n",
       "      <td>6.4</td>\n",
       "      <td>3.3</td>\n",
       "      <td>7.0</td>\n",
       "      <td>3.7</td>\n",
       "      <td>4.7</td>\n",
       "      <td>4.7</td>\n",
       "      <td>4.5</td>\n",
       "      <td>8.8</td>\n",
       "      <td>7.0</td>\n",
       "      <td>4.3</td>\n",
       "      <td>3.0</td>\n",
       "      <td>4.8</td>\n",
       "    </tr>\n",
       "    <tr>\n",
       "      <th>4</th>\n",
       "      <td>5</td>\n",
       "      <td>9.0</td>\n",
       "      <td>3.4</td>\n",
       "      <td>5.2</td>\n",
       "      <td>4.6</td>\n",
       "      <td>2.2</td>\n",
       "      <td>6.0</td>\n",
       "      <td>4.5</td>\n",
       "      <td>6.8</td>\n",
       "      <td>6.1</td>\n",
       "      <td>4.5</td>\n",
       "      <td>3.5</td>\n",
       "      <td>7.1</td>\n",
       "    </tr>\n",
       "  </tbody>\n",
       "</table>\n",
       "</div>"
      ],
      "text/plain": [
       "   ID  ProdQual  Ecom  TechSup  CompRes  Advertising  ProdLine  SalesFImage  \\\n",
       "0   1       8.5   3.9      2.5      5.9          4.8       4.9          6.0   \n",
       "1   2       8.2   2.7      5.1      7.2          3.4       7.9          3.1   \n",
       "2   3       9.2   3.4      5.6      5.6          5.4       7.4          5.8   \n",
       "3   4       6.4   3.3      7.0      3.7          4.7       4.7          4.5   \n",
       "4   5       9.0   3.4      5.2      4.6          2.2       6.0          4.5   \n",
       "\n",
       "   ComPricing  WartyClaim  OrdBilling  DelSpeed  Satisfaction  \n",
       "0         6.8         4.7         5.0       3.7           8.2  \n",
       "1         5.3         5.5         3.9       4.9           5.7  \n",
       "2         4.5         6.2         5.4       4.5           8.9  \n",
       "3         8.8         7.0         4.3       3.0           4.8  \n",
       "4         6.8         6.1         4.5       3.5           7.1  "
      ]
     },
     "execution_count": 243,
     "metadata": {},
     "output_type": "execute_result"
    }
   ],
   "source": [
    "df1.head()"
   ]
  },
  {
   "cell_type": "code",
   "execution_count": 244,
   "metadata": {},
   "outputs": [],
   "source": [
    "df1.drop(labels=['ID', 'Satisfaction'],axis=1, inplace=True)"
   ]
  },
  {
   "cell_type": "code",
   "execution_count": 245,
   "metadata": {},
   "outputs": [
    {
     "data": {
      "text/html": [
       "<div>\n",
       "<style scoped>\n",
       "    .dataframe tbody tr th:only-of-type {\n",
       "        vertical-align: middle;\n",
       "    }\n",
       "\n",
       "    .dataframe tbody tr th {\n",
       "        vertical-align: top;\n",
       "    }\n",
       "\n",
       "    .dataframe thead th {\n",
       "        text-align: right;\n",
       "    }\n",
       "</style>\n",
       "<table border=\"1\" class=\"dataframe\">\n",
       "  <thead>\n",
       "    <tr style=\"text-align: right;\">\n",
       "      <th></th>\n",
       "      <th>ProdQual</th>\n",
       "      <th>Ecom</th>\n",
       "      <th>TechSup</th>\n",
       "      <th>CompRes</th>\n",
       "      <th>Advertising</th>\n",
       "      <th>ProdLine</th>\n",
       "      <th>SalesFImage</th>\n",
       "      <th>ComPricing</th>\n",
       "      <th>WartyClaim</th>\n",
       "      <th>OrdBilling</th>\n",
       "      <th>DelSpeed</th>\n",
       "    </tr>\n",
       "  </thead>\n",
       "  <tbody>\n",
       "    <tr>\n",
       "      <th>0</th>\n",
       "      <td>8.5</td>\n",
       "      <td>3.9</td>\n",
       "      <td>2.5</td>\n",
       "      <td>5.9</td>\n",
       "      <td>4.8</td>\n",
       "      <td>4.9</td>\n",
       "      <td>6.0</td>\n",
       "      <td>6.8</td>\n",
       "      <td>4.7</td>\n",
       "      <td>5.0</td>\n",
       "      <td>3.7</td>\n",
       "    </tr>\n",
       "    <tr>\n",
       "      <th>1</th>\n",
       "      <td>8.2</td>\n",
       "      <td>2.7</td>\n",
       "      <td>5.1</td>\n",
       "      <td>7.2</td>\n",
       "      <td>3.4</td>\n",
       "      <td>7.9</td>\n",
       "      <td>3.1</td>\n",
       "      <td>5.3</td>\n",
       "      <td>5.5</td>\n",
       "      <td>3.9</td>\n",
       "      <td>4.9</td>\n",
       "    </tr>\n",
       "    <tr>\n",
       "      <th>2</th>\n",
       "      <td>9.2</td>\n",
       "      <td>3.4</td>\n",
       "      <td>5.6</td>\n",
       "      <td>5.6</td>\n",
       "      <td>5.4</td>\n",
       "      <td>7.4</td>\n",
       "      <td>5.8</td>\n",
       "      <td>4.5</td>\n",
       "      <td>6.2</td>\n",
       "      <td>5.4</td>\n",
       "      <td>4.5</td>\n",
       "    </tr>\n",
       "    <tr>\n",
       "      <th>3</th>\n",
       "      <td>6.4</td>\n",
       "      <td>3.3</td>\n",
       "      <td>7.0</td>\n",
       "      <td>3.7</td>\n",
       "      <td>4.7</td>\n",
       "      <td>4.7</td>\n",
       "      <td>4.5</td>\n",
       "      <td>8.8</td>\n",
       "      <td>7.0</td>\n",
       "      <td>4.3</td>\n",
       "      <td>3.0</td>\n",
       "    </tr>\n",
       "    <tr>\n",
       "      <th>4</th>\n",
       "      <td>9.0</td>\n",
       "      <td>3.4</td>\n",
       "      <td>5.2</td>\n",
       "      <td>4.6</td>\n",
       "      <td>2.2</td>\n",
       "      <td>6.0</td>\n",
       "      <td>4.5</td>\n",
       "      <td>6.8</td>\n",
       "      <td>6.1</td>\n",
       "      <td>4.5</td>\n",
       "      <td>3.5</td>\n",
       "    </tr>\n",
       "  </tbody>\n",
       "</table>\n",
       "</div>"
      ],
      "text/plain": [
       "   ProdQual  Ecom  TechSup  CompRes  Advertising  ProdLine  SalesFImage  \\\n",
       "0       8.5   3.9      2.5      5.9          4.8       4.9          6.0   \n",
       "1       8.2   2.7      5.1      7.2          3.4       7.9          3.1   \n",
       "2       9.2   3.4      5.6      5.6          5.4       7.4          5.8   \n",
       "3       6.4   3.3      7.0      3.7          4.7       4.7          4.5   \n",
       "4       9.0   3.4      5.2      4.6          2.2       6.0          4.5   \n",
       "\n",
       "   ComPricing  WartyClaim  OrdBilling  DelSpeed  \n",
       "0         6.8         4.7         5.0       3.7  \n",
       "1         5.3         5.5         3.9       4.9  \n",
       "2         4.5         6.2         5.4       4.5  \n",
       "3         8.8         7.0         4.3       3.0  \n",
       "4         6.8         6.1         4.5       3.5  "
      ]
     },
     "execution_count": 245,
     "metadata": {},
     "output_type": "execute_result"
    }
   ],
   "source": [
    "df1.head()"
   ]
  },
  {
   "cell_type": "code",
   "execution_count": 246,
   "metadata": {},
   "outputs": [
    {
     "data": {
      "text/html": [
       "<div>\n",
       "<style scoped>\n",
       "    .dataframe tbody tr th:only-of-type {\n",
       "        vertical-align: middle;\n",
       "    }\n",
       "\n",
       "    .dataframe tbody tr th {\n",
       "        vertical-align: top;\n",
       "    }\n",
       "\n",
       "    .dataframe thead th {\n",
       "        text-align: right;\n",
       "    }\n",
       "</style>\n",
       "<table border=\"1\" class=\"dataframe\">\n",
       "  <thead>\n",
       "    <tr style=\"text-align: right;\">\n",
       "      <th></th>\n",
       "      <th>count</th>\n",
       "      <th>mean</th>\n",
       "      <th>std</th>\n",
       "      <th>min</th>\n",
       "      <th>25%</th>\n",
       "      <th>50%</th>\n",
       "      <th>75%</th>\n",
       "      <th>max</th>\n",
       "    </tr>\n",
       "  </thead>\n",
       "  <tbody>\n",
       "    <tr>\n",
       "      <th>ProdQual</th>\n",
       "      <td>100.0</td>\n",
       "      <td>7.810</td>\n",
       "      <td>1.396279</td>\n",
       "      <td>5.0</td>\n",
       "      <td>6.575</td>\n",
       "      <td>8.00</td>\n",
       "      <td>9.100</td>\n",
       "      <td>10.0</td>\n",
       "    </tr>\n",
       "    <tr>\n",
       "      <th>Ecom</th>\n",
       "      <td>100.0</td>\n",
       "      <td>3.672</td>\n",
       "      <td>0.700516</td>\n",
       "      <td>2.2</td>\n",
       "      <td>3.275</td>\n",
       "      <td>3.60</td>\n",
       "      <td>3.925</td>\n",
       "      <td>5.7</td>\n",
       "    </tr>\n",
       "    <tr>\n",
       "      <th>TechSup</th>\n",
       "      <td>100.0</td>\n",
       "      <td>5.365</td>\n",
       "      <td>1.530457</td>\n",
       "      <td>1.3</td>\n",
       "      <td>4.250</td>\n",
       "      <td>5.40</td>\n",
       "      <td>6.625</td>\n",
       "      <td>8.5</td>\n",
       "    </tr>\n",
       "    <tr>\n",
       "      <th>CompRes</th>\n",
       "      <td>100.0</td>\n",
       "      <td>5.442</td>\n",
       "      <td>1.208403</td>\n",
       "      <td>2.6</td>\n",
       "      <td>4.600</td>\n",
       "      <td>5.45</td>\n",
       "      <td>6.325</td>\n",
       "      <td>7.8</td>\n",
       "    </tr>\n",
       "    <tr>\n",
       "      <th>Advertising</th>\n",
       "      <td>100.0</td>\n",
       "      <td>4.010</td>\n",
       "      <td>1.126943</td>\n",
       "      <td>1.9</td>\n",
       "      <td>3.175</td>\n",
       "      <td>4.00</td>\n",
       "      <td>4.800</td>\n",
       "      <td>6.5</td>\n",
       "    </tr>\n",
       "    <tr>\n",
       "      <th>ProdLine</th>\n",
       "      <td>100.0</td>\n",
       "      <td>5.805</td>\n",
       "      <td>1.315285</td>\n",
       "      <td>2.3</td>\n",
       "      <td>4.700</td>\n",
       "      <td>5.75</td>\n",
       "      <td>6.800</td>\n",
       "      <td>8.4</td>\n",
       "    </tr>\n",
       "    <tr>\n",
       "      <th>SalesFImage</th>\n",
       "      <td>100.0</td>\n",
       "      <td>5.123</td>\n",
       "      <td>1.072320</td>\n",
       "      <td>2.9</td>\n",
       "      <td>4.500</td>\n",
       "      <td>4.90</td>\n",
       "      <td>5.800</td>\n",
       "      <td>8.2</td>\n",
       "    </tr>\n",
       "    <tr>\n",
       "      <th>ComPricing</th>\n",
       "      <td>100.0</td>\n",
       "      <td>6.974</td>\n",
       "      <td>1.545055</td>\n",
       "      <td>3.7</td>\n",
       "      <td>5.875</td>\n",
       "      <td>7.10</td>\n",
       "      <td>8.400</td>\n",
       "      <td>9.9</td>\n",
       "    </tr>\n",
       "    <tr>\n",
       "      <th>WartyClaim</th>\n",
       "      <td>100.0</td>\n",
       "      <td>6.043</td>\n",
       "      <td>0.819738</td>\n",
       "      <td>4.1</td>\n",
       "      <td>5.400</td>\n",
       "      <td>6.10</td>\n",
       "      <td>6.600</td>\n",
       "      <td>8.1</td>\n",
       "    </tr>\n",
       "    <tr>\n",
       "      <th>OrdBilling</th>\n",
       "      <td>100.0</td>\n",
       "      <td>4.278</td>\n",
       "      <td>0.928840</td>\n",
       "      <td>2.0</td>\n",
       "      <td>3.700</td>\n",
       "      <td>4.40</td>\n",
       "      <td>4.800</td>\n",
       "      <td>6.7</td>\n",
       "    </tr>\n",
       "    <tr>\n",
       "      <th>DelSpeed</th>\n",
       "      <td>100.0</td>\n",
       "      <td>3.886</td>\n",
       "      <td>0.734437</td>\n",
       "      <td>1.6</td>\n",
       "      <td>3.400</td>\n",
       "      <td>3.90</td>\n",
       "      <td>4.425</td>\n",
       "      <td>5.5</td>\n",
       "    </tr>\n",
       "  </tbody>\n",
       "</table>\n",
       "</div>"
      ],
      "text/plain": [
       "             count   mean       std  min    25%   50%    75%   max\n",
       "ProdQual     100.0  7.810  1.396279  5.0  6.575  8.00  9.100  10.0\n",
       "Ecom         100.0  3.672  0.700516  2.2  3.275  3.60  3.925   5.7\n",
       "TechSup      100.0  5.365  1.530457  1.3  4.250  5.40  6.625   8.5\n",
       "CompRes      100.0  5.442  1.208403  2.6  4.600  5.45  6.325   7.8\n",
       "Advertising  100.0  4.010  1.126943  1.9  3.175  4.00  4.800   6.5\n",
       "ProdLine     100.0  5.805  1.315285  2.3  4.700  5.75  6.800   8.4\n",
       "SalesFImage  100.0  5.123  1.072320  2.9  4.500  4.90  5.800   8.2\n",
       "ComPricing   100.0  6.974  1.545055  3.7  5.875  7.10  8.400   9.9\n",
       "WartyClaim   100.0  6.043  0.819738  4.1  5.400  6.10  6.600   8.1\n",
       "OrdBilling   100.0  4.278  0.928840  2.0  3.700  4.40  4.800   6.7\n",
       "DelSpeed     100.0  3.886  0.734437  1.6  3.400  3.90  4.425   5.5"
      ]
     },
     "execution_count": 246,
     "metadata": {},
     "output_type": "execute_result"
    }
   ],
   "source": [
    "df1.describe(include=\"all\").T"
   ]
  },
  {
   "cell_type": "code",
   "execution_count": 247,
   "metadata": {},
   "outputs": [],
   "source": [
    "# Univariate analysis"
   ]
  },
  {
   "cell_type": "code",
   "execution_count": 248,
   "metadata": {},
   "outputs": [
    {
     "name": "stdout",
     "output_type": "stream",
     "text": [
      "<class 'pandas.core.frame.DataFrame'>\n",
      "RangeIndex: 100 entries, 0 to 99\n",
      "Data columns (total 11 columns):\n",
      " #   Column       Non-Null Count  Dtype  \n",
      "---  ------       --------------  -----  \n",
      " 0   ProdQual     100 non-null    float64\n",
      " 1   Ecom         100 non-null    float64\n",
      " 2   TechSup      100 non-null    float64\n",
      " 3   CompRes      100 non-null    float64\n",
      " 4   Advertising  100 non-null    float64\n",
      " 5   ProdLine     100 non-null    float64\n",
      " 6   SalesFImage  100 non-null    float64\n",
      " 7   ComPricing   100 non-null    float64\n",
      " 8   WartyClaim   100 non-null    float64\n",
      " 9   OrdBilling   100 non-null    float64\n",
      " 10  DelSpeed     100 non-null    float64\n",
      "dtypes: float64(11)\n",
      "memory usage: 8.7 KB\n"
     ]
    }
   ],
   "source": [
    "df1.info()"
   ]
  },
  {
   "cell_type": "code",
   "execution_count": 249,
   "metadata": {},
   "outputs": [
    {
     "data": {
      "image/png": "[encoded data removed]",
      "text/plain": [
       "<Figure size 864x432 with 2 Axes>"
      ]
     },
     "metadata": {
      "needs_background": "light"
     },
     "output_type": "display_data"
    },
    {
     "data": {
      "image/png": "[encoded data removed]",
      "text/plain": [
       "<Figure size 864x432 with 2 Axes>"
      ]
     },
     "metadata": {
      "needs_background": "light"
     },
     "output_type": "display_data"
    },
    {
     "data": {
      "image/png": "[encoded data removed]",
      "text/plain": [
       "<Figure size 864x432 with 2 Axes>"
      ]
     },
     "metadata": {
      "needs_background": "light"
     },
     "output_type": "display_data"
    },
    {
     "data": {
      "image/png": "[encoded data removed]",
      "text/plain": [
       "<Figure size 864x432 with 2 Axes>"
      ]
     },
     "metadata": {
      "needs_background": "light"
     },
     "output_type": "display_data"
    },
    {
     "data": {
      "image/png": "[encoded data removed]",
      "text/plain": [
       "<Figure size 864x432 with 2 Axes>"
      ]
     },
     "metadata": {
      "needs_background": "light"
     },
     "output_type": "display_data"
    },
    {
     "data": {
      "image/png": "[encoded data removed]",
      "text/plain": [
       "<Figure size 864x432 with 2 Axes>"
      ]
     },
     "metadata": {
      "needs_background": "light"
     },
     "output_type": "display_data"
    },
    {
     "data": {
      "image/png": "[encoded data removed]",
      "text/plain": [
       "<Figure size 864x432 with 2 Axes>"
      ]
     },
     "metadata": {
      "needs_background": "light"
     },
     "output_type": "display_data"
    },
    {
     "data": {
      "image/png": "[encoded data removed]",
      "text/plain": [
       "<Figure size 864x432 with 2 Axes>"
      ]
     },
     "metadata": {
      "needs_background": "light"
     },
     "output_type": "display_data"
    },
    {
     "data": {
      "image/png": "[encoded data removed]",
      "text/plain": [
       "<Figure size 864x432 with 2 Axes>"
      ]
     },
     "metadata": {
      "needs_background": "light"
     },
     "output_type": "display_data"
    },
    {
     "data": {
      "image/png": "[encoded data removed]",
      "text/plain": [
       "<Figure size 864x432 with 2 Axes>"
      ]
     },
     "metadata": {
      "needs_background": "light"
     },
     "output_type": "display_data"
    },
    {
     "data": {
      "image/png": "[encoded data removed]",
      "text/plain": [
       "<Figure size 864x432 with 2 Axes>"
      ]
     },
     "metadata": {
      "needs_background": "light"
     },
     "output_type": "display_data"
    }
   ],
   "source": [
    "for cols in df1:\n",
    "    plt.figure(figsize=(12,6))\n",
    "    plt.subplot(1,2,1)\n",
    "    sns.histplot(df1[cols], kde=True)\n",
    "    plt.subplot(1,2,2)\n",
    "    sns.boxplot(df1[cols], showmeans=True)"
   ]
  },
  {
   "cell_type": "code",
   "execution_count": 250,
   "metadata": {},
   "outputs": [],
   "source": [
    "# Bivariate analysis"
   ]
  },
  {
   "cell_type": "code",
   "execution_count": 251,
   "metadata": {},
   "outputs": [
    {
     "name": "stdout",
     "output_type": "stream",
     "text": [
      "<class 'pandas.core.frame.DataFrame'>\n",
      "RangeIndex: 100 entries, 0 to 99\n",
      "Data columns (total 11 columns):\n",
      " #   Column       Non-Null Count  Dtype  \n",
      "---  ------       --------------  -----  \n",
      " 0   ProdQual     100 non-null    float64\n",
      " 1   Ecom         100 non-null    float64\n",
      " 2   TechSup      100 non-null    float64\n",
      " 3   CompRes      100 non-null    float64\n",
      " 4   Advertising  100 non-null    float64\n",
      " 5   ProdLine     100 non-null    float64\n",
      " 6   SalesFImage  100 non-null    float64\n",
      " 7   ComPricing   100 non-null    float64\n",
      " 8   WartyClaim   100 non-null    float64\n",
      " 9   OrdBilling   100 non-null    float64\n",
      " 10  DelSpeed     100 non-null    float64\n",
      "dtypes: float64(11)\n",
      "memory usage: 8.7 KB\n"
     ]
    }
   ],
   "source": [
    "df1.info()"
   ]
  },
  {
   "cell_type": "code",
   "execution_count": 252,
   "metadata": {},
   "outputs": [
    {
     "data": {
      "image/png": "[encoded data removed]",
      "text/plain": [
       "<Figure size 720x432 with 1 Axes>"
      ]
     },
     "metadata": {
      "needs_background": "light"
     },
     "output_type": "display_data"
    }
   ],
   "source": [
    "plt.figure(figsize=(10,6))\n",
    "sns.scatterplot(data=df, x=df.ProdQual, y=df.Satisfaction);"
   ]
  },
  {
   "cell_type": "code",
   "execution_count": 253,
   "metadata": {},
   "outputs": [
    {
     "data": {
      "image/png": "[encoded data removed]",
      "text/plain": [
       "<Figure size 720x432 with 1 Axes>"
      ]
     },
     "metadata": {
      "needs_background": "light"
     },
     "output_type": "display_data"
    }
   ],
   "source": [
    "plt.figure(figsize=(10,6))\n",
    "sns.scatterplot(data=df, x=df.Ecom, y=df.Satisfaction);"
   ]
  },
  {
   "cell_type": "code",
   "execution_count": 254,
   "metadata": {},
   "outputs": [
    {
     "data": {
      "text/plain": [
       "<matplotlib.axes._subplots.AxesSubplot at 0x2449ed66f48>"
      ]
     },
     "execution_count": 254,
     "metadata": {},
     "output_type": "execute_result"
    },
    {
     "data": {
      "image/png": "[encoded data removed]",
      "text/plain": [
       "<Figure size 720x432 with 1 Axes>"
      ]
     },
     "metadata": {
      "needs_background": "light"
     },
     "output_type": "display_data"
    }
   ],
   "source": [
    "plt.figure(figsize=(10,6))\n",
    "sns.boxplot(data=df, x=df.Ecom, y=df.Satisfaction)"
   ]
  },
  {
   "cell_type": "code",
   "execution_count": 255,
   "metadata": {
    "scrolled": false
   },
   "outputs": [
    {
     "data": {
      "image/png": "[encoded data removed]",
      "text/plain": [
       "<Figure size 720x432 with 1 Axes>"
      ]
     },
     "metadata": {
      "needs_background": "light"
     },
     "output_type": "display_data"
    },
    {
     "data": {
      "image/png": "[encoded data removed]",
      "text/plain": [
       "<Figure size 720x432 with 1 Axes>"
      ]
     },
     "metadata": {
      "needs_background": "light"
     },
     "output_type": "display_data"
    },
    {
     "data": {
      "image/png": "[encoded data removed]",
      "text/plain": [
       "<Figure size 720x432 with 1 Axes>"
      ]
     },
     "metadata": {
      "needs_background": "light"
     },
     "output_type": "display_data"
    },
    {
     "data": {
      "image/png": "[encoded data removed]",
      "text/plain": [
       "<Figure size 720x432 with 1 Axes>"
      ]
     },
     "metadata": {
      "needs_background": "light"
     },
     "output_type": "display_data"
    },
    {
     "data": {
      "image/png": "[encoded data removed]",
      "text/plain": [
       "<Figure size 720x432 with 1 Axes>"
      ]
     },
     "metadata": {
      "needs_background": "light"
     },
     "output_type": "display_data"
    },
    {
     "data": {
      "image/png": "[encoded data removed]",
      "text/plain": [
       "<Figure size 720x432 with 1 Axes>"
      ]
     },
     "metadata": {
      "needs_background": "light"
     },
     "output_type": "display_data"
    },
    {
     "data": {
      "image/png": "[encoded data removed]",
      "text/plain": [
       "<Figure size 720x432 with 1 Axes>"
      ]
     },
     "metadata": {
      "needs_background": "light"
     },
     "output_type": "display_data"
    },
    {
     "data": {
      "image/png": "[encoded data removed]",
      "text/plain": [
       "<Figure size 720x432 with 1 Axes>"
      ]
     },
     "metadata": {
      "needs_background": "light"
     },
     "output_type": "display_data"
    },
    {
     "data": {
      "image/png": "[encoded data removed]",
      "text/plain": [
       "<Figure size 720x432 with 1 Axes>"
      ]
     },
     "metadata": {
      "needs_background": "light"
     },
     "output_type": "display_data"
    },
    {
     "data": {
      "image/png": "[encoded data removed]",
      "text/plain": [
       "<Figure size 720x432 with 1 Axes>"
      ]
     },
     "metadata": {
      "needs_background": "light"
     },
     "output_type": "display_data"
    },
    {
     "data": {
      "image/png": "[encoded data removed]",
      "text/plain": [
       "<Figure size 720x432 with 1 Axes>"
      ]
     },
     "metadata": {
      "needs_background": "light"
     },
     "output_type": "display_data"
    }
   ],
   "source": [
    "for cols in df1:\n",
    "    plt.figure(figsize=(10,6))\n",
    "    sns.scatterplot(data=df1, x=df1[cols], y=df.Satisfaction)\n",
    "    plt.xticks(rotation=90)"
   ]
  },
  {
   "cell_type": "code",
   "execution_count": 256,
   "metadata": {},
   "outputs": [],
   "source": [
    "# Multivariate Analysis"
   ]
  },
  {
   "cell_type": "code",
   "execution_count": 1,
   "metadata": {},
   "outputs": [
    {
     "ename": "NameError",
     "evalue": "name 'sns' is not defined",
     "output_type": "error",
     "traceback": [
      "\u001b[1;31m---------------------------------------------------------------------------\u001b[0m",
      "\u001b[1;31mNameError\u001b[0m                                 Traceback (most recent call last)",
      "\u001b[1;32m<ipython-input-1-b7d5b01a4f6b>\u001b[0m in \u001b[0;36m<module>\u001b[1;34m\u001b[0m\n\u001b[1;32m----> 1\u001b[1;33m \u001b[0msns\u001b[0m\u001b[1;33m.\u001b[0m\u001b[0mpairplot\u001b[0m\u001b[1;33m(\u001b[0m\u001b[0mdf1\u001b[0m\u001b[1;33m,\u001b[0m \u001b[0mdiag_kind\u001b[0m\u001b[1;33m=\u001b[0m\u001b[1;34m\"kde\"\u001b[0m\u001b[1;33m)\u001b[0m\u001b[1;33m;\u001b[0m\u001b[1;33m\u001b[0m\u001b[1;33m\u001b[0m\u001b[0m\n\u001b[0m",
      "\u001b[1;31mNameError\u001b[0m: name 'sns' is not defined"
     ]
    }
   ],
   "source": [
    "sns.pairplot(df1, diag_kind=\"kde\");"
   ]
  },
  {
   "cell_type": "code",
   "execution_count": 258,
   "metadata": {},
   "outputs": [
    {
     "data": {
      "text/html": [
       "<div>\n",
       "<style scoped>\n",
       "    .dataframe tbody tr th:only-of-type {\n",
       "        vertical-align: middle;\n",
       "    }\n",
       "\n",
       "    .dataframe tbody tr th {\n",
       "        vertical-align: top;\n",
       "    }\n",
       "\n",
       "    .dataframe thead th {\n",
       "        text-align: right;\n",
       "    }\n",
       "</style>\n",
       "<table border=\"1\" class=\"dataframe\">\n",
       "  <thead>\n",
       "    <tr style=\"text-align: right;\">\n",
       "      <th></th>\n",
       "      <th>ProdQual</th>\n",
       "      <th>Ecom</th>\n",
       "      <th>TechSup</th>\n",
       "      <th>CompRes</th>\n",
       "      <th>Advertising</th>\n",
       "      <th>ProdLine</th>\n",
       "      <th>SalesFImage</th>\n",
       "      <th>ComPricing</th>\n",
       "      <th>WartyClaim</th>\n",
       "      <th>OrdBilling</th>\n",
       "      <th>DelSpeed</th>\n",
       "    </tr>\n",
       "  </thead>\n",
       "  <tbody>\n",
       "    <tr>\n",
       "      <th>ProdQual</th>\n",
       "      <td>1.000000</td>\n",
       "      <td>-0.137163</td>\n",
       "      <td>0.095600</td>\n",
       "      <td>0.106370</td>\n",
       "      <td>-0.053473</td>\n",
       "      <td>0.477493</td>\n",
       "      <td>-0.151813</td>\n",
       "      <td>-0.401282</td>\n",
       "      <td>0.088312</td>\n",
       "      <td>0.104303</td>\n",
       "      <td>0.027718</td>\n",
       "    </tr>\n",
       "    <tr>\n",
       "      <th>Ecom</th>\n",
       "      <td>-0.137163</td>\n",
       "      <td>1.000000</td>\n",
       "      <td>0.000867</td>\n",
       "      <td>0.140179</td>\n",
       "      <td>0.429891</td>\n",
       "      <td>-0.052688</td>\n",
       "      <td>0.791544</td>\n",
       "      <td>0.229462</td>\n",
       "      <td>0.051898</td>\n",
       "      <td>0.156147</td>\n",
       "      <td>0.191636</td>\n",
       "    </tr>\n",
       "    <tr>\n",
       "      <th>TechSup</th>\n",
       "      <td>0.095600</td>\n",
       "      <td>0.000867</td>\n",
       "      <td>1.000000</td>\n",
       "      <td>0.096657</td>\n",
       "      <td>-0.062870</td>\n",
       "      <td>0.192625</td>\n",
       "      <td>0.016991</td>\n",
       "      <td>-0.270787</td>\n",
       "      <td>0.797168</td>\n",
       "      <td>0.080102</td>\n",
       "      <td>0.025441</td>\n",
       "    </tr>\n",
       "    <tr>\n",
       "      <th>CompRes</th>\n",
       "      <td>0.106370</td>\n",
       "      <td>0.140179</td>\n",
       "      <td>0.096657</td>\n",
       "      <td>1.000000</td>\n",
       "      <td>0.196917</td>\n",
       "      <td>0.561417</td>\n",
       "      <td>0.229752</td>\n",
       "      <td>-0.127954</td>\n",
       "      <td>0.140408</td>\n",
       "      <td>0.756869</td>\n",
       "      <td>0.865092</td>\n",
       "    </tr>\n",
       "    <tr>\n",
       "      <th>Advertising</th>\n",
       "      <td>-0.053473</td>\n",
       "      <td>0.429891</td>\n",
       "      <td>-0.062870</td>\n",
       "      <td>0.196917</td>\n",
       "      <td>1.000000</td>\n",
       "      <td>-0.011551</td>\n",
       "      <td>0.542204</td>\n",
       "      <td>0.134217</td>\n",
       "      <td>0.010792</td>\n",
       "      <td>0.184236</td>\n",
       "      <td>0.275863</td>\n",
       "    </tr>\n",
       "    <tr>\n",
       "      <th>ProdLine</th>\n",
       "      <td>0.477493</td>\n",
       "      <td>-0.052688</td>\n",
       "      <td>0.192625</td>\n",
       "      <td>0.561417</td>\n",
       "      <td>-0.011551</td>\n",
       "      <td>1.000000</td>\n",
       "      <td>-0.061316</td>\n",
       "      <td>-0.494948</td>\n",
       "      <td>0.273078</td>\n",
       "      <td>0.424408</td>\n",
       "      <td>0.601850</td>\n",
       "    </tr>\n",
       "    <tr>\n",
       "      <th>SalesFImage</th>\n",
       "      <td>-0.151813</td>\n",
       "      <td>0.791544</td>\n",
       "      <td>0.016991</td>\n",
       "      <td>0.229752</td>\n",
       "      <td>0.542204</td>\n",
       "      <td>-0.061316</td>\n",
       "      <td>1.000000</td>\n",
       "      <td>0.264597</td>\n",
       "      <td>0.107455</td>\n",
       "      <td>0.195127</td>\n",
       "      <td>0.271551</td>\n",
       "    </tr>\n",
       "    <tr>\n",
       "      <th>ComPricing</th>\n",
       "      <td>-0.401282</td>\n",
       "      <td>0.229462</td>\n",
       "      <td>-0.270787</td>\n",
       "      <td>-0.127954</td>\n",
       "      <td>0.134217</td>\n",
       "      <td>-0.494948</td>\n",
       "      <td>0.264597</td>\n",
       "      <td>1.000000</td>\n",
       "      <td>-0.244986</td>\n",
       "      <td>-0.114567</td>\n",
       "      <td>-0.072872</td>\n",
       "    </tr>\n",
       "    <tr>\n",
       "      <th>WartyClaim</th>\n",
       "      <td>0.088312</td>\n",
       "      <td>0.051898</td>\n",
       "      <td>0.797168</td>\n",
       "      <td>0.140408</td>\n",
       "      <td>0.010792</td>\n",
       "      <td>0.273078</td>\n",
       "      <td>0.107455</td>\n",
       "      <td>-0.244986</td>\n",
       "      <td>1.000000</td>\n",
       "      <td>0.197065</td>\n",
       "      <td>0.109395</td>\n",
       "    </tr>\n",
       "    <tr>\n",
       "      <th>OrdBilling</th>\n",
       "      <td>0.104303</td>\n",
       "      <td>0.156147</td>\n",
       "      <td>0.080102</td>\n",
       "      <td>0.756869</td>\n",
       "      <td>0.184236</td>\n",
       "      <td>0.424408</td>\n",
       "      <td>0.195127</td>\n",
       "      <td>-0.114567</td>\n",
       "      <td>0.197065</td>\n",
       "      <td>1.000000</td>\n",
       "      <td>0.751003</td>\n",
       "    </tr>\n",
       "    <tr>\n",
       "      <th>DelSpeed</th>\n",
       "      <td>0.027718</td>\n",
       "      <td>0.191636</td>\n",
       "      <td>0.025441</td>\n",
       "      <td>0.865092</td>\n",
       "      <td>0.275863</td>\n",
       "      <td>0.601850</td>\n",
       "      <td>0.271551</td>\n",
       "      <td>-0.072872</td>\n",
       "      <td>0.109395</td>\n",
       "      <td>0.751003</td>\n",
       "      <td>1.000000</td>\n",
       "    </tr>\n",
       "  </tbody>\n",
       "</table>\n",
       "</div>"
      ],
      "text/plain": [
       "             ProdQual      Ecom   TechSup   CompRes  Advertising  ProdLine  \\\n",
       "ProdQual     1.000000 -0.137163  0.095600  0.106370    -0.053473  0.477493   \n",
       "Ecom        -0.137163  1.000000  0.000867  0.140179     0.429891 -0.052688   \n",
       "TechSup      0.095600  0.000867  1.000000  0.096657    -0.062870  0.192625   \n",
       "CompRes      0.106370  0.140179  0.096657  1.000000     0.196917  0.561417   \n",
       "Advertising -0.053473  0.429891 -0.062870  0.196917     1.000000 -0.011551   \n",
       "ProdLine     0.477493 -0.052688  0.192625  0.561417    -0.011551  1.000000   \n",
       "SalesFImage -0.151813  0.791544  0.016991  0.229752     0.542204 -0.061316   \n",
       "ComPricing  -0.401282  0.229462 -0.270787 -0.127954     0.134217 -0.494948   \n",
       "WartyClaim   0.088312  0.051898  0.797168  0.140408     0.010792  0.273078   \n",
       "OrdBilling   0.104303  0.156147  0.080102  0.756869     0.184236  0.424408   \n",
       "DelSpeed     0.027718  0.191636  0.025441  0.865092     0.275863  0.601850   \n",
       "\n",
       "             SalesFImage  ComPricing  WartyClaim  OrdBilling  DelSpeed  \n",
       "ProdQual       -0.151813   -0.401282    0.088312    0.104303  0.027718  \n",
       "Ecom            0.791544    0.229462    0.051898    0.156147  0.191636  \n",
       "TechSup         0.016991   -0.270787    0.797168    0.080102  0.025441  \n",
       "CompRes         0.229752   -0.127954    0.140408    0.756869  0.865092  \n",
       "Advertising     0.542204    0.134217    0.010792    0.184236  0.275863  \n",
       "ProdLine       -0.061316   -0.494948    0.273078    0.424408  0.601850  \n",
       "SalesFImage     1.000000    0.264597    0.107455    0.195127  0.271551  \n",
       "ComPricing      0.264597    1.000000   -0.244986   -0.114567 -0.072872  \n",
       "WartyClaim      0.107455   -0.244986    1.000000    0.197065  0.109395  \n",
       "OrdBilling      0.195127   -0.114567    0.197065    1.000000  0.751003  \n",
       "DelSpeed        0.271551   -0.072872    0.109395    0.751003  1.000000  "
      ]
     },
     "execution_count": 258,
     "metadata": {},
     "output_type": "execute_result"
    }
   ],
   "source": [
    "corr=df1.corr()\n",
    "corr # of the observation we can conclude that the corellation matrix of the dataset gives us no clear indicgiving it is a false negitive result."
   ]
  },
  {
   "cell_type": "code",
   "execution_count": 259,
   "metadata": {},
   "outputs": [
    {
     "data": {
      "image/png": "[encoded data removed]",
      "text/plain": [
       "<Figure size 1080x576 with 2 Axes>"
      ]
     },
     "metadata": {
      "needs_background": "light"
     },
     "output_type": "display_data"
    }
   ],
   "source": [
    "plt.figure(figsize=(15,8))\n",
    "sns.heatmap(corr, annot=True, mask=np.triu(corr, +1));"
   ]
  },
  {
   "cell_type": "code",
   "execution_count": 260,
   "metadata": {},
   "outputs": [],
   "source": [
    "# Scaling the data using zscore"
   ]
  },
  {
   "cell_type": "code",
   "execution_count": 261,
   "metadata": {},
   "outputs": [
    {
     "data": {
      "text/html": [
       "<div>\n",
       "<style scoped>\n",
       "    .dataframe tbody tr th:only-of-type {\n",
       "        vertical-align: middle;\n",
       "    }\n",
       "\n",
       "    .dataframe tbody tr th {\n",
       "        vertical-align: top;\n",
       "    }\n",
       "\n",
       "    .dataframe thead th {\n",
       "        text-align: right;\n",
       "    }\n",
       "</style>\n",
       "<table border=\"1\" class=\"dataframe\">\n",
       "  <thead>\n",
       "    <tr style=\"text-align: right;\">\n",
       "      <th></th>\n",
       "      <th>ProdQual</th>\n",
       "      <th>Ecom</th>\n",
       "      <th>TechSup</th>\n",
       "      <th>CompRes</th>\n",
       "      <th>Advertising</th>\n",
       "      <th>ProdLine</th>\n",
       "      <th>SalesFImage</th>\n",
       "      <th>ComPricing</th>\n",
       "      <th>WartyClaim</th>\n",
       "      <th>OrdBilling</th>\n",
       "      <th>DelSpeed</th>\n",
       "    </tr>\n",
       "  </thead>\n",
       "  <tbody>\n",
       "    <tr>\n",
       "      <th>0</th>\n",
       "      <td>0.496660</td>\n",
       "      <td>0.327114</td>\n",
       "      <td>-1.881421</td>\n",
       "      <td>0.380922</td>\n",
       "      <td>0.704543</td>\n",
       "      <td>-0.691530</td>\n",
       "      <td>0.821973</td>\n",
       "      <td>-0.113185</td>\n",
       "      <td>-1.646582</td>\n",
       "      <td>0.781230</td>\n",
       "      <td>-0.254531</td>\n",
       "    </tr>\n",
       "    <tr>\n",
       "      <th>1</th>\n",
       "      <td>0.280721</td>\n",
       "      <td>-1.394538</td>\n",
       "      <td>-0.174023</td>\n",
       "      <td>1.462141</td>\n",
       "      <td>-0.544014</td>\n",
       "      <td>1.600835</td>\n",
       "      <td>-1.896068</td>\n",
       "      <td>-1.088915</td>\n",
       "      <td>-0.665744</td>\n",
       "      <td>-0.409009</td>\n",
       "      <td>1.387605</td>\n",
       "    </tr>\n",
       "    <tr>\n",
       "      <th>2</th>\n",
       "      <td>1.000518</td>\n",
       "      <td>-0.390241</td>\n",
       "      <td>0.154322</td>\n",
       "      <td>0.131410</td>\n",
       "      <td>1.239639</td>\n",
       "      <td>1.218774</td>\n",
       "      <td>0.634522</td>\n",
       "      <td>-1.609304</td>\n",
       "      <td>0.192489</td>\n",
       "      <td>1.214044</td>\n",
       "      <td>0.840226</td>\n",
       "    </tr>\n",
       "    <tr>\n",
       "      <th>3</th>\n",
       "      <td>-1.014914</td>\n",
       "      <td>-0.533712</td>\n",
       "      <td>1.073690</td>\n",
       "      <td>-1.448834</td>\n",
       "      <td>0.615361</td>\n",
       "      <td>-0.844354</td>\n",
       "      <td>-0.583910</td>\n",
       "      <td>1.187789</td>\n",
       "      <td>1.173327</td>\n",
       "      <td>0.023805</td>\n",
       "      <td>-1.212443</td>\n",
       "    </tr>\n",
       "    <tr>\n",
       "      <th>4</th>\n",
       "      <td>0.856559</td>\n",
       "      <td>-0.390241</td>\n",
       "      <td>-0.108354</td>\n",
       "      <td>-0.700298</td>\n",
       "      <td>-1.614207</td>\n",
       "      <td>0.149004</td>\n",
       "      <td>-0.583910</td>\n",
       "      <td>-0.113185</td>\n",
       "      <td>0.069885</td>\n",
       "      <td>0.240212</td>\n",
       "      <td>-0.528220</td>\n",
       "    </tr>\n",
       "  </tbody>\n",
       "</table>\n",
       "</div>"
      ],
      "text/plain": [
       "   ProdQual      Ecom   TechSup   CompRes  Advertising  ProdLine  SalesFImage  \\\n",
       "0  0.496660  0.327114 -1.881421  0.380922     0.704543 -0.691530     0.821973   \n",
       "1  0.280721 -1.394538 -0.174023  1.462141    -0.544014  1.600835    -1.896068   \n",
       "2  1.000518 -0.390241  0.154322  0.131410     1.239639  1.218774     0.634522   \n",
       "3 -1.014914 -0.533712  1.073690 -1.448834     0.615361 -0.844354    -0.583910   \n",
       "4  0.856559 -0.390241 -0.108354 -0.700298    -1.614207  0.149004    -0.583910   \n",
       "\n",
       "   ComPricing  WartyClaim  OrdBilling  DelSpeed  \n",
       "0   -0.113185   -1.646582    0.781230 -0.254531  \n",
       "1   -1.088915   -0.665744   -0.409009  1.387605  \n",
       "2   -1.609304    0.192489    1.214044  0.840226  \n",
       "3    1.187789    1.173327    0.023805 -1.212443  \n",
       "4   -0.113185    0.069885    0.240212 -0.528220  "
      ]
     },
     "execution_count": 261,
     "metadata": {},
     "output_type": "execute_result"
    }
   ],
   "source": [
    "from scipy.stats import zscore\n",
    "df_scaled= df1.apply(zscore)\n",
    "df_scaled.head()"
   ]
  },
  {
   "cell_type": "code",
   "execution_count": 262,
   "metadata": {},
   "outputs": [
    {
     "data": {
      "text/plain": [
       "array([[ 1.01010101e+00, -1.38548704e-01,  9.65661154e-02,\n",
       "         1.07444445e-01, -5.40132667e-02,  4.82316579e-01,\n",
       "        -1.53346338e-01, -4.05335236e-01,  8.92043497e-02,\n",
       "         1.05356640e-01,  2.79979825e-02],\n",
       "       [-1.38548704e-01,  1.01010101e+00,  8.75544162e-04,\n",
       "         1.41595213e-01,  4.34233041e-01, -5.32200387e-02,\n",
       "         7.99539102e-01,  2.31780203e-01,  5.24224157e-02,\n",
       "         1.57724577e-01,  1.93571786e-01],\n",
       "       [ 9.65661154e-02,  8.75544162e-04,  1.01010101e+00,\n",
       "         9.76329270e-02, -6.35051180e-02,  1.94571168e-01,\n",
       "         1.71621612e-02, -2.73521901e-01,  8.05220127e-01,\n",
       "         8.09109340e-02,  2.56976702e-02],\n",
       "       [ 1.07444445e-01,  1.41595213e-01,  9.76329270e-02,\n",
       "         1.01010101e+00,  1.98905906e-01,  5.67087831e-01,\n",
       "         2.32072486e-01, -1.29246720e-01,  1.41826562e-01,\n",
       "         7.64513729e-01,  8.73829997e-01],\n",
       "       [-5.40132667e-02,  4.34233041e-01, -6.35051180e-02,\n",
       "         1.98905906e-01,  1.01010101e+00, -1.16674936e-02,\n",
       "         5.47680463e-01,  1.35572620e-01,  1.09010852e-02,\n",
       "         1.86096560e-01,  2.78649579e-01],\n",
       "       [ 4.82316579e-01, -5.32200387e-02,  1.94571168e-01,\n",
       "         5.67087831e-01, -1.16674936e-02,  1.01010101e+00,\n",
       "        -6.19348764e-02, -4.99947880e-01,  2.75835887e-01,\n",
       "         4.28695202e-01,  6.07929503e-01],\n",
       "       [-1.53346338e-01,  7.99539102e-01,  1.71621612e-02,\n",
       "         2.32072486e-01,  5.47680463e-01, -6.19348764e-02,\n",
       "         1.01010101e+00,  2.67269246e-01,  1.08540752e-01,\n",
       "         1.97098390e-01,  2.74294201e-01],\n",
       "       [-4.05335236e-01,  2.31780203e-01, -2.73521901e-01,\n",
       "        -1.29246720e-01,  1.35572620e-01, -4.99947880e-01,\n",
       "         2.67269246e-01,  1.01010101e+00, -2.47460661e-01,\n",
       "        -1.15724268e-01, -7.36078070e-02],\n",
       "       [ 8.92043497e-02,  5.24224157e-02,  8.05220127e-01,\n",
       "         1.41826562e-01,  1.09010852e-02,  2.75835887e-01,\n",
       "         1.08540752e-01, -2.47460661e-01,  1.01010101e+00,\n",
       "         1.99055678e-01,  1.10499598e-01],\n",
       "       [ 1.05356640e-01,  1.57724577e-01,  8.09109340e-02,\n",
       "         7.64513729e-01,  1.86096560e-01,  4.28695202e-01,\n",
       "         1.97098390e-01, -1.15724268e-01,  1.99055678e-01,\n",
       "         1.01010101e+00,  7.58588957e-01],\n",
       "       [ 2.79979825e-02,  1.93571786e-01,  2.56976702e-02,\n",
       "         8.73829997e-01,  2.78649579e-01,  6.07929503e-01,\n",
       "         2.74294201e-01, -7.36078070e-02,  1.10499598e-01,\n",
       "         7.58588957e-01,  1.01010101e+00]])"
      ]
     },
     "execution_count": 262,
     "metadata": {},
     "output_type": "execute_result"
    }
   ],
   "source": [
    "cov_matrix = np.cov(df_scaled.T)\n",
    "cov_matrix"
   ]
  },
  {
   "cell_type": "code",
   "execution_count": 263,
   "metadata": {},
   "outputs": [
    {
     "data": {
      "text/html": [
       "<div>\n",
       "<style scoped>\n",
       "    .dataframe tbody tr th:only-of-type {\n",
       "        vertical-align: middle;\n",
       "    }\n",
       "\n",
       "    .dataframe tbody tr th {\n",
       "        vertical-align: top;\n",
       "    }\n",
       "\n",
       "    .dataframe thead th {\n",
       "        text-align: right;\n",
       "    }\n",
       "</style>\n",
       "<table border=\"1\" class=\"dataframe\">\n",
       "  <thead>\n",
       "    <tr style=\"text-align: right;\">\n",
       "      <th></th>\n",
       "      <th>ProdQual</th>\n",
       "      <th>Ecom</th>\n",
       "      <th>TechSup</th>\n",
       "      <th>CompRes</th>\n",
       "      <th>Advertising</th>\n",
       "      <th>ProdLine</th>\n",
       "      <th>SalesFImage</th>\n",
       "      <th>ComPricing</th>\n",
       "      <th>WartyClaim</th>\n",
       "      <th>OrdBilling</th>\n",
       "      <th>DelSpeed</th>\n",
       "    </tr>\n",
       "  </thead>\n",
       "  <tbody>\n",
       "    <tr>\n",
       "      <th>ProdQual</th>\n",
       "      <td>1.010101</td>\n",
       "      <td>-0.138549</td>\n",
       "      <td>0.096566</td>\n",
       "      <td>0.107444</td>\n",
       "      <td>-0.054013</td>\n",
       "      <td>0.482317</td>\n",
       "      <td>-0.153346</td>\n",
       "      <td>-0.405335</td>\n",
       "      <td>0.089204</td>\n",
       "      <td>0.105357</td>\n",
       "      <td>0.027998</td>\n",
       "    </tr>\n",
       "    <tr>\n",
       "      <th>Ecom</th>\n",
       "      <td>-0.138549</td>\n",
       "      <td>1.010101</td>\n",
       "      <td>0.000876</td>\n",
       "      <td>0.141595</td>\n",
       "      <td>0.434233</td>\n",
       "      <td>-0.053220</td>\n",
       "      <td>0.799539</td>\n",
       "      <td>0.231780</td>\n",
       "      <td>0.052422</td>\n",
       "      <td>0.157725</td>\n",
       "      <td>0.193572</td>\n",
       "    </tr>\n",
       "    <tr>\n",
       "      <th>TechSup</th>\n",
       "      <td>0.096566</td>\n",
       "      <td>0.000876</td>\n",
       "      <td>1.010101</td>\n",
       "      <td>0.097633</td>\n",
       "      <td>-0.063505</td>\n",
       "      <td>0.194571</td>\n",
       "      <td>0.017162</td>\n",
       "      <td>-0.273522</td>\n",
       "      <td>0.805220</td>\n",
       "      <td>0.080911</td>\n",
       "      <td>0.025698</td>\n",
       "    </tr>\n",
       "    <tr>\n",
       "      <th>CompRes</th>\n",
       "      <td>0.107444</td>\n",
       "      <td>0.141595</td>\n",
       "      <td>0.097633</td>\n",
       "      <td>1.010101</td>\n",
       "      <td>0.198906</td>\n",
       "      <td>0.567088</td>\n",
       "      <td>0.232072</td>\n",
       "      <td>-0.129247</td>\n",
       "      <td>0.141827</td>\n",
       "      <td>0.764514</td>\n",
       "      <td>0.873830</td>\n",
       "    </tr>\n",
       "    <tr>\n",
       "      <th>Advertising</th>\n",
       "      <td>-0.054013</td>\n",
       "      <td>0.434233</td>\n",
       "      <td>-0.063505</td>\n",
       "      <td>0.198906</td>\n",
       "      <td>1.010101</td>\n",
       "      <td>-0.011667</td>\n",
       "      <td>0.547680</td>\n",
       "      <td>0.135573</td>\n",
       "      <td>0.010901</td>\n",
       "      <td>0.186097</td>\n",
       "      <td>0.278650</td>\n",
       "    </tr>\n",
       "    <tr>\n",
       "      <th>ProdLine</th>\n",
       "      <td>0.482317</td>\n",
       "      <td>-0.053220</td>\n",
       "      <td>0.194571</td>\n",
       "      <td>0.567088</td>\n",
       "      <td>-0.011667</td>\n",
       "      <td>1.010101</td>\n",
       "      <td>-0.061935</td>\n",
       "      <td>-0.499948</td>\n",
       "      <td>0.275836</td>\n",
       "      <td>0.428695</td>\n",
       "      <td>0.607930</td>\n",
       "    </tr>\n",
       "    <tr>\n",
       "      <th>SalesFImage</th>\n",
       "      <td>-0.153346</td>\n",
       "      <td>0.799539</td>\n",
       "      <td>0.017162</td>\n",
       "      <td>0.232072</td>\n",
       "      <td>0.547680</td>\n",
       "      <td>-0.061935</td>\n",
       "      <td>1.010101</td>\n",
       "      <td>0.267269</td>\n",
       "      <td>0.108541</td>\n",
       "      <td>0.197098</td>\n",
       "      <td>0.274294</td>\n",
       "    </tr>\n",
       "    <tr>\n",
       "      <th>ComPricing</th>\n",
       "      <td>-0.405335</td>\n",
       "      <td>0.231780</td>\n",
       "      <td>-0.273522</td>\n",
       "      <td>-0.129247</td>\n",
       "      <td>0.135573</td>\n",
       "      <td>-0.499948</td>\n",
       "      <td>0.267269</td>\n",
       "      <td>1.010101</td>\n",
       "      <td>-0.247461</td>\n",
       "      <td>-0.115724</td>\n",
       "      <td>-0.073608</td>\n",
       "    </tr>\n",
       "    <tr>\n",
       "      <th>WartyClaim</th>\n",
       "      <td>0.089204</td>\n",
       "      <td>0.052422</td>\n",
       "      <td>0.805220</td>\n",
       "      <td>0.141827</td>\n",
       "      <td>0.010901</td>\n",
       "      <td>0.275836</td>\n",
       "      <td>0.108541</td>\n",
       "      <td>-0.247461</td>\n",
       "      <td>1.010101</td>\n",
       "      <td>0.199056</td>\n",
       "      <td>0.110500</td>\n",
       "    </tr>\n",
       "    <tr>\n",
       "      <th>OrdBilling</th>\n",
       "      <td>0.105357</td>\n",
       "      <td>0.157725</td>\n",
       "      <td>0.080911</td>\n",
       "      <td>0.764514</td>\n",
       "      <td>0.186097</td>\n",
       "      <td>0.428695</td>\n",
       "      <td>0.197098</td>\n",
       "      <td>-0.115724</td>\n",
       "      <td>0.199056</td>\n",
       "      <td>1.010101</td>\n",
       "      <td>0.758589</td>\n",
       "    </tr>\n",
       "    <tr>\n",
       "      <th>DelSpeed</th>\n",
       "      <td>0.027998</td>\n",
       "      <td>0.193572</td>\n",
       "      <td>0.025698</td>\n",
       "      <td>0.873830</td>\n",
       "      <td>0.278650</td>\n",
       "      <td>0.607930</td>\n",
       "      <td>0.274294</td>\n",
       "      <td>-0.073608</td>\n",
       "      <td>0.110500</td>\n",
       "      <td>0.758589</td>\n",
       "      <td>1.010101</td>\n",
       "    </tr>\n",
       "  </tbody>\n",
       "</table>\n",
       "</div>"
      ],
      "text/plain": [
       "             ProdQual      Ecom   TechSup   CompRes  Advertising  ProdLine  \\\n",
       "ProdQual     1.010101 -0.138549  0.096566  0.107444    -0.054013  0.482317   \n",
       "Ecom        -0.138549  1.010101  0.000876  0.141595     0.434233 -0.053220   \n",
       "TechSup      0.096566  0.000876  1.010101  0.097633    -0.063505  0.194571   \n",
       "CompRes      0.107444  0.141595  0.097633  1.010101     0.198906  0.567088   \n",
       "Advertising -0.054013  0.434233 -0.063505  0.198906     1.010101 -0.011667   \n",
       "ProdLine     0.482317 -0.053220  0.194571  0.567088    -0.011667  1.010101   \n",
       "SalesFImage -0.153346  0.799539  0.017162  0.232072     0.547680 -0.061935   \n",
       "ComPricing  -0.405335  0.231780 -0.273522 -0.129247     0.135573 -0.499948   \n",
       "WartyClaim   0.089204  0.052422  0.805220  0.141827     0.010901  0.275836   \n",
       "OrdBilling   0.105357  0.157725  0.080911  0.764514     0.186097  0.428695   \n",
       "DelSpeed     0.027998  0.193572  0.025698  0.873830     0.278650  0.607930   \n",
       "\n",
       "             SalesFImage  ComPricing  WartyClaim  OrdBilling  DelSpeed  \n",
       "ProdQual       -0.153346   -0.405335    0.089204    0.105357  0.027998  \n",
       "Ecom            0.799539    0.231780    0.052422    0.157725  0.193572  \n",
       "TechSup         0.017162   -0.273522    0.805220    0.080911  0.025698  \n",
       "CompRes         0.232072   -0.129247    0.141827    0.764514  0.873830  \n",
       "Advertising     0.547680    0.135573    0.010901    0.186097  0.278650  \n",
       "ProdLine       -0.061935   -0.499948    0.275836    0.428695  0.607930  \n",
       "SalesFImage     1.010101    0.267269    0.108541    0.197098  0.274294  \n",
       "ComPricing      0.267269    1.010101   -0.247461   -0.115724 -0.073608  \n",
       "WartyClaim      0.108541   -0.247461    1.010101    0.199056  0.110500  \n",
       "OrdBilling      0.197098   -0.115724    0.199056    1.010101  0.758589  \n",
       "DelSpeed        0.274294   -0.073608    0.110500    0.758589  1.010101  "
      ]
     },
     "execution_count": 263,
     "metadata": {},
     "output_type": "execute_result"
    }
   ],
   "source": [
    "df_scaled.cov()"
   ]
  },
  {
   "cell_type": "code",
   "execution_count": 264,
   "metadata": {},
   "outputs": [
    {
     "data": {
      "text/html": [
       "<div>\n",
       "<style scoped>\n",
       "    .dataframe tbody tr th:only-of-type {\n",
       "        vertical-align: middle;\n",
       "    }\n",
       "\n",
       "    .dataframe tbody tr th {\n",
       "        vertical-align: top;\n",
       "    }\n",
       "\n",
       "    .dataframe thead th {\n",
       "        text-align: right;\n",
       "    }\n",
       "</style>\n",
       "<table border=\"1\" class=\"dataframe\">\n",
       "  <thead>\n",
       "    <tr style=\"text-align: right;\">\n",
       "      <th></th>\n",
       "      <th>ProdQual</th>\n",
       "      <th>Ecom</th>\n",
       "      <th>TechSup</th>\n",
       "      <th>CompRes</th>\n",
       "      <th>Advertising</th>\n",
       "      <th>ProdLine</th>\n",
       "      <th>SalesFImage</th>\n",
       "      <th>ComPricing</th>\n",
       "      <th>WartyClaim</th>\n",
       "      <th>OrdBilling</th>\n",
       "      <th>DelSpeed</th>\n",
       "    </tr>\n",
       "  </thead>\n",
       "  <tbody>\n",
       "    <tr>\n",
       "      <th>0</th>\n",
       "      <td>8.5</td>\n",
       "      <td>3.9</td>\n",
       "      <td>2.5</td>\n",
       "      <td>5.9</td>\n",
       "      <td>4.8</td>\n",
       "      <td>4.9</td>\n",
       "      <td>6.0</td>\n",
       "      <td>6.8</td>\n",
       "      <td>4.7</td>\n",
       "      <td>5.0</td>\n",
       "      <td>3.7</td>\n",
       "    </tr>\n",
       "    <tr>\n",
       "      <th>1</th>\n",
       "      <td>8.2</td>\n",
       "      <td>2.7</td>\n",
       "      <td>5.1</td>\n",
       "      <td>7.2</td>\n",
       "      <td>3.4</td>\n",
       "      <td>7.9</td>\n",
       "      <td>3.1</td>\n",
       "      <td>5.3</td>\n",
       "      <td>5.5</td>\n",
       "      <td>3.9</td>\n",
       "      <td>4.9</td>\n",
       "    </tr>\n",
       "    <tr>\n",
       "      <th>2</th>\n",
       "      <td>9.2</td>\n",
       "      <td>3.4</td>\n",
       "      <td>5.6</td>\n",
       "      <td>5.6</td>\n",
       "      <td>5.4</td>\n",
       "      <td>7.4</td>\n",
       "      <td>5.8</td>\n",
       "      <td>4.5</td>\n",
       "      <td>6.2</td>\n",
       "      <td>5.4</td>\n",
       "      <td>4.5</td>\n",
       "    </tr>\n",
       "    <tr>\n",
       "      <th>3</th>\n",
       "      <td>6.4</td>\n",
       "      <td>3.3</td>\n",
       "      <td>7.0</td>\n",
       "      <td>3.7</td>\n",
       "      <td>4.7</td>\n",
       "      <td>4.7</td>\n",
       "      <td>4.5</td>\n",
       "      <td>8.8</td>\n",
       "      <td>7.0</td>\n",
       "      <td>4.3</td>\n",
       "      <td>3.0</td>\n",
       "    </tr>\n",
       "    <tr>\n",
       "      <th>4</th>\n",
       "      <td>9.0</td>\n",
       "      <td>3.4</td>\n",
       "      <td>5.2</td>\n",
       "      <td>4.6</td>\n",
       "      <td>2.2</td>\n",
       "      <td>6.0</td>\n",
       "      <td>4.5</td>\n",
       "      <td>6.8</td>\n",
       "      <td>6.1</td>\n",
       "      <td>4.5</td>\n",
       "      <td>3.5</td>\n",
       "    </tr>\n",
       "  </tbody>\n",
       "</table>\n",
       "</div>"
      ],
      "text/plain": [
       "   ProdQual  Ecom  TechSup  CompRes  Advertising  ProdLine  SalesFImage  \\\n",
       "0       8.5   3.9      2.5      5.9          4.8       4.9          6.0   \n",
       "1       8.2   2.7      5.1      7.2          3.4       7.9          3.1   \n",
       "2       9.2   3.4      5.6      5.6          5.4       7.4          5.8   \n",
       "3       6.4   3.3      7.0      3.7          4.7       4.7          4.5   \n",
       "4       9.0   3.4      5.2      4.6          2.2       6.0          4.5   \n",
       "\n",
       "   ComPricing  WartyClaim  OrdBilling  DelSpeed  \n",
       "0         6.8         4.7         5.0       3.7  \n",
       "1         5.3         5.5         3.9       4.9  \n",
       "2         4.5         6.2         5.4       4.5  \n",
       "3         8.8         7.0         4.3       3.0  \n",
       "4         6.8         6.1         4.5       3.5  "
      ]
     },
     "execution_count": 264,
     "metadata": {},
     "output_type": "execute_result"
    }
   ],
   "source": [
    "df1.head()"
   ]
  },
  {
   "cell_type": "code",
   "execution_count": 265,
   "metadata": {},
   "outputs": [
    {
     "data": {
      "text/html": [
       "<div>\n",
       "<style scoped>\n",
       "    .dataframe tbody tr th:only-of-type {\n",
       "        vertical-align: middle;\n",
       "    }\n",
       "\n",
       "    .dataframe tbody tr th {\n",
       "        vertical-align: top;\n",
       "    }\n",
       "\n",
       "    .dataframe thead th {\n",
       "        text-align: right;\n",
       "    }\n",
       "</style>\n",
       "<table border=\"1\" class=\"dataframe\">\n",
       "  <thead>\n",
       "    <tr style=\"text-align: right;\">\n",
       "      <th></th>\n",
       "      <th>ID</th>\n",
       "      <th>ProdQual</th>\n",
       "      <th>Ecom</th>\n",
       "      <th>TechSup</th>\n",
       "      <th>CompRes</th>\n",
       "      <th>Advertising</th>\n",
       "      <th>ProdLine</th>\n",
       "      <th>SalesFImage</th>\n",
       "      <th>ComPricing</th>\n",
       "      <th>WartyClaim</th>\n",
       "      <th>OrdBilling</th>\n",
       "      <th>DelSpeed</th>\n",
       "      <th>Satisfaction</th>\n",
       "    </tr>\n",
       "  </thead>\n",
       "  <tbody>\n",
       "    <tr>\n",
       "      <th>0</th>\n",
       "      <td>1</td>\n",
       "      <td>8.5</td>\n",
       "      <td>3.9</td>\n",
       "      <td>2.5</td>\n",
       "      <td>5.9</td>\n",
       "      <td>4.8</td>\n",
       "      <td>4.9</td>\n",
       "      <td>6.0</td>\n",
       "      <td>6.8</td>\n",
       "      <td>4.7</td>\n",
       "      <td>5.0</td>\n",
       "      <td>3.7</td>\n",
       "      <td>8.2</td>\n",
       "    </tr>\n",
       "    <tr>\n",
       "      <th>1</th>\n",
       "      <td>2</td>\n",
       "      <td>8.2</td>\n",
       "      <td>2.7</td>\n",
       "      <td>5.1</td>\n",
       "      <td>7.2</td>\n",
       "      <td>3.4</td>\n",
       "      <td>7.9</td>\n",
       "      <td>3.1</td>\n",
       "      <td>5.3</td>\n",
       "      <td>5.5</td>\n",
       "      <td>3.9</td>\n",
       "      <td>4.9</td>\n",
       "      <td>5.7</td>\n",
       "    </tr>\n",
       "    <tr>\n",
       "      <th>2</th>\n",
       "      <td>3</td>\n",
       "      <td>9.2</td>\n",
       "      <td>3.4</td>\n",
       "      <td>5.6</td>\n",
       "      <td>5.6</td>\n",
       "      <td>5.4</td>\n",
       "      <td>7.4</td>\n",
       "      <td>5.8</td>\n",
       "      <td>4.5</td>\n",
       "      <td>6.2</td>\n",
       "      <td>5.4</td>\n",
       "      <td>4.5</td>\n",
       "      <td>8.9</td>\n",
       "    </tr>\n",
       "    <tr>\n",
       "      <th>3</th>\n",
       "      <td>4</td>\n",
       "      <td>6.4</td>\n",
       "      <td>3.3</td>\n",
       "      <td>7.0</td>\n",
       "      <td>3.7</td>\n",
       "      <td>4.7</td>\n",
       "      <td>4.7</td>\n",
       "      <td>4.5</td>\n",
       "      <td>8.8</td>\n",
       "      <td>7.0</td>\n",
       "      <td>4.3</td>\n",
       "      <td>3.0</td>\n",
       "      <td>4.8</td>\n",
       "    </tr>\n",
       "    <tr>\n",
       "      <th>4</th>\n",
       "      <td>5</td>\n",
       "      <td>9.0</td>\n",
       "      <td>3.4</td>\n",
       "      <td>5.2</td>\n",
       "      <td>4.6</td>\n",
       "      <td>2.2</td>\n",
       "      <td>6.0</td>\n",
       "      <td>4.5</td>\n",
       "      <td>6.8</td>\n",
       "      <td>6.1</td>\n",
       "      <td>4.5</td>\n",
       "      <td>3.5</td>\n",
       "      <td>7.1</td>\n",
       "    </tr>\n",
       "  </tbody>\n",
       "</table>\n",
       "</div>"
      ],
      "text/plain": [
       "   ID  ProdQual  Ecom  TechSup  CompRes  Advertising  ProdLine  SalesFImage  \\\n",
       "0   1       8.5   3.9      2.5      5.9          4.8       4.9          6.0   \n",
       "1   2       8.2   2.7      5.1      7.2          3.4       7.9          3.1   \n",
       "2   3       9.2   3.4      5.6      5.6          5.4       7.4          5.8   \n",
       "3   4       6.4   3.3      7.0      3.7          4.7       4.7          4.5   \n",
       "4   5       9.0   3.4      5.2      4.6          2.2       6.0          4.5   \n",
       "\n",
       "   ComPricing  WartyClaim  OrdBilling  DelSpeed  Satisfaction  \n",
       "0         6.8         4.7         5.0       3.7           8.2  \n",
       "1         5.3         5.5         3.9       4.9           5.7  \n",
       "2         4.5         6.2         5.4       4.5           8.9  \n",
       "3         8.8         7.0         4.3       3.0           4.8  \n",
       "4         6.8         6.1         4.5       3.5           7.1  "
      ]
     },
     "execution_count": 265,
     "metadata": {},
     "output_type": "execute_result"
    }
   ],
   "source": [
    "df.head()"
   ]
  },
  {
   "cell_type": "code",
   "execution_count": 266,
   "metadata": {},
   "outputs": [
    {
     "data": {
      "text/html": [
       "<div>\n",
       "<style scoped>\n",
       "    .dataframe tbody tr th:only-of-type {\n",
       "        vertical-align: middle;\n",
       "    }\n",
       "\n",
       "    .dataframe tbody tr th {\n",
       "        vertical-align: top;\n",
       "    }\n",
       "\n",
       "    .dataframe thead th {\n",
       "        text-align: right;\n",
       "    }\n",
       "</style>\n",
       "<table border=\"1\" class=\"dataframe\">\n",
       "  <thead>\n",
       "    <tr style=\"text-align: right;\">\n",
       "      <th></th>\n",
       "      <th>ProdQual</th>\n",
       "      <th>Ecom</th>\n",
       "      <th>TechSup</th>\n",
       "      <th>CompRes</th>\n",
       "      <th>Advertising</th>\n",
       "      <th>ProdLine</th>\n",
       "      <th>SalesFImage</th>\n",
       "      <th>ComPricing</th>\n",
       "      <th>WartyClaim</th>\n",
       "      <th>OrdBilling</th>\n",
       "      <th>DelSpeed</th>\n",
       "    </tr>\n",
       "  </thead>\n",
       "  <tbody>\n",
       "    <tr>\n",
       "      <th>0</th>\n",
       "      <td>0.496660</td>\n",
       "      <td>0.327114</td>\n",
       "      <td>-1.881421</td>\n",
       "      <td>0.380922</td>\n",
       "      <td>0.704543</td>\n",
       "      <td>-0.691530</td>\n",
       "      <td>0.821973</td>\n",
       "      <td>-0.113185</td>\n",
       "      <td>-1.646582</td>\n",
       "      <td>0.781230</td>\n",
       "      <td>-0.254531</td>\n",
       "    </tr>\n",
       "    <tr>\n",
       "      <th>1</th>\n",
       "      <td>0.280721</td>\n",
       "      <td>-1.394538</td>\n",
       "      <td>-0.174023</td>\n",
       "      <td>1.462141</td>\n",
       "      <td>-0.544014</td>\n",
       "      <td>1.600835</td>\n",
       "      <td>-1.896068</td>\n",
       "      <td>-1.088915</td>\n",
       "      <td>-0.665744</td>\n",
       "      <td>-0.409009</td>\n",
       "      <td>1.387605</td>\n",
       "    </tr>\n",
       "    <tr>\n",
       "      <th>2</th>\n",
       "      <td>1.000518</td>\n",
       "      <td>-0.390241</td>\n",
       "      <td>0.154322</td>\n",
       "      <td>0.131410</td>\n",
       "      <td>1.239639</td>\n",
       "      <td>1.218774</td>\n",
       "      <td>0.634522</td>\n",
       "      <td>-1.609304</td>\n",
       "      <td>0.192489</td>\n",
       "      <td>1.214044</td>\n",
       "      <td>0.840226</td>\n",
       "    </tr>\n",
       "    <tr>\n",
       "      <th>3</th>\n",
       "      <td>-1.014914</td>\n",
       "      <td>-0.533712</td>\n",
       "      <td>1.073690</td>\n",
       "      <td>-1.448834</td>\n",
       "      <td>0.615361</td>\n",
       "      <td>-0.844354</td>\n",
       "      <td>-0.583910</td>\n",
       "      <td>1.187789</td>\n",
       "      <td>1.173327</td>\n",
       "      <td>0.023805</td>\n",
       "      <td>-1.212443</td>\n",
       "    </tr>\n",
       "    <tr>\n",
       "      <th>4</th>\n",
       "      <td>0.856559</td>\n",
       "      <td>-0.390241</td>\n",
       "      <td>-0.108354</td>\n",
       "      <td>-0.700298</td>\n",
       "      <td>-1.614207</td>\n",
       "      <td>0.149004</td>\n",
       "      <td>-0.583910</td>\n",
       "      <td>-0.113185</td>\n",
       "      <td>0.069885</td>\n",
       "      <td>0.240212</td>\n",
       "      <td>-0.528220</td>\n",
       "    </tr>\n",
       "  </tbody>\n",
       "</table>\n",
       "</div>"
      ],
      "text/plain": [
       "   ProdQual      Ecom   TechSup   CompRes  Advertising  ProdLine  SalesFImage  \\\n",
       "0  0.496660  0.327114 -1.881421  0.380922     0.704543 -0.691530     0.821973   \n",
       "1  0.280721 -1.394538 -0.174023  1.462141    -0.544014  1.600835    -1.896068   \n",
       "2  1.000518 -0.390241  0.154322  0.131410     1.239639  1.218774     0.634522   \n",
       "3 -1.014914 -0.533712  1.073690 -1.448834     0.615361 -0.844354    -0.583910   \n",
       "4  0.856559 -0.390241 -0.108354 -0.700298    -1.614207  0.149004    -0.583910   \n",
       "\n",
       "   ComPricing  WartyClaim  OrdBilling  DelSpeed  \n",
       "0   -0.113185   -1.646582    0.781230 -0.254531  \n",
       "1   -1.088915   -0.665744   -0.409009  1.387605  \n",
       "2   -1.609304    0.192489    1.214044  0.840226  \n",
       "3    1.187789    1.173327    0.023805 -1.212443  \n",
       "4   -0.113185    0.069885    0.240212 -0.528220  "
      ]
     },
     "execution_count": 266,
     "metadata": {},
     "output_type": "execute_result"
    }
   ],
   "source": [
    "df_scaled.head()"
   ]
  },
  {
   "cell_type": "code",
   "execution_count": 267,
   "metadata": {},
   "outputs": [],
   "source": [
    "num_col= [cols for cols in df.columns if df[cols].dtype != \"object\"]"
   ]
  },
  {
   "cell_type": "code",
   "execution_count": 268,
   "metadata": {},
   "outputs": [
    {
     "data": {
      "image/png": "[encoded data removed]",
      "text/plain": [
       "<Figure size 1080x1080 with 36 Axes>"
      ]
     },
     "metadata": {
      "needs_background": "light"
     },
     "output_type": "display_data"
    }
   ],
   "source": [
    "df.plot(kind=\"box\", subplots=True, layout=(6,6), figsize=(15,15));\n",
    "#  given the "
   ]
  },
  {
   "cell_type": "code",
   "execution_count": 269,
   "metadata": {},
   "outputs": [
    {
     "data": {
      "image/png": "[encoded data removed]",
      "text/plain": [
       "<Figure size 1080x1080 with 36 Axes>"
      ]
     },
     "metadata": {
      "needs_background": "light"
     },
     "output_type": "display_data"
    }
   ],
   "source": [
    "df_scaled.plot(kind=\"box\", subplots=True, layout=(6,6), figsize=(15,15));"
   ]
  },
  {
   "cell_type": "code",
   "execution_count": 270,
   "metadata": {},
   "outputs": [],
   "source": [
    "# Covariance Matrix, Eigen values & Eigen vectors"
   ]
  },
  {
   "cell_type": "code",
   "execution_count": 271,
   "metadata": {},
   "outputs": [],
   "source": [
    "# Covariance Matrix"
   ]
  },
  {
   "cell_type": "code",
   "execution_count": 272,
   "metadata": {},
   "outputs": [
    {
     "data": {
      "text/plain": [
       "array([[ 1.01010101e+00, -1.38548704e-01,  9.65661154e-02,\n",
       "         1.07444445e-01, -5.40132667e-02,  4.82316579e-01,\n",
       "        -1.53346338e-01, -4.05335236e-01,  8.92043497e-02,\n",
       "         1.05356640e-01,  2.79979825e-02],\n",
       "       [-1.38548704e-01,  1.01010101e+00,  8.75544162e-04,\n",
       "         1.41595213e-01,  4.34233041e-01, -5.32200387e-02,\n",
       "         7.99539102e-01,  2.31780203e-01,  5.24224157e-02,\n",
       "         1.57724577e-01,  1.93571786e-01],\n",
       "       [ 9.65661154e-02,  8.75544162e-04,  1.01010101e+00,\n",
       "         9.76329270e-02, -6.35051180e-02,  1.94571168e-01,\n",
       "         1.71621612e-02, -2.73521901e-01,  8.05220127e-01,\n",
       "         8.09109340e-02,  2.56976702e-02],\n",
       "       [ 1.07444445e-01,  1.41595213e-01,  9.76329270e-02,\n",
       "         1.01010101e+00,  1.98905906e-01,  5.67087831e-01,\n",
       "         2.32072486e-01, -1.29246720e-01,  1.41826562e-01,\n",
       "         7.64513729e-01,  8.73829997e-01],\n",
       "       [-5.40132667e-02,  4.34233041e-01, -6.35051180e-02,\n",
       "         1.98905906e-01,  1.01010101e+00, -1.16674936e-02,\n",
       "         5.47680463e-01,  1.35572620e-01,  1.09010852e-02,\n",
       "         1.86096560e-01,  2.78649579e-01],\n",
       "       [ 4.82316579e-01, -5.32200387e-02,  1.94571168e-01,\n",
       "         5.67087831e-01, -1.16674936e-02,  1.01010101e+00,\n",
       "        -6.19348764e-02, -4.99947880e-01,  2.75835887e-01,\n",
       "         4.28695202e-01,  6.07929503e-01],\n",
       "       [-1.53346338e-01,  7.99539102e-01,  1.71621612e-02,\n",
       "         2.32072486e-01,  5.47680463e-01, -6.19348764e-02,\n",
       "         1.01010101e+00,  2.67269246e-01,  1.08540752e-01,\n",
       "         1.97098390e-01,  2.74294201e-01],\n",
       "       [-4.05335236e-01,  2.31780203e-01, -2.73521901e-01,\n",
       "        -1.29246720e-01,  1.35572620e-01, -4.99947880e-01,\n",
       "         2.67269246e-01,  1.01010101e+00, -2.47460661e-01,\n",
       "        -1.15724268e-01, -7.36078070e-02],\n",
       "       [ 8.92043497e-02,  5.24224157e-02,  8.05220127e-01,\n",
       "         1.41826562e-01,  1.09010852e-02,  2.75835887e-01,\n",
       "         1.08540752e-01, -2.47460661e-01,  1.01010101e+00,\n",
       "         1.99055678e-01,  1.10499598e-01],\n",
       "       [ 1.05356640e-01,  1.57724577e-01,  8.09109340e-02,\n",
       "         7.64513729e-01,  1.86096560e-01,  4.28695202e-01,\n",
       "         1.97098390e-01, -1.15724268e-01,  1.99055678e-01,\n",
       "         1.01010101e+00,  7.58588957e-01],\n",
       "       [ 2.79979825e-02,  1.93571786e-01,  2.56976702e-02,\n",
       "         8.73829997e-01,  2.78649579e-01,  6.07929503e-01,\n",
       "         2.74294201e-01, -7.36078070e-02,  1.10499598e-01,\n",
       "         7.58588957e-01,  1.01010101e+00]])"
      ]
     },
     "execution_count": 272,
     "metadata": {},
     "output_type": "execute_result"
    }
   ],
   "source": [
    "cov_matrix = np.cov(df_scaled.T)\n",
    "cov_matrix"
   ]
  },
  {
   "cell_type": "code",
   "execution_count": 273,
   "metadata": {},
   "outputs": [],
   "source": [
    "# Eigen value & Eigen Vectors"
   ]
  },
  {
   "cell_type": "code",
   "execution_count": 274,
   "metadata": {},
   "outputs": [],
   "source": [
    "e_values, e_vectors = np.linalg.eig(cov_matrix)"
   ]
  },
  {
   "cell_type": "code",
   "execution_count": 275,
   "metadata": {},
   "outputs": [
    {
     "name": "stdout",
     "output_type": "stream",
     "text": [
      "Eigen Values are: \n",
      "\n"
     ]
    },
    {
     "data": {
      "text/plain": [
       "array([3.4615872 , 2.57666335, 1.70805705, 1.09753137, 0.61557989,\n",
       "       0.55745836, 0.40557389, 0.09942123, 0.13418341, 0.249446  ,\n",
       "       0.20560936])"
      ]
     },
     "execution_count": 275,
     "metadata": {},
     "output_type": "execute_result"
    }
   ],
   "source": [
    "print(\"Eigen Values are: \\n\")\n",
    "e_values"
   ]
  },
  {
   "cell_type": "code",
   "execution_count": 276,
   "metadata": {},
   "outputs": [
    {
     "name": "stdout",
     "output_type": "stream",
     "text": [
      "Eigen Vectors are: \n",
      "\n"
     ]
    },
    {
     "data": {
      "text/plain": [
       "array([[ 0.13378962, -0.31349802,  0.06227164,  0.6431362 , -0.2316662 ,\n",
       "        -0.56456996,  0.19164132,  0.18279209,  0.06659717, -0.13547311,\n",
       "         0.0313281 ],\n",
       "       [ 0.16595278,  0.44650918, -0.23524791,  0.27238033, -0.42228844,\n",
       "         0.26325703,  0.05962621,  0.06233863,  0.28155772,  0.12202642,\n",
       "        -0.54251104],\n",
       "       [ 0.15769263, -0.23096734, -0.61095105, -0.19339314,  0.02395667,\n",
       "        -0.10876896, -0.01719992, -0.05192956, -0.3881709 , -0.46470964,\n",
       "        -0.35929961],\n",
       "       [ 0.47068359,  0.01944394,  0.21035078, -0.20632037, -0.02865743,\n",
       "        -0.02815231, -0.0084996 , -0.36253352,  0.53467243, -0.51339754,\n",
       "         0.09324751],\n",
       "       [ 0.18373495,  0.36366471, -0.08809705,  0.31789448,  0.80387024,\n",
       "        -0.20056937, -0.06306962, -0.08118684,  0.03715799,  0.05347713,\n",
       "        -0.15468169],\n",
       "       [ 0.38676517, -0.28478056,  0.11627864,  0.20290226, -0.11667416,\n",
       "         0.09819533, -0.60814755, -0.38507778, -0.23479794,  0.3332071 ,\n",
       "        -0.08415534],\n",
       "       [ 0.2036696 ,  0.47069599, -0.2413421 ,  0.22217722, -0.20437283,\n",
       "         0.10497225,  0.00143735, -0.08469869, -0.35341191, -0.16910665,\n",
       "         0.64489911],\n",
       "       [-0.15168864,  0.4134565 ,  0.05304529, -0.33354348, -0.24892601,\n",
       "        -0.70973595, -0.30824887, -0.10295751, -0.04518224,  0.09883227,\n",
       "        -0.09414389],\n",
       "       [ 0.21293363, -0.19167191, -0.59856398, -0.18530205,  0.03292706,\n",
       "        -0.13983966, -0.03064024,  0.12893245,  0.43534752,  0.4435404 ,\n",
       "         0.31756604],\n",
       "       [ 0.43721774,  0.02639905,  0.16892981, -0.23685365, -0.02675377,\n",
       "        -0.11947974,  0.65931989, -0.19415064, -0.30386545,  0.36601754,\n",
       "        -0.09907265],\n",
       "       [ 0.47308914,  0.07305172,  0.23262477, -0.1973299 ,  0.03543294,\n",
       "         0.02979992, -0.23423927,  0.77563222, -0.12010386, -0.06539059,\n",
       "        -0.02188514]])"
      ]
     },
     "execution_count": 276,
     "metadata": {},
     "output_type": "execute_result"
    }
   ],
   "source": [
    "print(\"Eigen Vectors are: \\n\")\n",
    "e_vectors"
   ]
  },
  {
   "cell_type": "code",
   "execution_count": 277,
   "metadata": {},
   "outputs": [
    {
     "name": "stdout",
     "output_type": "stream",
     "text": [
      "The variance explained by each of eigen values in order is  [31.154284801237015, 23.189970109084896, 15.37251341461132, 9.877782332815888, 5.540219044649935, 5.017125253107187, 3.6501649702912267, 2.245014042899384, 1.8504842525277274, 1.2076506994143115, 0.8947910793610918]\n"
     ]
    }
   ],
   "source": [
    "total= sum(e_values)\n",
    "var_exp= [(i/total)*100 for i in sorted(e_values, reverse=True)]\n",
    "print(\"The variance explained by each of eigen values in order is \",var_exp)"
   ]
  },
  {
   "cell_type": "code",
   "execution_count": 278,
   "metadata": {},
   "outputs": [
    {
     "name": "stdout",
     "output_type": "stream",
     "text": [
      "Cumulative Variance Explained [ 31.1542848   54.34425491  69.71676832  79.59455066  85.1347697\n",
      "  90.15189496  93.80205993  96.04707397  97.89755822  99.10520892\n",
      " 100.        ]\n"
     ]
    }
   ],
   "source": [
    "cum_var_exp = np.cumsum(var_exp)\n",
    "print(\"Cumulative Variance Explained\", cum_var_exp)"
   ]
  },
  {
   "cell_type": "code",
   "execution_count": 279,
   "metadata": {},
   "outputs": [
    {
     "data": {
      "image/png": "[encoded data removed]",
      "text/plain": [
       "<Figure size 720x432 with 1 Axes>"
      ]
     },
     "metadata": {
      "needs_background": "light"
     },
     "output_type": "display_data"
    }
   ],
   "source": [
    "plt.figure(figsize=(10,6))\n",
    "plt.plot(var_exp)\n",
    "plt.title('Variance vs Number of Eigen Values or Principal Components')\n",
    "plt.grid()"
   ]
  },
  {
   "cell_type": "code",
   "execution_count": 280,
   "metadata": {},
   "outputs": [
    {
     "data": {
      "image/png": "[encoded data removed]",
      "text/plain": [
       "<Figure size 720x432 with 1 Axes>"
      ]
     },
     "metadata": {
      "needs_background": "light"
     },
     "output_type": "display_data"
    }
   ],
   "source": [
    "plt.figure(figsize=(10,6))\n",
    "plt.plot(e_values)\n",
    "plt.grid()\n",
    "plt.ylabel('Eigen Values')\n",
    "plt.xlabel('Factors')\n",
    "plt.hlines(y=1,xmin=0,xmax=11,linestyles='dashed')\n",
    "plt.title('Eigen Values vs Number of Eigen Values or Principal Components');"
   ]
  },
  {
   "cell_type": "code",
   "execution_count": 281,
   "metadata": {},
   "outputs": [
    {
     "name": "stdout",
     "output_type": "stream",
     "text": [
      "From the above plot, we can see that the number of components that we can probably take is 4.\n",
      "We also see that if we take 4 components the total amount of variance explained is 79.59455065774911 %\n"
     ]
    }
   ],
   "source": [
    "print('From the above plot, we can see that the number of components that we can probably take is 4.\\n'\n",
    "      'We also see that if we take 4 components the total amount of variance explained is',cum_var_exp[3],'%')"
   ]
  },
  {
   "cell_type": "code",
   "execution_count": 282,
   "metadata": {},
   "outputs": [
    {
     "data": {
      "image/png": "[encoded data removed]",
      "text/plain": [
       "<Figure size 720x432 with 1 Axes>"
      ]
     },
     "metadata": {
      "needs_background": "light"
     },
     "output_type": "display_data"
    }
   ],
   "source": [
    "plt.figure(figsize=(10,6))\n",
    "plt.bar(range(1, e_values.size + 1), var_exp, alpha = 0.5, align = 'center', label = 'Individual explained variance')\n",
    "plt.step(range(1, e_values.size + 1), cum_var_exp, where='mid', label = 'Cumulative explained variance')\n",
    "plt.ylabel('Explained Variance Ratio')\n",
    "plt.xlabel('Principal Components')\n",
    "plt.legend(loc = 'best')\n",
    "plt.tight_layout()\n",
    "plt.grid()\n",
    "plt.show()"
   ]
  },
  {
   "cell_type": "code",
   "execution_count": 283,
   "metadata": {},
   "outputs": [],
   "source": [
    "# PCA"
   ]
  },
  {
   "cell_type": "code",
   "execution_count": 284,
   "metadata": {},
   "outputs": [
    {
     "data": {
      "text/plain": [
       "array([[ 0.0795508 ,  1.54319843,  1.89504643, ...,  0.44484537,\n",
       "         0.03867319, -0.33948838],\n",
       "       [-1.10096634, -2.42029823,  2.04552113, ..., -0.40787741,\n",
       "         0.46637257,  0.21361315],\n",
       "       [-2.19706653, -0.72744044,  0.16680026, ...,  0.38871416,\n",
       "        -0.81054552,  0.08570392],\n",
       "       ...,\n",
       "       [ 3.19577568, -1.86292048,  1.29747695, ..., -0.69044976,\n",
       "         0.13343324, -0.31962405],\n",
       "       [-0.62088819,  2.34984871, -1.12785588, ..., -0.08262926,\n",
       "        -0.26297433, -0.01658993],\n",
       "       [ 1.63523181,  1.25986453,  0.40255069, ...,  0.17869371,\n",
       "         0.37326589, -0.01321407]])"
      ]
     },
     "execution_count": 284,
     "metadata": {},
     "output_type": "execute_result"
    }
   ],
   "source": [
    "from sklearn.decomposition import PCA\n",
    "\n",
    "pca = PCA()\n",
    "pca.fit_transform(df_scaled)"
   ]
  },
  {
   "cell_type": "code",
   "execution_count": 285,
   "metadata": {},
   "outputs": [
    {
     "name": "stdout",
     "output_type": "stream",
     "text": [
      "Eigen Vectors \n",
      "\n"
     ]
    },
    {
     "data": {
      "text/html": [
       "<div>\n",
       "<style scoped>\n",
       "    .dataframe tbody tr th:only-of-type {\n",
       "        vertical-align: middle;\n",
       "    }\n",
       "\n",
       "    .dataframe tbody tr th {\n",
       "        vertical-align: top;\n",
       "    }\n",
       "\n",
       "    .dataframe thead th {\n",
       "        text-align: right;\n",
       "    }\n",
       "</style>\n",
       "<table border=\"1\" class=\"dataframe\">\n",
       "  <thead>\n",
       "    <tr style=\"text-align: right;\">\n",
       "      <th></th>\n",
       "      <th>0</th>\n",
       "      <th>1</th>\n",
       "      <th>2</th>\n",
       "      <th>3</th>\n",
       "      <th>4</th>\n",
       "      <th>5</th>\n",
       "      <th>6</th>\n",
       "      <th>7</th>\n",
       "      <th>8</th>\n",
       "      <th>9</th>\n",
       "      <th>10</th>\n",
       "    </tr>\n",
       "  </thead>\n",
       "  <tbody>\n",
       "    <tr>\n",
       "      <th>ProdQual</th>\n",
       "      <td>-0.133790</td>\n",
       "      <td>-0.313498</td>\n",
       "      <td>0.062272</td>\n",
       "      <td>0.643136</td>\n",
       "      <td>0.231666</td>\n",
       "      <td>-0.564570</td>\n",
       "      <td>0.191641</td>\n",
       "      <td>0.135473</td>\n",
       "      <td>0.031328</td>\n",
       "      <td>0.066597</td>\n",
       "      <td>0.182792</td>\n",
       "    </tr>\n",
       "    <tr>\n",
       "      <th>Ecom</th>\n",
       "      <td>-0.165953</td>\n",
       "      <td>0.446509</td>\n",
       "      <td>-0.235248</td>\n",
       "      <td>0.272380</td>\n",
       "      <td>0.422288</td>\n",
       "      <td>0.263257</td>\n",
       "      <td>0.059626</td>\n",
       "      <td>-0.122026</td>\n",
       "      <td>-0.542511</td>\n",
       "      <td>0.281558</td>\n",
       "      <td>0.062339</td>\n",
       "    </tr>\n",
       "    <tr>\n",
       "      <th>TechSup</th>\n",
       "      <td>-0.157693</td>\n",
       "      <td>-0.230967</td>\n",
       "      <td>-0.610951</td>\n",
       "      <td>-0.193393</td>\n",
       "      <td>-0.023957</td>\n",
       "      <td>-0.108769</td>\n",
       "      <td>-0.017200</td>\n",
       "      <td>0.464710</td>\n",
       "      <td>-0.359300</td>\n",
       "      <td>-0.388171</td>\n",
       "      <td>-0.051930</td>\n",
       "    </tr>\n",
       "    <tr>\n",
       "      <th>CompRes</th>\n",
       "      <td>-0.470684</td>\n",
       "      <td>0.019444</td>\n",
       "      <td>0.210351</td>\n",
       "      <td>-0.206320</td>\n",
       "      <td>0.028657</td>\n",
       "      <td>-0.028152</td>\n",
       "      <td>-0.008500</td>\n",
       "      <td>0.513398</td>\n",
       "      <td>0.093248</td>\n",
       "      <td>0.534672</td>\n",
       "      <td>-0.362534</td>\n",
       "    </tr>\n",
       "    <tr>\n",
       "      <th>Advertising</th>\n",
       "      <td>-0.183735</td>\n",
       "      <td>0.363665</td>\n",
       "      <td>-0.088097</td>\n",
       "      <td>0.317894</td>\n",
       "      <td>-0.803870</td>\n",
       "      <td>-0.200569</td>\n",
       "      <td>-0.063070</td>\n",
       "      <td>-0.053477</td>\n",
       "      <td>-0.154682</td>\n",
       "      <td>0.037158</td>\n",
       "      <td>-0.081187</td>\n",
       "    </tr>\n",
       "    <tr>\n",
       "      <th>ProdLine</th>\n",
       "      <td>-0.386765</td>\n",
       "      <td>-0.284781</td>\n",
       "      <td>0.116279</td>\n",
       "      <td>0.202902</td>\n",
       "      <td>0.116674</td>\n",
       "      <td>0.098195</td>\n",
       "      <td>-0.608148</td>\n",
       "      <td>-0.333207</td>\n",
       "      <td>-0.084155</td>\n",
       "      <td>-0.234798</td>\n",
       "      <td>-0.385078</td>\n",
       "    </tr>\n",
       "    <tr>\n",
       "      <th>SalesFImage</th>\n",
       "      <td>-0.203670</td>\n",
       "      <td>0.470696</td>\n",
       "      <td>-0.241342</td>\n",
       "      <td>0.222177</td>\n",
       "      <td>0.204373</td>\n",
       "      <td>0.104972</td>\n",
       "      <td>0.001437</td>\n",
       "      <td>0.169107</td>\n",
       "      <td>0.644899</td>\n",
       "      <td>-0.353412</td>\n",
       "      <td>-0.084699</td>\n",
       "    </tr>\n",
       "    <tr>\n",
       "      <th>ComPricing</th>\n",
       "      <td>0.151689</td>\n",
       "      <td>0.413457</td>\n",
       "      <td>0.053045</td>\n",
       "      <td>-0.333543</td>\n",
       "      <td>0.248926</td>\n",
       "      <td>-0.709736</td>\n",
       "      <td>-0.308249</td>\n",
       "      <td>-0.098832</td>\n",
       "      <td>-0.094144</td>\n",
       "      <td>-0.045182</td>\n",
       "      <td>-0.102958</td>\n",
       "    </tr>\n",
       "    <tr>\n",
       "      <th>WartyClaim</th>\n",
       "      <td>-0.212934</td>\n",
       "      <td>-0.191672</td>\n",
       "      <td>-0.598564</td>\n",
       "      <td>-0.185302</td>\n",
       "      <td>-0.032927</td>\n",
       "      <td>-0.139840</td>\n",
       "      <td>-0.030640</td>\n",
       "      <td>-0.443540</td>\n",
       "      <td>0.317566</td>\n",
       "      <td>0.435348</td>\n",
       "      <td>0.128932</td>\n",
       "    </tr>\n",
       "    <tr>\n",
       "      <th>OrdBilling</th>\n",
       "      <td>-0.437218</td>\n",
       "      <td>0.026399</td>\n",
       "      <td>0.168930</td>\n",
       "      <td>-0.236854</td>\n",
       "      <td>0.026754</td>\n",
       "      <td>-0.119480</td>\n",
       "      <td>0.659320</td>\n",
       "      <td>-0.366018</td>\n",
       "      <td>-0.099073</td>\n",
       "      <td>-0.303865</td>\n",
       "      <td>-0.194151</td>\n",
       "    </tr>\n",
       "    <tr>\n",
       "      <th>DelSpeed</th>\n",
       "      <td>-0.473089</td>\n",
       "      <td>0.073052</td>\n",
       "      <td>0.232625</td>\n",
       "      <td>-0.197330</td>\n",
       "      <td>-0.035433</td>\n",
       "      <td>0.029800</td>\n",
       "      <td>-0.234239</td>\n",
       "      <td>0.065391</td>\n",
       "      <td>-0.021885</td>\n",
       "      <td>-0.120104</td>\n",
       "      <td>0.775632</td>\n",
       "    </tr>\n",
       "  </tbody>\n",
       "</table>\n",
       "</div>"
      ],
      "text/plain": [
       "                    0         1         2         3         4         5  \\\n",
       "ProdQual    -0.133790 -0.313498  0.062272  0.643136  0.231666 -0.564570   \n",
       "Ecom        -0.165953  0.446509 -0.235248  0.272380  0.422288  0.263257   \n",
       "TechSup     -0.157693 -0.230967 -0.610951 -0.193393 -0.023957 -0.108769   \n",
       "CompRes     -0.470684  0.019444  0.210351 -0.206320  0.028657 -0.028152   \n",
       "Advertising -0.183735  0.363665 -0.088097  0.317894 -0.803870 -0.200569   \n",
       "ProdLine    -0.386765 -0.284781  0.116279  0.202902  0.116674  0.098195   \n",
       "SalesFImage -0.203670  0.470696 -0.241342  0.222177  0.204373  0.104972   \n",
       "ComPricing   0.151689  0.413457  0.053045 -0.333543  0.248926 -0.709736   \n",
       "WartyClaim  -0.212934 -0.191672 -0.598564 -0.185302 -0.032927 -0.139840   \n",
       "OrdBilling  -0.437218  0.026399  0.168930 -0.236854  0.026754 -0.119480   \n",
       "DelSpeed    -0.473089  0.073052  0.232625 -0.197330 -0.035433  0.029800   \n",
       "\n",
       "                    6         7         8         9        10  \n",
       "ProdQual     0.191641  0.135473  0.031328  0.066597  0.182792  \n",
       "Ecom         0.059626 -0.122026 -0.542511  0.281558  0.062339  \n",
       "TechSup     -0.017200  0.464710 -0.359300 -0.388171 -0.051930  \n",
       "CompRes     -0.008500  0.513398  0.093248  0.534672 -0.362534  \n",
       "Advertising -0.063070 -0.053477 -0.154682  0.037158 -0.081187  \n",
       "ProdLine    -0.608148 -0.333207 -0.084155 -0.234798 -0.385078  \n",
       "SalesFImage  0.001437  0.169107  0.644899 -0.353412 -0.084699  \n",
       "ComPricing  -0.308249 -0.098832 -0.094144 -0.045182 -0.102958  \n",
       "WartyClaim  -0.030640 -0.443540  0.317566  0.435348  0.128932  \n",
       "OrdBilling   0.659320 -0.366018 -0.099073 -0.303865 -0.194151  \n",
       "DelSpeed    -0.234239  0.065391 -0.021885 -0.120104  0.775632  "
      ]
     },
     "execution_count": 285,
     "metadata": {},
     "output_type": "execute_result"
    }
   ],
   "source": [
    "print('Eigen Vectors \\n')\n",
    "pd.DataFrame(pca.components_, columns = df1.columns).T"
   ]
  },
  {
   "cell_type": "code",
   "execution_count": 286,
   "metadata": {},
   "outputs": [
    {
     "name": "stdout",
     "output_type": "stream",
     "text": [
      "Eigen Values \n",
      "\n"
     ]
    },
    {
     "data": {
      "text/plain": [
       "array([3.4615872 , 2.57666335, 1.70805705, 1.09753137, 0.61557989,\n",
       "       0.55745836, 0.40557389, 0.249446  , 0.20560936, 0.13418341,\n",
       "       0.09942123])"
      ]
     },
     "execution_count": 286,
     "metadata": {},
     "output_type": "execute_result"
    }
   ],
   "source": [
    "print('Eigen Values \\n')\n",
    "pca.explained_variance_"
   ]
  },
  {
   "cell_type": "code",
   "execution_count": 287,
   "metadata": {},
   "outputs": [
    {
     "name": "stdout",
     "output_type": "stream",
     "text": [
      "The variance explained by each of eigen values in order is  \n",
      "\n"
     ]
    },
    {
     "data": {
      "text/plain": [
       "array([31.1542848 , 23.18997011, 15.37251341,  9.87778233,  5.54021904,\n",
       "        5.01712525,  3.65016497,  2.24501404,  1.85048425,  1.2076507 ,\n",
       "        0.89479108])"
      ]
     },
     "execution_count": 287,
     "metadata": {},
     "output_type": "execute_result"
    }
   ],
   "source": [
    "print('The variance explained by each of eigen values in order is  \\n')\n",
    "pca.explained_variance_ratio_*100"
   ]
  },
  {
   "cell_type": "code",
   "execution_count": 288,
   "metadata": {},
   "outputs": [
    {
     "name": "stdout",
     "output_type": "stream",
     "text": [
      "Cumulative Variance Explained /n\n",
      "[ 31.154  54.344  69.717  79.595  85.135  90.152  93.802  96.047  97.898\n",
      "  99.105 100.   ]\n"
     ]
    }
   ],
   "source": [
    "#cumulative sum of variance explained with [n] features\n",
    "print(\"Cumulative Variance Explained /n\")\n",
    "var = (np.cumsum(pca.explained_variance_ratio_)*100).round(3)\n",
    "print(var)"
   ]
  },
  {
   "cell_type": "code",
   "execution_count": 289,
   "metadata": {},
   "outputs": [],
   "source": [
    "# Using scikit learn PCA here. It does all the above steps and maps data to PCA dimensions in one shot\n",
    "from sklearn.decomposition import PCA\n",
    "\n",
    "# NOTE - we are generating only 4 PCA dimensions (dimensionality reduction from 18 to 4)\n",
    "\n",
    "pca = PCA(n_components=4)\n",
    "data_reduced = pca.fit_transform(df_scaled)"
   ]
  },
  {
   "cell_type": "code",
   "execution_count": 290,
   "metadata": {},
   "outputs": [
    {
     "data": {
      "text/plain": [
       "(100, 4)"
      ]
     },
     "execution_count": 290,
     "metadata": {},
     "output_type": "execute_result"
    }
   ],
   "source": [
    "data_reduced.shape"
   ]
  },
  {
   "cell_type": "code",
   "execution_count": 291,
   "metadata": {},
   "outputs": [
    {
     "data": {
      "text/html": [
       "<div>\n",
       "<style scoped>\n",
       "    .dataframe tbody tr th:only-of-type {\n",
       "        vertical-align: middle;\n",
       "    }\n",
       "\n",
       "    .dataframe tbody tr th {\n",
       "        vertical-align: top;\n",
       "    }\n",
       "\n",
       "    .dataframe thead th {\n",
       "        text-align: right;\n",
       "    }\n",
       "</style>\n",
       "<table border=\"1\" class=\"dataframe\">\n",
       "  <thead>\n",
       "    <tr style=\"text-align: right;\">\n",
       "      <th></th>\n",
       "      <th>0</th>\n",
       "      <th>1</th>\n",
       "      <th>2</th>\n",
       "      <th>3</th>\n",
       "    </tr>\n",
       "  </thead>\n",
       "  <tbody>\n",
       "    <tr>\n",
       "      <th>0</th>\n",
       "      <td>0.079551</td>\n",
       "      <td>1.543198</td>\n",
       "      <td>1.895046</td>\n",
       "      <td>1.168119</td>\n",
       "    </tr>\n",
       "    <tr>\n",
       "      <th>1</th>\n",
       "      <td>-1.100966</td>\n",
       "      <td>-2.420298</td>\n",
       "      <td>2.045521</td>\n",
       "      <td>-0.427083</td>\n",
       "    </tr>\n",
       "    <tr>\n",
       "      <th>2</th>\n",
       "      <td>-2.197067</td>\n",
       "      <td>-0.727440</td>\n",
       "      <td>0.166800</td>\n",
       "      <td>1.310312</td>\n",
       "    </tr>\n",
       "    <tr>\n",
       "      <th>3</th>\n",
       "      <td>1.562933</td>\n",
       "      <td>0.171366</td>\n",
       "      <td>-1.827179</td>\n",
       "      <td>-1.192240</td>\n",
       "    </tr>\n",
       "    <tr>\n",
       "      <th>4</th>\n",
       "      <td>0.767570</td>\n",
       "      <td>-1.428111</td>\n",
       "      <td>0.234356</td>\n",
       "      <td>0.069525</td>\n",
       "    </tr>\n",
       "  </tbody>\n",
       "</table>\n",
       "</div>"
      ],
      "text/plain": [
       "          0         1         2         3\n",
       "0  0.079551  1.543198  1.895046  1.168119\n",
       "1 -1.100966 -2.420298  2.045521 -0.427083\n",
       "2 -2.197067 -0.727440  0.166800  1.310312\n",
       "3  1.562933  0.171366 -1.827179 -1.192240\n",
       "4  0.767570 -1.428111  0.234356  0.069525"
      ]
     },
     "execution_count": 291,
     "metadata": {},
     "output_type": "execute_result"
    }
   ],
   "source": [
    "pd.DataFrame(data_reduced).head()"
   ]
  },
  {
   "cell_type": "code",
   "execution_count": 292,
   "metadata": {
    "scrolled": true
   },
   "outputs": [
    {
     "data": {
      "text/plain": [
       "<matplotlib.axes._subplots.AxesSubplot at 0x2449e731a48>"
      ]
     },
     "execution_count": 292,
     "metadata": {},
     "output_type": "execute_result"
    },
    {
     "data": {
      "image/png": "[encoded data removed]",
      "text/plain": [
       "<Figure size 432x288 with 2 Axes>"
      ]
     },
     "metadata": {
      "needs_background": "light"
     },
     "output_type": "display_data"
    }
   ],
   "source": [
    "sns.heatmap(pd.DataFrame(data_reduced).corr(), annot = True, fmt = '0.3f')"
   ]
  },
  {
   "cell_type": "code",
   "execution_count": 293,
   "metadata": {},
   "outputs": [
    {
     "data": {
      "text/html": [
       "<div>\n",
       "<style scoped>\n",
       "    .dataframe tbody tr th:only-of-type {\n",
       "        vertical-align: middle;\n",
       "    }\n",
       "\n",
       "    .dataframe tbody tr th {\n",
       "        vertical-align: top;\n",
       "    }\n",
       "\n",
       "    .dataframe thead th {\n",
       "        text-align: right;\n",
       "    }\n",
       "</style>\n",
       "<table border=\"1\" class=\"dataframe\">\n",
       "  <thead>\n",
       "    <tr style=\"text-align: right;\">\n",
       "      <th></th>\n",
       "      <th>PC1</th>\n",
       "      <th>PC2</th>\n",
       "      <th>PC3</th>\n",
       "      <th>PC4</th>\n",
       "    </tr>\n",
       "  </thead>\n",
       "  <tbody>\n",
       "    <tr>\n",
       "      <th>ProdQual</th>\n",
       "      <td>-0.133790</td>\n",
       "      <td>-0.313498</td>\n",
       "      <td>0.062272</td>\n",
       "      <td>0.643136</td>\n",
       "    </tr>\n",
       "    <tr>\n",
       "      <th>Ecom</th>\n",
       "      <td>-0.165953</td>\n",
       "      <td>0.446509</td>\n",
       "      <td>-0.235248</td>\n",
       "      <td>0.272380</td>\n",
       "    </tr>\n",
       "    <tr>\n",
       "      <th>TechSup</th>\n",
       "      <td>-0.157693</td>\n",
       "      <td>-0.230967</td>\n",
       "      <td>-0.610951</td>\n",
       "      <td>-0.193393</td>\n",
       "    </tr>\n",
       "    <tr>\n",
       "      <th>CompRes</th>\n",
       "      <td>-0.470684</td>\n",
       "      <td>0.019444</td>\n",
       "      <td>0.210351</td>\n",
       "      <td>-0.206320</td>\n",
       "    </tr>\n",
       "    <tr>\n",
       "      <th>Advertising</th>\n",
       "      <td>-0.183735</td>\n",
       "      <td>0.363665</td>\n",
       "      <td>-0.088097</td>\n",
       "      <td>0.317894</td>\n",
       "    </tr>\n",
       "    <tr>\n",
       "      <th>ProdLine</th>\n",
       "      <td>-0.386765</td>\n",
       "      <td>-0.284781</td>\n",
       "      <td>0.116279</td>\n",
       "      <td>0.202902</td>\n",
       "    </tr>\n",
       "    <tr>\n",
       "      <th>SalesFImage</th>\n",
       "      <td>-0.203670</td>\n",
       "      <td>0.470696</td>\n",
       "      <td>-0.241342</td>\n",
       "      <td>0.222177</td>\n",
       "    </tr>\n",
       "    <tr>\n",
       "      <th>ComPricing</th>\n",
       "      <td>0.151689</td>\n",
       "      <td>0.413457</td>\n",
       "      <td>0.053045</td>\n",
       "      <td>-0.333543</td>\n",
       "    </tr>\n",
       "    <tr>\n",
       "      <th>WartyClaim</th>\n",
       "      <td>-0.212934</td>\n",
       "      <td>-0.191672</td>\n",
       "      <td>-0.598564</td>\n",
       "      <td>-0.185302</td>\n",
       "    </tr>\n",
       "    <tr>\n",
       "      <th>OrdBilling</th>\n",
       "      <td>-0.437218</td>\n",
       "      <td>0.026399</td>\n",
       "      <td>0.168930</td>\n",
       "      <td>-0.236854</td>\n",
       "    </tr>\n",
       "    <tr>\n",
       "      <th>DelSpeed</th>\n",
       "      <td>-0.473089</td>\n",
       "      <td>0.073052</td>\n",
       "      <td>0.232625</td>\n",
       "      <td>-0.197330</td>\n",
       "    </tr>\n",
       "  </tbody>\n",
       "</table>\n",
       "</div>"
      ],
      "text/plain": [
       "                  PC1       PC2       PC3       PC4\n",
       "ProdQual    -0.133790 -0.313498  0.062272  0.643136\n",
       "Ecom        -0.165953  0.446509 -0.235248  0.272380\n",
       "TechSup     -0.157693 -0.230967 -0.610951 -0.193393\n",
       "CompRes     -0.470684  0.019444  0.210351 -0.206320\n",
       "Advertising -0.183735  0.363665 -0.088097  0.317894\n",
       "ProdLine    -0.386765 -0.284781  0.116279  0.202902\n",
       "SalesFImage -0.203670  0.470696 -0.241342  0.222177\n",
       "ComPricing   0.151689  0.413457  0.053045 -0.333543\n",
       "WartyClaim  -0.212934 -0.191672 -0.598564 -0.185302\n",
       "OrdBilling  -0.437218  0.026399  0.168930 -0.236854\n",
       "DelSpeed    -0.473089  0.073052  0.232625 -0.197330"
      ]
     },
     "execution_count": 293,
     "metadata": {},
     "output_type": "execute_result"
    }
   ],
   "source": [
    "df_comp = pd.DataFrame(pca.components_.T,index=list(df_scaled), columns = ['PC1', 'PC2', 'PC3', 'PC4'])\n",
    "df_comp"
   ]
  },
  {
   "cell_type": "code",
   "execution_count": 294,
   "metadata": {},
   "outputs": [
    {
     "name": "stdout",
     "output_type": "stream",
     "text": [
      "0.079551 1.543198 1.895046 1.168119 "
     ]
    }
   ],
   "source": [
    "for i in df_comp.columns:\n",
    "    pc_score = np.dot(df_comp[i], df_scaled.iloc[0])\n",
    "    print(round(pc_score, 6), end = ' ')"
   ]
  },
  {
   "cell_type": "code",
   "execution_count": 295,
   "metadata": {},
   "outputs": [
    {
     "data": {
      "text/plain": [
       "ProdQual      -0.133790\n",
       "Ecom          -0.165953\n",
       "TechSup       -0.157693\n",
       "CompRes       -0.470684\n",
       "Advertising   -0.183735\n",
       "ProdLine      -0.386765\n",
       "SalesFImage   -0.203670\n",
       "ComPricing     0.151689\n",
       "WartyClaim    -0.212934\n",
       "OrdBilling    -0.437218\n",
       "DelSpeed      -0.473089\n",
       "Name: PC1, dtype: float64"
      ]
     },
     "execution_count": 295,
     "metadata": {},
     "output_type": "execute_result"
    }
   ],
   "source": [
    "df_comp.iloc[:,0]"
   ]
  },
  {
   "cell_type": "code",
   "execution_count": 296,
   "metadata": {},
   "outputs": [
    {
     "data": {
      "text/plain": [
       "11"
      ]
     },
     "execution_count": 296,
     "metadata": {},
     "output_type": "execute_result"
    }
   ],
   "source": [
    "len(df_comp.iloc[:,0])\n"
   ]
  },
  {
   "cell_type": "code",
   "execution_count": 297,
   "metadata": {},
   "outputs": [
    {
     "name": "stdout",
     "output_type": "stream",
     "text": [
      "-0.134 x ProdQual\n",
      "-0.166 x Ecom\n",
      "-0.158 x TechSup\n",
      "-0.471 x CompRes\n",
      "-0.184 x Advertising\n",
      "-0.387 x ProdLine\n",
      "-0.204 x SalesFImage\n",
      "0.152 x ComPricing\n",
      "-0.213 x WartyClaim\n",
      "-0.437 x OrdBilling\n",
      "-0.473 x DelSpeed\n"
     ]
    }
   ],
   "source": [
    "for i in range(len(df_comp.iloc[:,0])):\n",
    "    for j in range(len(df_comp.index)):\n",
    "        if i == j:\n",
    "            print(df_comp.iloc[i,0].round(3),'x',df_comp.index[j])"
   ]
  },
  {
   "cell_type": "code",
   "execution_count": 298,
   "metadata": {},
   "outputs": [
    {
     "name": "stdout",
     "output_type": "stream",
     "text": [
      "-0.313 x ProdQual\n",
      "0.447 x Ecom\n",
      "-0.231 x TechSup\n",
      "0.019 x CompRes\n",
      "0.364 x Advertising\n",
      "-0.285 x ProdLine\n",
      "0.471 x SalesFImage\n",
      "0.413 x ComPricing\n",
      "-0.192 x WartyClaim\n",
      "0.026 x OrdBilling\n",
      "0.073 x DelSpeed\n"
     ]
    }
   ],
   "source": [
    "for i in range(len(df_comp.iloc[:,1])):\n",
    "    for j in range(len(df_comp.index)):\n",
    "        if i == j:\n",
    "            print(df_comp.iloc[i,1].round(3),'x',df_comp.index[j])"
   ]
  },
  {
   "cell_type": "code",
   "execution_count": 299,
   "metadata": {},
   "outputs": [
    {
     "data": {
      "image/png": "[encoded data removed]",
      "text/plain": [
       "<Figure size 864x576 with 4 Axes>"
      ]
     },
     "metadata": {
      "needs_background": "light"
     },
     "output_type": "display_data"
    }
   ],
   "source": [
    "df_selected = df_comp\n",
    "plt.figure(figsize = (12,8))\n",
    "for i in range(len(df_selected.columns)):\n",
    "    plt.subplot(3,2,i+1)\n",
    "    abs(df_selected[df_selected.columns[i]]).T.sort_values(ascending = False).plot.bar()\n",
    "    plt.yticks(np.arange(0,1.2,.2))\n",
    "    plt.title('Abs. loadings of {}'.format(df_selected.columns[i]))\n",
    "    plt.tight_layout()"
   ]
  },
  {
   "cell_type": "code",
   "execution_count": 300,
   "metadata": {},
   "outputs": [],
   "source": [
    "ndf= pd.read_csv(\"State_wise_Health_income (1).csv\")"
   ]
  },
  {
   "cell_type": "code",
   "execution_count": 301,
   "metadata": {},
   "outputs": [
    {
     "data": {
      "text/html": [
       "<div>\n",
       "<style scoped>\n",
       "    .dataframe tbody tr th:only-of-type {\n",
       "        vertical-align: middle;\n",
       "    }\n",
       "\n",
       "    .dataframe tbody tr th {\n",
       "        vertical-align: top;\n",
       "    }\n",
       "\n",
       "    .dataframe thead th {\n",
       "        text-align: right;\n",
       "    }\n",
       "</style>\n",
       "<table border=\"1\" class=\"dataframe\">\n",
       "  <thead>\n",
       "    <tr style=\"text-align: right;\">\n",
       "      <th></th>\n",
       "      <th>Unnamed: 0</th>\n",
       "      <th>States</th>\n",
       "      <th>Health_indeces1</th>\n",
       "      <th>Health_indices2</th>\n",
       "      <th>Per_capita_income</th>\n",
       "      <th>GDP</th>\n",
       "    </tr>\n",
       "  </thead>\n",
       "  <tbody>\n",
       "    <tr>\n",
       "      <th>0</th>\n",
       "      <td>0</td>\n",
       "      <td>Bachevo</td>\n",
       "      <td>417</td>\n",
       "      <td>66</td>\n",
       "      <td>564</td>\n",
       "      <td>1823</td>\n",
       "    </tr>\n",
       "    <tr>\n",
       "      <th>1</th>\n",
       "      <td>1</td>\n",
       "      <td>Balgarchevo</td>\n",
       "      <td>1485</td>\n",
       "      <td>646</td>\n",
       "      <td>2710</td>\n",
       "      <td>73662</td>\n",
       "    </tr>\n",
       "    <tr>\n",
       "      <th>2</th>\n",
       "      <td>2</td>\n",
       "      <td>Belasitsa</td>\n",
       "      <td>654</td>\n",
       "      <td>299</td>\n",
       "      <td>1104</td>\n",
       "      <td>27318</td>\n",
       "    </tr>\n",
       "    <tr>\n",
       "      <th>3</th>\n",
       "      <td>3</td>\n",
       "      <td>Belo_Pole</td>\n",
       "      <td>192</td>\n",
       "      <td>25</td>\n",
       "      <td>573</td>\n",
       "      <td>250</td>\n",
       "    </tr>\n",
       "    <tr>\n",
       "      <th>4</th>\n",
       "      <td>4</td>\n",
       "      <td>Beslen</td>\n",
       "      <td>43</td>\n",
       "      <td>8</td>\n",
       "      <td>528</td>\n",
       "      <td>22</td>\n",
       "    </tr>\n",
       "  </tbody>\n",
       "</table>\n",
       "</div>"
      ],
      "text/plain": [
       "   Unnamed: 0       States  Health_indeces1  Health_indices2  \\\n",
       "0           0      Bachevo              417               66   \n",
       "1           1  Balgarchevo             1485              646   \n",
       "2           2    Belasitsa              654              299   \n",
       "3           3    Belo_Pole              192               25   \n",
       "4           4       Beslen               43                8   \n",
       "\n",
       "   Per_capita_income    GDP  \n",
       "0                564   1823  \n",
       "1               2710  73662  \n",
       "2               1104  27318  \n",
       "3                573    250  \n",
       "4                528     22  "
      ]
     },
     "execution_count": 301,
     "metadata": {},
     "output_type": "execute_result"
    }
   ],
   "source": [
    "ndf.head() "
   ]
  },
  {
   "cell_type": "code",
   "execution_count": 302,
   "metadata": {},
   "outputs": [
    {
     "data": {
      "text/html": [
       "<div>\n",
       "<style scoped>\n",
       "    .dataframe tbody tr th:only-of-type {\n",
       "        vertical-align: middle;\n",
       "    }\n",
       "\n",
       "    .dataframe tbody tr th {\n",
       "        vertical-align: top;\n",
       "    }\n",
       "\n",
       "    .dataframe thead th {\n",
       "        text-align: right;\n",
       "    }\n",
       "</style>\n",
       "<table border=\"1\" class=\"dataframe\">\n",
       "  <thead>\n",
       "    <tr style=\"text-align: right;\">\n",
       "      <th></th>\n",
       "      <th>Unnamed: 0</th>\n",
       "      <th>States</th>\n",
       "      <th>Health_indeces1</th>\n",
       "      <th>Health_indices2</th>\n",
       "      <th>Per_capita_income</th>\n",
       "      <th>GDP</th>\n",
       "    </tr>\n",
       "  </thead>\n",
       "  <tbody>\n",
       "    <tr>\n",
       "      <th>292</th>\n",
       "      <td>292</td>\n",
       "      <td>Greencastle</td>\n",
       "      <td>3443</td>\n",
       "      <td>970</td>\n",
       "      <td>2499</td>\n",
       "      <td>238636</td>\n",
       "    </tr>\n",
       "    <tr>\n",
       "      <th>293</th>\n",
       "      <td>293</td>\n",
       "      <td>Greenisland</td>\n",
       "      <td>2963</td>\n",
       "      <td>793</td>\n",
       "      <td>1257</td>\n",
       "      <td>162831</td>\n",
       "    </tr>\n",
       "    <tr>\n",
       "      <th>294</th>\n",
       "      <td>294</td>\n",
       "      <td>Greyabbey</td>\n",
       "      <td>3276</td>\n",
       "      <td>609</td>\n",
       "      <td>1522</td>\n",
       "      <td>120184</td>\n",
       "    </tr>\n",
       "    <tr>\n",
       "      <th>295</th>\n",
       "      <td>295</td>\n",
       "      <td>Greysteel</td>\n",
       "      <td>3463</td>\n",
       "      <td>847</td>\n",
       "      <td>934</td>\n",
       "      <td>199403</td>\n",
       "    </tr>\n",
       "    <tr>\n",
       "      <th>296</th>\n",
       "      <td>296</td>\n",
       "      <td>Groggan</td>\n",
       "      <td>2070</td>\n",
       "      <td>838</td>\n",
       "      <td>3179</td>\n",
       "      <td>166767</td>\n",
       "    </tr>\n",
       "  </tbody>\n",
       "</table>\n",
       "</div>"
      ],
      "text/plain": [
       "     Unnamed: 0       States  Health_indeces1  Health_indices2  \\\n",
       "292         292  Greencastle             3443              970   \n",
       "293         293  Greenisland             2963              793   \n",
       "294         294    Greyabbey             3276              609   \n",
       "295         295    Greysteel             3463              847   \n",
       "296         296      Groggan             2070              838   \n",
       "\n",
       "     Per_capita_income     GDP  \n",
       "292               2499  238636  \n",
       "293               1257  162831  \n",
       "294               1522  120184  \n",
       "295                934  199403  \n",
       "296               3179  166767  "
      ]
     },
     "execution_count": 302,
     "metadata": {},
     "output_type": "execute_result"
    }
   ],
   "source": [
    "ndf.tail()"
   ]
  },
  {
   "cell_type": "code",
   "execution_count": 303,
   "metadata": {},
   "outputs": [
    {
     "data": {
      "text/plain": [
       "(297, 6)"
      ]
     },
     "execution_count": 303,
     "metadata": {},
     "output_type": "execute_result"
    }
   ],
   "source": [
    "ndf.shape"
   ]
  },
  {
   "cell_type": "code",
   "execution_count": 304,
   "metadata": {},
   "outputs": [
    {
     "name": "stdout",
     "output_type": "stream",
     "text": [
      "<class 'pandas.core.frame.DataFrame'>\n",
      "RangeIndex: 297 entries, 0 to 296\n",
      "Data columns (total 6 columns):\n",
      " #   Column             Non-Null Count  Dtype \n",
      "---  ------             --------------  ----- \n",
      " 0   Unnamed: 0         297 non-null    int64 \n",
      " 1   States             297 non-null    object\n",
      " 2   Health_indeces1    297 non-null    int64 \n",
      " 3   Health_indices2    297 non-null    int64 \n",
      " 4   Per_capita_income  297 non-null    int64 \n",
      " 5   GDP                297 non-null    int64 \n",
      "dtypes: int64(5), object(1)\n",
      "memory usage: 14.0+ KB\n"
     ]
    }
   ],
   "source": [
    "ndf.info()"
   ]
  },
  {
   "cell_type": "code",
   "execution_count": 305,
   "metadata": {},
   "outputs": [
    {
     "data": {
      "text/html": [
       "<div>\n",
       "<style scoped>\n",
       "    .dataframe tbody tr th:only-of-type {\n",
       "        vertical-align: middle;\n",
       "    }\n",
       "\n",
       "    .dataframe tbody tr th {\n",
       "        vertical-align: top;\n",
       "    }\n",
       "\n",
       "    .dataframe thead th {\n",
       "        text-align: right;\n",
       "    }\n",
       "</style>\n",
       "<table border=\"1\" class=\"dataframe\">\n",
       "  <thead>\n",
       "    <tr style=\"text-align: right;\">\n",
       "      <th></th>\n",
       "      <th>Unnamed: 0</th>\n",
       "      <th>Health_indeces1</th>\n",
       "      <th>Health_indices2</th>\n",
       "      <th>Per_capita_income</th>\n",
       "      <th>GDP</th>\n",
       "    </tr>\n",
       "  </thead>\n",
       "  <tbody>\n",
       "    <tr>\n",
       "      <th>count</th>\n",
       "      <td>297.000000</td>\n",
       "      <td>297.000000</td>\n",
       "      <td>297.000000</td>\n",
       "      <td>297.000000</td>\n",
       "      <td>297.000000</td>\n",
       "    </tr>\n",
       "    <tr>\n",
       "      <th>mean</th>\n",
       "      <td>148.000000</td>\n",
       "      <td>2630.151515</td>\n",
       "      <td>693.632997</td>\n",
       "      <td>2156.915825</td>\n",
       "      <td>174601.117845</td>\n",
       "    </tr>\n",
       "    <tr>\n",
       "      <th>std</th>\n",
       "      <td>85.880731</td>\n",
       "      <td>2038.505431</td>\n",
       "      <td>468.944354</td>\n",
       "      <td>1491.854058</td>\n",
       "      <td>167167.992863</td>\n",
       "    </tr>\n",
       "    <tr>\n",
       "      <th>min</th>\n",
       "      <td>0.000000</td>\n",
       "      <td>-10.000000</td>\n",
       "      <td>0.000000</td>\n",
       "      <td>500.000000</td>\n",
       "      <td>22.000000</td>\n",
       "    </tr>\n",
       "    <tr>\n",
       "      <th>25%</th>\n",
       "      <td>74.000000</td>\n",
       "      <td>641.000000</td>\n",
       "      <td>175.000000</td>\n",
       "      <td>751.000000</td>\n",
       "      <td>8721.000000</td>\n",
       "    </tr>\n",
       "    <tr>\n",
       "      <th>50%</th>\n",
       "      <td>148.000000</td>\n",
       "      <td>2451.000000</td>\n",
       "      <td>810.000000</td>\n",
       "      <td>1865.000000</td>\n",
       "      <td>137173.000000</td>\n",
       "    </tr>\n",
       "    <tr>\n",
       "      <th>75%</th>\n",
       "      <td>222.000000</td>\n",
       "      <td>4094.000000</td>\n",
       "      <td>1073.000000</td>\n",
       "      <td>3137.000000</td>\n",
       "      <td>313092.000000</td>\n",
       "    </tr>\n",
       "    <tr>\n",
       "      <th>max</th>\n",
       "      <td>296.000000</td>\n",
       "      <td>10219.000000</td>\n",
       "      <td>1508.000000</td>\n",
       "      <td>7049.000000</td>\n",
       "      <td>728575.000000</td>\n",
       "    </tr>\n",
       "  </tbody>\n",
       "</table>\n",
       "</div>"
      ],
      "text/plain": [
       "       Unnamed: 0  Health_indeces1  Health_indices2  Per_capita_income  \\\n",
       "count  297.000000       297.000000       297.000000         297.000000   \n",
       "mean   148.000000      2630.151515       693.632997        2156.915825   \n",
       "std     85.880731      2038.505431       468.944354        1491.854058   \n",
       "min      0.000000       -10.000000         0.000000         500.000000   \n",
       "25%     74.000000       641.000000       175.000000         751.000000   \n",
       "50%    148.000000      2451.000000       810.000000        1865.000000   \n",
       "75%    222.000000      4094.000000      1073.000000        3137.000000   \n",
       "max    296.000000     10219.000000      1508.000000        7049.000000   \n",
       "\n",
       "                 GDP  \n",
       "count     297.000000  \n",
       "mean   174601.117845  \n",
       "std    167167.992863  \n",
       "min        22.000000  \n",
       "25%      8721.000000  \n",
       "50%    137173.000000  \n",
       "75%    313092.000000  \n",
       "max    728575.000000  "
      ]
     },
     "execution_count": 305,
     "metadata": {},
     "output_type": "execute_result"
    }
   ],
   "source": [
    "ndf.describe()"
   ]
  },
  {
   "cell_type": "code",
   "execution_count": 306,
   "metadata": {},
   "outputs": [
    {
     "data": {
      "text/html": [
       "<div>\n",
       "<style scoped>\n",
       "    .dataframe tbody tr th:only-of-type {\n",
       "        vertical-align: middle;\n",
       "    }\n",
       "\n",
       "    .dataframe tbody tr th {\n",
       "        vertical-align: top;\n",
       "    }\n",
       "\n",
       "    .dataframe thead th {\n",
       "        text-align: right;\n",
       "    }\n",
       "</style>\n",
       "<table border=\"1\" class=\"dataframe\">\n",
       "  <thead>\n",
       "    <tr style=\"text-align: right;\">\n",
       "      <th></th>\n",
       "      <th>Unnamed: 0</th>\n",
       "      <th>States</th>\n",
       "      <th>Health_indeces1</th>\n",
       "      <th>Health_indices2</th>\n",
       "      <th>Per_capita_income</th>\n",
       "      <th>GDP</th>\n",
       "    </tr>\n",
       "  </thead>\n",
       "  <tbody>\n",
       "    <tr>\n",
       "      <th>count</th>\n",
       "      <td>297.000000</td>\n",
       "      <td>297</td>\n",
       "      <td>297.000000</td>\n",
       "      <td>297.000000</td>\n",
       "      <td>297.000000</td>\n",
       "      <td>297.000000</td>\n",
       "    </tr>\n",
       "    <tr>\n",
       "      <th>unique</th>\n",
       "      <td>NaN</td>\n",
       "      <td>296</td>\n",
       "      <td>NaN</td>\n",
       "      <td>NaN</td>\n",
       "      <td>NaN</td>\n",
       "      <td>NaN</td>\n",
       "    </tr>\n",
       "    <tr>\n",
       "      <th>top</th>\n",
       "      <td>NaN</td>\n",
       "      <td>Dromore</td>\n",
       "      <td>NaN</td>\n",
       "      <td>NaN</td>\n",
       "      <td>NaN</td>\n",
       "      <td>NaN</td>\n",
       "    </tr>\n",
       "    <tr>\n",
       "      <th>freq</th>\n",
       "      <td>NaN</td>\n",
       "      <td>2</td>\n",
       "      <td>NaN</td>\n",
       "      <td>NaN</td>\n",
       "      <td>NaN</td>\n",
       "      <td>NaN</td>\n",
       "    </tr>\n",
       "    <tr>\n",
       "      <th>mean</th>\n",
       "      <td>148.000000</td>\n",
       "      <td>NaN</td>\n",
       "      <td>2630.151515</td>\n",
       "      <td>693.632997</td>\n",
       "      <td>2156.915825</td>\n",
       "      <td>174601.117845</td>\n",
       "    </tr>\n",
       "    <tr>\n",
       "      <th>std</th>\n",
       "      <td>85.880731</td>\n",
       "      <td>NaN</td>\n",
       "      <td>2038.505431</td>\n",
       "      <td>468.944354</td>\n",
       "      <td>1491.854058</td>\n",
       "      <td>167167.992863</td>\n",
       "    </tr>\n",
       "    <tr>\n",
       "      <th>min</th>\n",
       "      <td>0.000000</td>\n",
       "      <td>NaN</td>\n",
       "      <td>-10.000000</td>\n",
       "      <td>0.000000</td>\n",
       "      <td>500.000000</td>\n",
       "      <td>22.000000</td>\n",
       "    </tr>\n",
       "    <tr>\n",
       "      <th>25%</th>\n",
       "      <td>74.000000</td>\n",
       "      <td>NaN</td>\n",
       "      <td>641.000000</td>\n",
       "      <td>175.000000</td>\n",
       "      <td>751.000000</td>\n",
       "      <td>8721.000000</td>\n",
       "    </tr>\n",
       "    <tr>\n",
       "      <th>50%</th>\n",
       "      <td>148.000000</td>\n",
       "      <td>NaN</td>\n",
       "      <td>2451.000000</td>\n",
       "      <td>810.000000</td>\n",
       "      <td>1865.000000</td>\n",
       "      <td>137173.000000</td>\n",
       "    </tr>\n",
       "    <tr>\n",
       "      <th>75%</th>\n",
       "      <td>222.000000</td>\n",
       "      <td>NaN</td>\n",
       "      <td>4094.000000</td>\n",
       "      <td>1073.000000</td>\n",
       "      <td>3137.000000</td>\n",
       "      <td>313092.000000</td>\n",
       "    </tr>\n",
       "    <tr>\n",
       "      <th>max</th>\n",
       "      <td>296.000000</td>\n",
       "      <td>NaN</td>\n",
       "      <td>10219.000000</td>\n",
       "      <td>1508.000000</td>\n",
       "      <td>7049.000000</td>\n",
       "      <td>728575.000000</td>\n",
       "    </tr>\n",
       "  </tbody>\n",
       "</table>\n",
       "</div>"
      ],
      "text/plain": [
       "        Unnamed: 0   States  Health_indeces1  Health_indices2  \\\n",
       "count   297.000000      297       297.000000       297.000000   \n",
       "unique         NaN      296              NaN              NaN   \n",
       "top            NaN  Dromore              NaN              NaN   \n",
       "freq           NaN        2              NaN              NaN   \n",
       "mean    148.000000      NaN      2630.151515       693.632997   \n",
       "std      85.880731      NaN      2038.505431       468.944354   \n",
       "min       0.000000      NaN       -10.000000         0.000000   \n",
       "25%      74.000000      NaN       641.000000       175.000000   \n",
       "50%     148.000000      NaN      2451.000000       810.000000   \n",
       "75%     222.000000      NaN      4094.000000      1073.000000   \n",
       "max     296.000000      NaN     10219.000000      1508.000000   \n",
       "\n",
       "        Per_capita_income            GDP  \n",
       "count          297.000000     297.000000  \n",
       "unique                NaN            NaN  \n",
       "top                   NaN            NaN  \n",
       "freq                  NaN            NaN  \n",
       "mean          2156.915825  174601.117845  \n",
       "std           1491.854058  167167.992863  \n",
       "min            500.000000      22.000000  \n",
       "25%            751.000000    8721.000000  \n",
       "50%           1865.000000  137173.000000  \n",
       "75%           3137.000000  313092.000000  \n",
       "max           7049.000000  728575.000000  "
      ]
     },
     "execution_count": 306,
     "metadata": {},
     "output_type": "execute_result"
    }
   ],
   "source": [
    "ndf.describe(include=\"all\")"
   ]
  },
  {
   "cell_type": "code",
   "execution_count": 307,
   "metadata": {},
   "outputs": [
    {
     "data": {
      "text/plain": [
       "Unnamed: 0           0\n",
       "States               0\n",
       "Health_indeces1      0\n",
       "Health_indices2      0\n",
       "Per_capita_income    0\n",
       "GDP                  0\n",
       "dtype: int64"
      ]
     },
     "execution_count": 307,
     "metadata": {},
     "output_type": "execute_result"
    }
   ],
   "source": [
    "ndf.isnull().sum()"
   ]
  },
  {
   "cell_type": "code",
   "execution_count": 308,
   "metadata": {},
   "outputs": [
    {
     "data": {
      "text/plain": [
       "296"
      ]
     },
     "execution_count": 308,
     "metadata": {},
     "output_type": "execute_result"
    }
   ],
   "source": [
    "ndf.States.nunique()"
   ]
  },
  {
   "cell_type": "code",
   "execution_count": 309,
   "metadata": {},
   "outputs": [
    {
     "data": {
      "text/plain": [
       "array(['Bachevo', 'Balgarchevo', 'Belasitsa', 'Belo_Pole', 'Beslen',\n",
       "       'Bogolin', 'Bogoroditsa', 'Buchino', 'Budiltsi', 'Cherniche',\n",
       "       'Churicheni', 'Churilovo', 'Debochitsa', 'Dobarsko', 'Dobri_Laki',\n",
       "       'Dolen', 'Dolene', 'Drakata', 'Drangovo', 'Fargovo', 'Gabrovo',\n",
       "       'Garmen', 'Gega', 'Godeshevo', 'Gorna_Breznitsa', 'Gyurgevo',\n",
       "       'Ilinden', 'Ivanovo', 'Kalimantsi', 'Kamena', 'Klyuch', 'Kochan',\n",
       "       'Kolarovo', 'Kolibite', 'Krandzhilitsa', 'Krastiltsi', 'Kribul',\n",
       "       'Krupnik', 'Kulata', 'Lebnitsa', 'Leshko', 'Logodazh', 'Mendovo',\n",
       "       'Mihnevo', 'Mikrevo', 'Moshtanets', 'Nikudin', 'Obidim', 'Osina',\n",
       "       'Padesh', 'Palat', 'Petrelik', 'Pletena', 'Polena', 'Polenitsa',\n",
       "       'Pravo_Bardo', 'Ribnik', 'Rupite', 'Satovcha', 'Slashten',\n",
       "       'Starchevo', 'Struma', 'Strumeshnitsa', 'Strumyani', 'Suhostrel',\n",
       "       'Sushitsa', 'Tuhovishta', 'Vaklinovo', 'Valkosel', 'Vishlene',\n",
       "       'Valkovo', 'Volno', 'Yavornitsa', 'Zanoga', 'Blagoevgrad',\n",
       "       'Zelenodol', 'Zheleznitsa', 'Zhizhevo', 'ZoycheneBallela',\n",
       "       'Ballerin', 'Ballinamallard', 'Ballintoy', 'Balloo', 'Ballybogy',\n",
       "       'Ballycarry', 'Ballycassidy', 'Ballycastle', 'Ballyclare',\n",
       "       'Ballyeaston', 'Ballygalley', 'Ballygawley', 'Ballygowan',\n",
       "       'Ballyhalbert', 'Ballyhornan', 'Ballykelly', 'Ballykinler',\n",
       "       'Ballylesson', 'Ballylinney', 'Ballymacmaine', 'Ballymacnab',\n",
       "       'Ballymagorry', 'Ballymartin', 'Ballymaguigan', 'Ballymena',\n",
       "       'Ballymoney', 'Ballynahinch', 'Ballynure', 'Ballyrashane',\n",
       "       'Ballyrobert', 'Ballyronan', 'Ballyrory', 'Ballyscullion',\n",
       "       'Ballyskeagh', 'Ballystrudder', 'Ballyvoy', 'Ballywalter',\n",
       "       'Balnamore', 'Banagher', 'Banbridge', 'Bangor', 'Bannfoot',\n",
       "       'Belcoo', 'Belfast', 'Bellaghy', 'Bellanaleck', 'Bellarena',\n",
       "       'Belleek', 'Belleeks', 'Benburb', 'Bendooragh', 'Beragh',\n",
       "       'Bessbrook', 'Blackskull', 'Blackwatertown', 'Blaney', 'Bleary',\n",
       "       'Boho', 'Brackaville', 'Bready', 'Brockagh', 'Brookeborough',\n",
       "       'Broomhill', 'Broughshane', 'Bryansford', 'Buckna', 'Burnfoot',\n",
       "       'Burren', 'BushmillsCaledon', 'Camlough', 'Campsie', 'Capecastle',\n",
       "       'Cappagh', 'Cargan', 'Carnalbanagh', 'Carncastle', 'Carnlough',\n",
       "       'Carnteel', 'Carrickaness', 'Carrickfergus', 'Carrickmore',\n",
       "       'Carrowclare', 'Carrowdore', 'Carrybridge', 'Carryduff',\n",
       "       'Castlecaulfield', 'Castledawson', 'Castlederg', 'Castlerock',\n",
       "       'Castlewellan', 'Charlemont', 'Clabby', 'Clady', 'Cladymore',\n",
       "       'Clanabogan', 'Claudy', 'Clogh', 'Clogher', 'Cloghy', 'Clonmore',\n",
       "       'Clonoe', 'Clough', 'Cloughmills', 'Coagh', 'Coalisland', 'Cogry',\n",
       "       'Kilbride', 'Coleraine', 'Collegeland', 'Comber', 'Conlig',\n",
       "       'Cookstown', 'Corbet', 'Corkey', 'Corrinshego', 'Craigarogan',\n",
       "       'Craigavon', 'Cranagh', 'Cranford', 'Crawfordsburn', 'Creagh',\n",
       "       'Creggan', 'Crossgar', 'Crossmaglen', 'Crumlin', 'Cullaville',\n",
       "       'Cullybackey', 'Cullyhanna', 'Culmore', 'Culnady', 'Curran',\n",
       "       'Cushendall', 'CushendunDarkley', 'Derry_Derrycrin',\n",
       "       'Derrygonnelly', 'Derryhale', 'Derrykeighan', 'Derrylin',\n",
       "       'Derrymacash', 'Derrymore', 'Derrynaflaw', 'Derrynoose',\n",
       "       'Derrytrasna', 'Derryvore', 'Dervock', 'Desertmartin', 'Doagh',\n",
       "       'Dollingstown', 'Donagh', 'Donaghadee', 'Donaghcloney', 'Donaghey',\n",
       "       'Donaghmore', 'Donegore', 'Dooish', 'Dorsey', 'DouglasBridge',\n",
       "       'Downhill', 'Downpatrick', 'Draperstown', 'Drinns_Bay', 'Dromara',\n",
       "       'Dromintee', 'Dromore', 'Drumaness', 'Drumbeg', 'Drumbo',\n",
       "       'Drumlaghy', 'Drumlough', 'Drummullan', 'Drumnacanvy',\n",
       "       'Drumnakilly', 'Drumquin', 'Drumraighland', 'Drumsurn', 'Dunadry',\n",
       "       'Dundonald', 'Dundrod', 'Dundrum', 'Dungannon', 'Dungiven',\n",
       "       'Dunloy', 'Dunnamanagh', 'Dunmurry', 'Dunnamore', 'Dunnaval',\n",
       "       'DunseverickGalbally', 'Gamblestown', 'Garrison', 'Garvagh',\n",
       "       'Garvaghey', 'Garvetagh', 'Gawley', 'GibsonHill', 'Gilford',\n",
       "       'Gillygooly', 'Glack', 'Glebe', 'Glenarm', 'Glenavy',\n",
       "       'Glengormley', 'Glenmornan', 'Glenoe', 'Glenone', 'Glynn',\n",
       "       'Gortaclare', 'Gortin', 'Gortnahey', 'Goshedan', 'Gracehill',\n",
       "       'Grange_Corner', 'Granville', 'Greencastle', 'Greenisland',\n",
       "       'Greyabbey', 'Greysteel', 'Groggan'], dtype=object)"
      ]
     },
     "execution_count": 309,
     "metadata": {},
     "output_type": "execute_result"
    }
   ],
   "source": [
    "ndf.States.unique()"
   ]
  },
  {
   "cell_type": "code",
   "execution_count": 310,
   "metadata": {},
   "outputs": [
    {
     "data": {
      "text/plain": [
       "0"
      ]
     },
     "execution_count": 310,
     "metadata": {},
     "output_type": "execute_result"
    }
   ],
   "source": [
    "ndf.duplicated().sum()"
   ]
  },
  {
   "cell_type": "code",
   "execution_count": 311,
   "metadata": {},
   "outputs": [],
   "source": [
    "ndf1=ndf.copy()"
   ]
  },
  {
   "cell_type": "code",
   "execution_count": 312,
   "metadata": {},
   "outputs": [
    {
     "data": {
      "text/html": [
       "<div>\n",
       "<style scoped>\n",
       "    .dataframe tbody tr th:only-of-type {\n",
       "        vertical-align: middle;\n",
       "    }\n",
       "\n",
       "    .dataframe tbody tr th {\n",
       "        vertical-align: top;\n",
       "    }\n",
       "\n",
       "    .dataframe thead th {\n",
       "        text-align: right;\n",
       "    }\n",
       "</style>\n",
       "<table border=\"1\" class=\"dataframe\">\n",
       "  <thead>\n",
       "    <tr style=\"text-align: right;\">\n",
       "      <th></th>\n",
       "      <th>Unnamed: 0</th>\n",
       "      <th>States</th>\n",
       "      <th>Health_indeces1</th>\n",
       "      <th>Health_indices2</th>\n",
       "      <th>Per_capita_income</th>\n",
       "      <th>GDP</th>\n",
       "    </tr>\n",
       "  </thead>\n",
       "  <tbody>\n",
       "    <tr>\n",
       "      <th>0</th>\n",
       "      <td>0</td>\n",
       "      <td>Bachevo</td>\n",
       "      <td>417</td>\n",
       "      <td>66</td>\n",
       "      <td>564</td>\n",
       "      <td>1823</td>\n",
       "    </tr>\n",
       "    <tr>\n",
       "      <th>1</th>\n",
       "      <td>1</td>\n",
       "      <td>Balgarchevo</td>\n",
       "      <td>1485</td>\n",
       "      <td>646</td>\n",
       "      <td>2710</td>\n",
       "      <td>73662</td>\n",
       "    </tr>\n",
       "    <tr>\n",
       "      <th>2</th>\n",
       "      <td>2</td>\n",
       "      <td>Belasitsa</td>\n",
       "      <td>654</td>\n",
       "      <td>299</td>\n",
       "      <td>1104</td>\n",
       "      <td>27318</td>\n",
       "    </tr>\n",
       "    <tr>\n",
       "      <th>3</th>\n",
       "      <td>3</td>\n",
       "      <td>Belo_Pole</td>\n",
       "      <td>192</td>\n",
       "      <td>25</td>\n",
       "      <td>573</td>\n",
       "      <td>250</td>\n",
       "    </tr>\n",
       "    <tr>\n",
       "      <th>4</th>\n",
       "      <td>4</td>\n",
       "      <td>Beslen</td>\n",
       "      <td>43</td>\n",
       "      <td>8</td>\n",
       "      <td>528</td>\n",
       "      <td>22</td>\n",
       "    </tr>\n",
       "  </tbody>\n",
       "</table>\n",
       "</div>"
      ],
      "text/plain": [
       "   Unnamed: 0       States  Health_indeces1  Health_indices2  \\\n",
       "0           0      Bachevo              417               66   \n",
       "1           1  Balgarchevo             1485              646   \n",
       "2           2    Belasitsa              654              299   \n",
       "3           3    Belo_Pole              192               25   \n",
       "4           4       Beslen               43                8   \n",
       "\n",
       "   Per_capita_income    GDP  \n",
       "0                564   1823  \n",
       "1               2710  73662  \n",
       "2               1104  27318  \n",
       "3                573    250  \n",
       "4                528     22  "
      ]
     },
     "execution_count": 312,
     "metadata": {},
     "output_type": "execute_result"
    }
   ],
   "source": [
    "ndf1.head()"
   ]
  },
  {
   "cell_type": "code",
   "execution_count": 313,
   "metadata": {},
   "outputs": [],
   "source": [
    "ndf1=ndf1.drop([\"Unnamed: 0\", \"States\"], axis=1)"
   ]
  },
  {
   "cell_type": "code",
   "execution_count": 314,
   "metadata": {},
   "outputs": [
    {
     "data": {
      "text/html": [
       "<div>\n",
       "<style scoped>\n",
       "    .dataframe tbody tr th:only-of-type {\n",
       "        vertical-align: middle;\n",
       "    }\n",
       "\n",
       "    .dataframe tbody tr th {\n",
       "        vertical-align: top;\n",
       "    }\n",
       "\n",
       "    .dataframe thead th {\n",
       "        text-align: right;\n",
       "    }\n",
       "</style>\n",
       "<table border=\"1\" class=\"dataframe\">\n",
       "  <thead>\n",
       "    <tr style=\"text-align: right;\">\n",
       "      <th></th>\n",
       "      <th>Health_indeces1</th>\n",
       "      <th>Health_indices2</th>\n",
       "      <th>Per_capita_income</th>\n",
       "      <th>GDP</th>\n",
       "    </tr>\n",
       "  </thead>\n",
       "  <tbody>\n",
       "    <tr>\n",
       "      <th>0</th>\n",
       "      <td>417</td>\n",
       "      <td>66</td>\n",
       "      <td>564</td>\n",
       "      <td>1823</td>\n",
       "    </tr>\n",
       "    <tr>\n",
       "      <th>1</th>\n",
       "      <td>1485</td>\n",
       "      <td>646</td>\n",
       "      <td>2710</td>\n",
       "      <td>73662</td>\n",
       "    </tr>\n",
       "    <tr>\n",
       "      <th>2</th>\n",
       "      <td>654</td>\n",
       "      <td>299</td>\n",
       "      <td>1104</td>\n",
       "      <td>27318</td>\n",
       "    </tr>\n",
       "    <tr>\n",
       "      <th>3</th>\n",
       "      <td>192</td>\n",
       "      <td>25</td>\n",
       "      <td>573</td>\n",
       "      <td>250</td>\n",
       "    </tr>\n",
       "    <tr>\n",
       "      <th>4</th>\n",
       "      <td>43</td>\n",
       "      <td>8</td>\n",
       "      <td>528</td>\n",
       "      <td>22</td>\n",
       "    </tr>\n",
       "  </tbody>\n",
       "</table>\n",
       "</div>"
      ],
      "text/plain": [
       "   Health_indeces1  Health_indices2  Per_capita_income    GDP\n",
       "0              417               66                564   1823\n",
       "1             1485              646               2710  73662\n",
       "2              654              299               1104  27318\n",
       "3              192               25                573    250\n",
       "4               43                8                528     22"
      ]
     },
     "execution_count": 314,
     "metadata": {},
     "output_type": "execute_result"
    }
   ],
   "source": [
    "ndf1.head()"
   ]
  },
  {
   "cell_type": "code",
   "execution_count": 315,
   "metadata": {},
   "outputs": [
    {
     "name": "stdout",
     "output_type": "stream",
     "text": [
      "<class 'pandas.core.frame.DataFrame'>\n",
      "RangeIndex: 297 entries, 0 to 296\n",
      "Data columns (total 4 columns):\n",
      " #   Column             Non-Null Count  Dtype\n",
      "---  ------             --------------  -----\n",
      " 0   Health_indeces1    297 non-null    int64\n",
      " 1   Health_indices2    297 non-null    int64\n",
      " 2   Per_capita_income  297 non-null    int64\n",
      " 3   GDP                297 non-null    int64\n",
      "dtypes: int64(4)\n",
      "memory usage: 9.4 KB\n"
     ]
    }
   ],
   "source": [
    "ndf1.info()"
   ]
  },
  {
   "cell_type": "code",
   "execution_count": 316,
   "metadata": {},
   "outputs": [
    {
     "data": {
      "image/png": "[encoded data removed]",
      "text/plain": [
       "<Figure size 864x432 with 2 Axes>"
      ]
     },
     "metadata": {
      "needs_background": "light"
     },
     "output_type": "display_data"
    },
    {
     "data": {
      "image/png": "[encoded data removed]",
      "text/plain": [
       "<Figure size 864x432 with 2 Axes>"
      ]
     },
     "metadata": {
      "needs_background": "light"
     },
     "output_type": "display_data"
    },
    {
     "data": {
      "image/png": "[encoded data removed]",
      "text/plain": [
       "<Figure size 864x432 with 2 Axes>"
      ]
     },
     "metadata": {
      "needs_background": "light"
     },
     "output_type": "display_data"
    },
    {
     "data": {
      "image/png": "[encoded data removed]",
      "text/plain": [
       "<Figure size 864x432 with 2 Axes>"
      ]
     },
     "metadata": {
      "needs_background": "light"
     },
     "output_type": "display_data"
    }
   ],
   "source": [
    "for cols in ndf1:\n",
    "    plt.figure(figsize=(12,6))\n",
    "    plt.subplot(1,2,1)\n",
    "    sns.histplot(ndf1[cols], kde=True)\n",
    "    plt.subplot(1,2,2)\n",
    "    sns.boxplot(ndf1[cols], showmeans=True);"
   ]
  },
  {
   "cell_type": "code",
   "execution_count": 317,
   "metadata": {},
   "outputs": [],
   "source": [
    "# Scaling"
   ]
  },
  {
   "cell_type": "code",
   "execution_count": 318,
   "metadata": {},
   "outputs": [
    {
     "data": {
      "text/html": [
       "<div>\n",
       "<style scoped>\n",
       "    .dataframe tbody tr th:only-of-type {\n",
       "        vertical-align: middle;\n",
       "    }\n",
       "\n",
       "    .dataframe tbody tr th {\n",
       "        vertical-align: top;\n",
       "    }\n",
       "\n",
       "    .dataframe thead th {\n",
       "        text-align: right;\n",
       "    }\n",
       "</style>\n",
       "<table border=\"1\" class=\"dataframe\">\n",
       "  <thead>\n",
       "    <tr style=\"text-align: right;\">\n",
       "      <th></th>\n",
       "      <th>Health_indeces1</th>\n",
       "      <th>Health_indices2</th>\n",
       "      <th>Per_capita_income</th>\n",
       "      <th>GDP</th>\n",
       "    </tr>\n",
       "  </thead>\n",
       "  <tbody>\n",
       "    <tr>\n",
       "      <th>0</th>\n",
       "      <td>-1.087506</td>\n",
       "      <td>-1.340654</td>\n",
       "      <td>-1.069544</td>\n",
       "      <td>-1.035304</td>\n",
       "    </tr>\n",
       "    <tr>\n",
       "      <th>1</th>\n",
       "      <td>-0.562708</td>\n",
       "      <td>-0.101746</td>\n",
       "      <td>0.371362</td>\n",
       "      <td>-0.604838</td>\n",
       "    </tr>\n",
       "    <tr>\n",
       "      <th>2</th>\n",
       "      <td>-0.971048</td>\n",
       "      <td>-0.842955</td>\n",
       "      <td>-0.706968</td>\n",
       "      <td>-0.882536</td>\n",
       "    </tr>\n",
       "    <tr>\n",
       "      <th>3</th>\n",
       "      <td>-1.198067</td>\n",
       "      <td>-1.428232</td>\n",
       "      <td>-1.063502</td>\n",
       "      <td>-1.044730</td>\n",
       "    </tr>\n",
       "    <tr>\n",
       "      <th>4</th>\n",
       "      <td>-1.271283</td>\n",
       "      <td>-1.464545</td>\n",
       "      <td>-1.093716</td>\n",
       "      <td>-1.046096</td>\n",
       "    </tr>\n",
       "  </tbody>\n",
       "</table>\n",
       "</div>"
      ],
      "text/plain": [
       "   Health_indeces1  Health_indices2  Per_capita_income       GDP\n",
       "0        -1.087506        -1.340654          -1.069544 -1.035304\n",
       "1        -0.562708        -0.101746           0.371362 -0.604838\n",
       "2        -0.971048        -0.842955          -0.706968 -0.882536\n",
       "3        -1.198067        -1.428232          -1.063502 -1.044730\n",
       "4        -1.271283        -1.464545          -1.093716 -1.046096"
      ]
     },
     "execution_count": 318,
     "metadata": {},
     "output_type": "execute_result"
    }
   ],
   "source": [
    "#Scaling the data using the ZScore Scaling function\n",
    "\n",
    "from scipy.stats import zscore\n",
    "\n",
    "#apply the scaler to the data:\n",
    "ndf_scaled =  ndf1.apply(zscore)\n",
    "ndf_scaled.head()"
   ]
  },
  {
   "cell_type": "code",
   "execution_count": 319,
   "metadata": {},
   "outputs": [
    {
     "data": {
      "text/html": [
       "<div>\n",
       "<style scoped>\n",
       "    .dataframe tbody tr th:only-of-type {\n",
       "        vertical-align: middle;\n",
       "    }\n",
       "\n",
       "    .dataframe tbody tr th {\n",
       "        vertical-align: top;\n",
       "    }\n",
       "\n",
       "    .dataframe thead th {\n",
       "        text-align: right;\n",
       "    }\n",
       "</style>\n",
       "<table border=\"1\" class=\"dataframe\">\n",
       "  <thead>\n",
       "    <tr style=\"text-align: right;\">\n",
       "      <th></th>\n",
       "      <th>Health_indeces1</th>\n",
       "      <th>Health_indices2</th>\n",
       "      <th>Per_capita_income</th>\n",
       "      <th>GDP</th>\n",
       "    </tr>\n",
       "  </thead>\n",
       "  <tbody>\n",
       "    <tr>\n",
       "      <th>0</th>\n",
       "      <td>-1.087506</td>\n",
       "      <td>-1.340654</td>\n",
       "      <td>-1.069544</td>\n",
       "      <td>-1.035304</td>\n",
       "    </tr>\n",
       "    <tr>\n",
       "      <th>1</th>\n",
       "      <td>-0.562708</td>\n",
       "      <td>-0.101746</td>\n",
       "      <td>0.371362</td>\n",
       "      <td>-0.604838</td>\n",
       "    </tr>\n",
       "    <tr>\n",
       "      <th>2</th>\n",
       "      <td>-0.971048</td>\n",
       "      <td>-0.842955</td>\n",
       "      <td>-0.706968</td>\n",
       "      <td>-0.882536</td>\n",
       "    </tr>\n",
       "    <tr>\n",
       "      <th>3</th>\n",
       "      <td>-1.198067</td>\n",
       "      <td>-1.428232</td>\n",
       "      <td>-1.063502</td>\n",
       "      <td>-1.044730</td>\n",
       "    </tr>\n",
       "    <tr>\n",
       "      <th>4</th>\n",
       "      <td>-1.271283</td>\n",
       "      <td>-1.464545</td>\n",
       "      <td>-1.093716</td>\n",
       "      <td>-1.046096</td>\n",
       "    </tr>\n",
       "  </tbody>\n",
       "</table>\n",
       "</div>"
      ],
      "text/plain": [
       "   Health_indeces1  Health_indices2  Per_capita_income       GDP\n",
       "0        -1.087506        -1.340654          -1.069544 -1.035304\n",
       "1        -0.562708        -0.101746           0.371362 -0.604838\n",
       "2        -0.971048        -0.842955          -0.706968 -0.882536\n",
       "3        -1.198067        -1.428232          -1.063502 -1.044730\n",
       "4        -1.271283        -1.464545          -1.093716 -1.046096"
      ]
     },
     "execution_count": 319,
     "metadata": {},
     "output_type": "execute_result"
    }
   ],
   "source": [
    "#scaling the data using the StandardScaler function\n",
    "\n",
    "from sklearn.preprocessing import StandardScaler\n",
    "X = StandardScaler()\n",
    "\n",
    "#assign scaler to column:\n",
    "ndf_scaled1 =  X.fit_transform(ndf1)\n",
    "ndf_scaled1 = pd.DataFrame(ndf_scaled1,columns=ndf1.columns)\n",
    "ndf_scaled1.head()"
   ]
  },
  {
   "cell_type": "code",
   "execution_count": 320,
   "metadata": {},
   "outputs": [],
   "source": [
    "import scipy.cluster.hierarchy as shc"
   ]
  },
  {
   "cell_type": "code",
   "execution_count": 321,
   "metadata": {},
   "outputs": [
    {
     "data": {
      "image/png": "[encoded data removed]",
      "text/plain": [
       "<Figure size 3600x1440 with 1 Axes>"
      ]
     },
     "metadata": {
      "needs_background": "light"
     },
     "output_type": "display_data"
    }
   ],
   "source": [
    "from scipy.cluster.hierarchy import dendrogram, linkage\n",
    "plt.figure(figsize=(50, 20))\n",
    "Z_Final = linkage(ndf_scaled, 'ward', metric='euclidean')\n",
    "plt.title('Hierarchical Clustering Dendrogram (truncated)')\n",
    "plt.xlabel('sample index or (cluster size)')\n",
    "plt.ylabel('distance')\n",
    "dendrogram(\n",
    "    Z_Final,\n",
    "    truncate_mode='lastp',  # show only the last p merged clusters\n",
    "    p=80,  # show only the last p merged clusters\n",
    "    leaf_rotation=90,\n",
    "    leaf_font_size=12,\n",
    "    color_threshold=10 \n",
    ")\n",
    "plt.show()"
   ]
  },
  {
   "cell_type": "code",
   "execution_count": 322,
   "metadata": {},
   "outputs": [
    {
     "data": {
      "text/plain": [
       "array([3, 4, 3, 3, 3, 3, 3, 2, 3, 4, 3, 3, 3, 3, 3, 3, 1, 3, 3, 1, 4, 3,\n",
       "       3, 3, 4, 3, 4, 4, 4, 3, 4, 3, 3, 1, 3, 3, 1, 4, 3, 4, 3, 3, 4, 4,\n",
       "       4, 3, 3, 1, 3, 3, 3, 4, 3, 1, 3, 4, 4, 3, 3, 4, 4, 3, 3, 1, 4, 3,\n",
       "       4, 3, 3, 3, 3, 4, 3, 3, 3, 3, 4, 4, 3, 3, 3, 3, 3, 3, 4, 4, 3, 3,\n",
       "       3, 1, 3, 3, 3, 4, 3, 3, 4, 3, 3, 4, 3, 3, 2, 3, 4, 3, 4, 4, 3, 3,\n",
       "       3, 2, 4, 4, 3, 3, 3, 4, 3, 3, 4, 3, 3, 3, 2, 3, 4, 3, 3, 4, 3, 3,\n",
       "       3, 4, 3, 3, 3, 3, 3, 4, 3, 4, 3, 3, 3, 4, 1, 3, 4, 3, 2, 1, 1, 1,\n",
       "       1, 2, 1, 2, 2, 1, 1, 2, 1, 2, 1, 2, 2, 1, 2, 2, 1, 2, 1, 1, 1, 2,\n",
       "       1, 2, 2, 1, 2, 2, 1, 1, 1, 1, 1, 2, 1, 1, 2, 2, 2, 1, 1, 2, 1, 1,\n",
       "       2, 2, 2, 1, 2, 2, 1, 1, 1, 1, 1, 1, 1, 2, 1, 1, 1, 2, 1, 1, 2, 1,\n",
       "       1, 1, 1, 1, 1, 2, 1, 1, 1, 1, 1, 1, 2, 2, 1, 1, 4, 4, 4, 4, 4, 4,\n",
       "       4, 4, 4, 4, 4, 4, 4, 4, 4, 4, 4, 4, 4, 4, 4, 4, 4, 4, 4, 4, 4, 4,\n",
       "       4, 4, 4, 4, 4, 4, 4, 4, 4, 4, 4, 4, 4, 4, 4, 4, 4, 4, 4, 4, 4, 4,\n",
       "       4, 4, 4, 4, 4, 4, 4, 4, 4, 4, 4], dtype=int32)"
      ]
     },
     "execution_count": 322,
     "metadata": {},
     "output_type": "execute_result"
    }
   ],
   "source": [
    "# Here 4 is number of clusters we want\n",
    "clusters_1 = shc.fcluster(shc.linkage(ndf_scaled, method='ward'), 4, criterion='maxclust')\n",
    "clusters_1"
   ]
  },
  {
   "cell_type": "code",
   "execution_count": 323,
   "metadata": {},
   "outputs": [
    {
     "data": {
      "text/plain": [
       "array([3, 4, 3, 3, 3, 3, 3, 2, 3, 4, 3, 3, 3, 3, 3, 3, 1, 3, 3, 1, 4, 3,\n",
       "       3, 3, 4, 3, 4, 4, 4, 3, 4, 3, 3, 1, 3, 3, 1, 4, 3, 4, 3, 3, 4, 4,\n",
       "       4, 3, 3, 1, 3, 3, 3, 4, 3, 1, 3, 4, 4, 3, 3, 4, 4, 3, 3, 1, 4, 3,\n",
       "       4, 3, 3, 3, 3, 4, 3, 3, 3, 3, 4, 4, 3, 3, 3, 3, 3, 3, 4, 4, 3, 3,\n",
       "       3, 1, 3, 3, 3, 4, 3, 3, 4, 3, 3, 4, 3, 3, 2, 3, 4, 3, 4, 4, 3, 3,\n",
       "       3, 2, 4, 4, 3, 3, 3, 4, 3, 3, 4, 3, 3, 3, 2, 3, 4, 3, 3, 4, 3, 3,\n",
       "       3, 4, 3, 3, 3, 3, 3, 4, 3, 4, 3, 3, 3, 4, 1, 3, 4, 3, 2, 1, 1, 1,\n",
       "       1, 2, 1, 2, 2, 1, 1, 2, 1, 2, 1, 2, 2, 1, 2, 2, 1, 2, 1, 1, 1, 2,\n",
       "       1, 2, 2, 1, 2, 2, 1, 1, 1, 1, 1, 2, 1, 1, 2, 2, 2, 1, 1, 2, 1, 1,\n",
       "       2, 2, 2, 1, 2, 2, 1, 1, 1, 1, 1, 1, 1, 2, 1, 1, 1, 2, 1, 1, 2, 1,\n",
       "       1, 1, 1, 1, 1, 2, 1, 1, 1, 1, 1, 1, 2, 2, 1, 1, 4, 4, 4, 4, 4, 4,\n",
       "       4, 4, 4, 4, 4, 4, 4, 4, 4, 4, 4, 4, 4, 4, 4, 4, 4, 4, 4, 4, 4, 4,\n",
       "       4, 4, 4, 4, 4, 4, 4, 4, 4, 4, 4, 4, 4, 4, 4, 4, 4, 4, 4, 4, 4, 4,\n",
       "       4, 4, 4, 4, 4, 4, 4, 4, 4, 4, 4], dtype=int32)"
      ]
     },
     "execution_count": 323,
     "metadata": {},
     "output_type": "execute_result"
    }
   ],
   "source": [
    "# here 10 is the value of color_threshold in the dendrogram\n",
    "clusters_2 = shc.fcluster(shc.linkage(ndf_scaled, method='ward'),10 , criterion='distance')\n",
    "clusters_2"
   ]
  },
  {
   "cell_type": "code",
   "execution_count": 324,
   "metadata": {},
   "outputs": [
    {
     "data": {
      "text/html": [
       "<div>\n",
       "<style scoped>\n",
       "    .dataframe tbody tr th:only-of-type {\n",
       "        vertical-align: middle;\n",
       "    }\n",
       "\n",
       "    .dataframe tbody tr th {\n",
       "        vertical-align: top;\n",
       "    }\n",
       "\n",
       "    .dataframe thead th {\n",
       "        text-align: right;\n",
       "    }\n",
       "</style>\n",
       "<table border=\"1\" class=\"dataframe\">\n",
       "  <thead>\n",
       "    <tr style=\"text-align: right;\">\n",
       "      <th></th>\n",
       "      <th>Health_indeces1</th>\n",
       "      <th>Health_indices2</th>\n",
       "      <th>Per_capita_income</th>\n",
       "      <th>GDP</th>\n",
       "      <th>cluster_1</th>\n",
       "      <th>cluster_2</th>\n",
       "    </tr>\n",
       "  </thead>\n",
       "  <tbody>\n",
       "    <tr>\n",
       "      <th>0</th>\n",
       "      <td>417</td>\n",
       "      <td>66</td>\n",
       "      <td>564</td>\n",
       "      <td>1823</td>\n",
       "      <td>3</td>\n",
       "      <td>3</td>\n",
       "    </tr>\n",
       "    <tr>\n",
       "      <th>1</th>\n",
       "      <td>1485</td>\n",
       "      <td>646</td>\n",
       "      <td>2710</td>\n",
       "      <td>73662</td>\n",
       "      <td>4</td>\n",
       "      <td>4</td>\n",
       "    </tr>\n",
       "    <tr>\n",
       "      <th>2</th>\n",
       "      <td>654</td>\n",
       "      <td>299</td>\n",
       "      <td>1104</td>\n",
       "      <td>27318</td>\n",
       "      <td>3</td>\n",
       "      <td>3</td>\n",
       "    </tr>\n",
       "    <tr>\n",
       "      <th>3</th>\n",
       "      <td>192</td>\n",
       "      <td>25</td>\n",
       "      <td>573</td>\n",
       "      <td>250</td>\n",
       "      <td>3</td>\n",
       "      <td>3</td>\n",
       "    </tr>\n",
       "    <tr>\n",
       "      <th>4</th>\n",
       "      <td>43</td>\n",
       "      <td>8</td>\n",
       "      <td>528</td>\n",
       "      <td>22</td>\n",
       "      <td>3</td>\n",
       "      <td>3</td>\n",
       "    </tr>\n",
       "  </tbody>\n",
       "</table>\n",
       "</div>"
      ],
      "text/plain": [
       "   Health_indeces1  Health_indices2  Per_capita_income    GDP  cluster_1  \\\n",
       "0              417               66                564   1823          3   \n",
       "1             1485              646               2710  73662          4   \n",
       "2              654              299               1104  27318          3   \n",
       "3              192               25                573    250          3   \n",
       "4               43                8                528     22          3   \n",
       "\n",
       "   cluster_2  \n",
       "0          3  \n",
       "1          4  \n",
       "2          3  \n",
       "3          3  \n",
       "4          3  "
      ]
     },
     "execution_count": 324,
     "metadata": {},
     "output_type": "execute_result"
    }
   ],
   "source": [
    "ndf1['cluster_1']= clusters_1\n",
    "ndf1['cluster_2']= clusters_2\n",
    "ndf1.head()"
   ]
  },
  {
   "cell_type": "code",
   "execution_count": 325,
   "metadata": {},
   "outputs": [
    {
     "data": {
      "text/html": [
       "<div>\n",
       "<style scoped>\n",
       "    .dataframe tbody tr th:only-of-type {\n",
       "        vertical-align: middle;\n",
       "    }\n",
       "\n",
       "    .dataframe tbody tr th {\n",
       "        vertical-align: top;\n",
       "    }\n",
       "\n",
       "    .dataframe thead th {\n",
       "        text-align: right;\n",
       "    }\n",
       "</style>\n",
       "<table border=\"1\" class=\"dataframe\">\n",
       "  <thead>\n",
       "    <tr style=\"text-align: right;\">\n",
       "      <th></th>\n",
       "      <th>Health_indeces1</th>\n",
       "      <th>Health_indices2</th>\n",
       "      <th>Per_capita_income</th>\n",
       "      <th>GDP</th>\n",
       "      <th>cluster_1</th>\n",
       "      <th>cluster_2</th>\n",
       "    </tr>\n",
       "  </thead>\n",
       "  <tbody>\n",
       "    <tr>\n",
       "      <th>292</th>\n",
       "      <td>3443</td>\n",
       "      <td>970</td>\n",
       "      <td>2499</td>\n",
       "      <td>238636</td>\n",
       "      <td>4</td>\n",
       "      <td>4</td>\n",
       "    </tr>\n",
       "    <tr>\n",
       "      <th>293</th>\n",
       "      <td>2963</td>\n",
       "      <td>793</td>\n",
       "      <td>1257</td>\n",
       "      <td>162831</td>\n",
       "      <td>4</td>\n",
       "      <td>4</td>\n",
       "    </tr>\n",
       "    <tr>\n",
       "      <th>294</th>\n",
       "      <td>3276</td>\n",
       "      <td>609</td>\n",
       "      <td>1522</td>\n",
       "      <td>120184</td>\n",
       "      <td>4</td>\n",
       "      <td>4</td>\n",
       "    </tr>\n",
       "    <tr>\n",
       "      <th>295</th>\n",
       "      <td>3463</td>\n",
       "      <td>847</td>\n",
       "      <td>934</td>\n",
       "      <td>199403</td>\n",
       "      <td>4</td>\n",
       "      <td>4</td>\n",
       "    </tr>\n",
       "    <tr>\n",
       "      <th>296</th>\n",
       "      <td>2070</td>\n",
       "      <td>838</td>\n",
       "      <td>3179</td>\n",
       "      <td>166767</td>\n",
       "      <td>4</td>\n",
       "      <td>4</td>\n",
       "    </tr>\n",
       "  </tbody>\n",
       "</table>\n",
       "</div>"
      ],
      "text/plain": [
       "     Health_indeces1  Health_indices2  Per_capita_income     GDP  cluster_1  \\\n",
       "292             3443              970               2499  238636          4   \n",
       "293             2963              793               1257  162831          4   \n",
       "294             3276              609               1522  120184          4   \n",
       "295             3463              847                934  199403          4   \n",
       "296             2070              838               3179  166767          4   \n",
       "\n",
       "     cluster_2  \n",
       "292          4  \n",
       "293          4  \n",
       "294          4  \n",
       "295          4  \n",
       "296          4  "
      ]
     },
     "execution_count": 325,
     "metadata": {},
     "output_type": "execute_result"
    }
   ],
   "source": [
    "ndf1.tail()"
   ]
  },
  {
   "cell_type": "code",
   "execution_count": 326,
   "metadata": {},
   "outputs": [
    {
     "data": {
      "text/html": [
       "<div>\n",
       "<style scoped>\n",
       "    .dataframe tbody tr th:only-of-type {\n",
       "        vertical-align: middle;\n",
       "    }\n",
       "\n",
       "    .dataframe tbody tr th {\n",
       "        vertical-align: top;\n",
       "    }\n",
       "\n",
       "    .dataframe thead th {\n",
       "        text-align: right;\n",
       "    }\n",
       "</style>\n",
       "<table border=\"1\" class=\"dataframe\">\n",
       "  <thead>\n",
       "    <tr style=\"text-align: right;\">\n",
       "      <th></th>\n",
       "      <th>Health_indeces1</th>\n",
       "      <th>Health_indices2</th>\n",
       "      <th>Per_capita_income</th>\n",
       "      <th>GDP</th>\n",
       "      <th>cluster count</th>\n",
       "    </tr>\n",
       "    <tr>\n",
       "      <th>cluster_1</th>\n",
       "      <th></th>\n",
       "      <th></th>\n",
       "      <th></th>\n",
       "      <th></th>\n",
       "      <th></th>\n",
       "    </tr>\n",
       "  </thead>\n",
       "  <tbody>\n",
       "    <tr>\n",
       "      <th>1</th>\n",
       "      <td>4796.174603</td>\n",
       "      <td>1129.936508</td>\n",
       "      <td>2419.746032</td>\n",
       "      <td>382809.936508</td>\n",
       "      <td>63</td>\n",
       "    </tr>\n",
       "    <tr>\n",
       "      <th>2</th>\n",
       "      <td>5146.444444</td>\n",
       "      <td>1327.138889</td>\n",
       "      <td>5047.083333</td>\n",
       "      <td>367196.916667</td>\n",
       "      <td>36</td>\n",
       "    </tr>\n",
       "    <tr>\n",
       "      <th>3</th>\n",
       "      <td>401.063158</td>\n",
       "      <td>104.536842</td>\n",
       "      <td>680.673684</td>\n",
       "      <td>5388.768421</td>\n",
       "      <td>95</td>\n",
       "    </tr>\n",
       "    <tr>\n",
       "      <th>4</th>\n",
       "      <td>2481.776699</td>\n",
       "      <td>748.689320</td>\n",
       "      <td>2347.582524</td>\n",
       "      <td>136004.699029</td>\n",
       "      <td>103</td>\n",
       "    </tr>\n",
       "  </tbody>\n",
       "</table>\n",
       "</div>"
      ],
      "text/plain": [
       "           Health_indeces1  Health_indices2  Per_capita_income            GDP  \\\n",
       "cluster_1                                                                       \n",
       "1              4796.174603      1129.936508        2419.746032  382809.936508   \n",
       "2              5146.444444      1327.138889        5047.083333  367196.916667   \n",
       "3               401.063158       104.536842         680.673684    5388.768421   \n",
       "4              2481.776699       748.689320        2347.582524  136004.699029   \n",
       "\n",
       "           cluster count  \n",
       "cluster_1                 \n",
       "1                     63  \n",
       "2                     36  \n",
       "3                     95  \n",
       "4                    103  "
      ]
     },
     "execution_count": 326,
     "metadata": {},
     "output_type": "execute_result"
    }
   ],
   "source": [
    "ndf2 = ndf1.drop(['cluster_2'],axis=1)\n",
    "df_clust_1 = ndf2.groupby('cluster_1').mean()\n",
    "cluster_1_freq = ndf1['cluster_1'].value_counts().sort_index()\n",
    "df_clust_1['cluster count'] = cluster_1_freq\n",
    "df_clust_1"
   ]
  },
  {
   "cell_type": "code",
   "execution_count": 327,
   "metadata": {},
   "outputs": [
    {
     "data": {
      "text/html": [
       "<div>\n",
       "<style scoped>\n",
       "    .dataframe tbody tr th:only-of-type {\n",
       "        vertical-align: middle;\n",
       "    }\n",
       "\n",
       "    .dataframe tbody tr th {\n",
       "        vertical-align: top;\n",
       "    }\n",
       "\n",
       "    .dataframe thead th {\n",
       "        text-align: right;\n",
       "    }\n",
       "</style>\n",
       "<table border=\"1\" class=\"dataframe\">\n",
       "  <thead>\n",
       "    <tr style=\"text-align: right;\">\n",
       "      <th></th>\n",
       "      <th>Health_indeces1</th>\n",
       "      <th>Health_indices2</th>\n",
       "      <th>Per_capita_income</th>\n",
       "      <th>GDP</th>\n",
       "      <th>cluster count</th>\n",
       "    </tr>\n",
       "    <tr>\n",
       "      <th>cluster_2</th>\n",
       "      <th></th>\n",
       "      <th></th>\n",
       "      <th></th>\n",
       "      <th></th>\n",
       "      <th></th>\n",
       "    </tr>\n",
       "  </thead>\n",
       "  <tbody>\n",
       "    <tr>\n",
       "      <th>1</th>\n",
       "      <td>4796.174603</td>\n",
       "      <td>1129.936508</td>\n",
       "      <td>2419.746032</td>\n",
       "      <td>382809.936508</td>\n",
       "      <td>63</td>\n",
       "    </tr>\n",
       "    <tr>\n",
       "      <th>2</th>\n",
       "      <td>5146.444444</td>\n",
       "      <td>1327.138889</td>\n",
       "      <td>5047.083333</td>\n",
       "      <td>367196.916667</td>\n",
       "      <td>36</td>\n",
       "    </tr>\n",
       "    <tr>\n",
       "      <th>3</th>\n",
       "      <td>401.063158</td>\n",
       "      <td>104.536842</td>\n",
       "      <td>680.673684</td>\n",
       "      <td>5388.768421</td>\n",
       "      <td>95</td>\n",
       "    </tr>\n",
       "    <tr>\n",
       "      <th>4</th>\n",
       "      <td>2481.776699</td>\n",
       "      <td>748.689320</td>\n",
       "      <td>2347.582524</td>\n",
       "      <td>136004.699029</td>\n",
       "      <td>103</td>\n",
       "    </tr>\n",
       "  </tbody>\n",
       "</table>\n",
       "</div>"
      ],
      "text/plain": [
       "           Health_indeces1  Health_indices2  Per_capita_income            GDP  \\\n",
       "cluster_2                                                                       \n",
       "1              4796.174603      1129.936508        2419.746032  382809.936508   \n",
       "2              5146.444444      1327.138889        5047.083333  367196.916667   \n",
       "3               401.063158       104.536842         680.673684    5388.768421   \n",
       "4              2481.776699       748.689320        2347.582524  136004.699029   \n",
       "\n",
       "           cluster count  \n",
       "cluster_2                 \n",
       "1                     63  \n",
       "2                     36  \n",
       "3                     95  \n",
       "4                    103  "
      ]
     },
     "execution_count": 327,
     "metadata": {},
     "output_type": "execute_result"
    }
   ],
   "source": [
    "ndf3 = ndf1.drop(['cluster_1'],axis=1)\n",
    "df_clust_2 = ndf3.groupby('cluster_2').mean()\n",
    "cluster_2_freq = ndf1['cluster_2'].value_counts().sort_index()\n",
    "df_clust_2['cluster count'] = cluster_2_freq\n",
    "df_clust_2"
   ]
  },
  {
   "cell_type": "code",
   "execution_count": 328,
   "metadata": {},
   "outputs": [],
   "source": [
    "#K means Clustering"
   ]
  },
  {
   "cell_type": "code",
   "execution_count": 329,
   "metadata": {},
   "outputs": [],
   "source": [
    "from sklearn.cluster import KMeans\n",
    "wcss = []\n",
    "for i in range(2, 11):\n",
    "    kmeans = KMeans(n_clusters = i, random_state = 42)\n",
    "    kmeans.fit(ndf_scaled1)\n",
    "    # inertia method returns wcss for that model\n",
    "    wcss.append(kmeans.inertia_)"
   ]
  },
  {
   "cell_type": "code",
   "execution_count": 330,
   "metadata": {},
   "outputs": [
    {
     "name": "stdout",
     "output_type": "stream",
     "text": [
      "The WSS value for 2 clusters is 471.310214086778\n",
      "The WSS value for 3 clusters is 260.57294083762304\n",
      "The WSS value for 4 clusters is 183.6098397680126\n",
      "The WSS value for 5 clusters is 149.79228548458315\n",
      "The WSS value for 6 clusters is 117.21243274755014\n",
      "The WSS value for 7 clusters is 90.70407800052654\n",
      "The WSS value for 8 clusters is 79.62218215722895\n",
      "The WSS value for 9 clusters is 71.59970323325118\n",
      "The WSS value for 10 clusters is 63.85936660154596\n"
     ]
    }
   ],
   "source": [
    "for i in range(2,11):\n",
    "    print('The WSS value for',i,'clusters is',wcss[i-2])"
   ]
  },
  {
   "cell_type": "code",
   "execution_count": 331,
   "metadata": {},
   "outputs": [
    {
     "data": {
      "image/png": "[encoded data removed]",
      "text/plain": [
       "<Figure size 720x360 with 1 Axes>"
      ]
     },
     "metadata": {
      "needs_background": "light"
     },
     "output_type": "display_data"
    }
   ],
   "source": [
    "plt.figure(figsize=(10,5))\n",
    "sns.lineplot(wcss, marker='o',color='red')\n",
    "plt.title('The Elbow Method')\n",
    "plt.xlabel('Number of clusters')\n",
    "plt.ylabel('WCSS')\n",
    "plt.grid()\n",
    "plt.show()"
   ]
  },
  {
   "cell_type": "code",
   "execution_count": 332,
   "metadata": {},
   "outputs": [
    {
     "data": {
      "text/plain": [
       "array([2, 0, 2, 2, 2, 2, 2, 3, 2, 0, 2, 2, 2, 2, 2, 2, 1, 2, 2, 1, 0, 2,\n",
       "       2, 2, 0, 2, 2, 0, 0, 2, 2, 2, 2, 1, 2, 2, 1, 0, 2, 0, 2, 2, 0, 0,\n",
       "       0, 2, 2, 0, 2, 2, 2, 0, 2, 1, 2, 0, 0, 2, 2, 0, 0, 2, 2, 1, 0, 2,\n",
       "       0, 2, 2, 2, 2, 0, 2, 2, 2, 2, 0, 0, 2, 2, 2, 2, 2, 2, 2, 0, 2, 2,\n",
       "       2, 1, 2, 2, 2, 2, 2, 2, 0, 2, 2, 0, 2, 2, 3, 2, 0, 2, 0, 0, 2, 2,\n",
       "       2, 3, 0, 0, 2, 2, 2, 0, 2, 2, 0, 2, 2, 2, 3, 2, 0, 2, 2, 0, 2, 2,\n",
       "       2, 2, 2, 2, 2, 2, 2, 0, 2, 0, 2, 2, 2, 0, 1, 2, 0, 2, 3, 1, 1, 1,\n",
       "       1, 3, 1, 3, 3, 1, 1, 3, 1, 3, 1, 3, 3, 1, 3, 3, 1, 3, 1, 1, 1, 3,\n",
       "       1, 3, 3, 1, 3, 3, 1, 1, 1, 0, 1, 3, 1, 1, 3, 3, 3, 1, 1, 3, 1, 1,\n",
       "       3, 3, 3, 1, 3, 3, 1, 1, 0, 1, 1, 1, 1, 3, 1, 1, 1, 3, 1, 1, 3, 1,\n",
       "       1, 1, 1, 1, 0, 3, 1, 1, 1, 1, 1, 1, 3, 3, 1, 1, 0, 0, 0, 0, 0, 0,\n",
       "       0, 0, 0, 2, 0, 0, 0, 0, 0, 0, 0, 0, 0, 0, 0, 0, 0, 0, 0, 0, 0, 0,\n",
       "       0, 0, 0, 0, 0, 0, 0, 0, 0, 0, 0, 0, 0, 0, 0, 0, 0, 0, 0, 0, 0, 0,\n",
       "       0, 0, 0, 0, 0, 0, 0, 0, 0, 0, 0])"
      ]
     },
     "execution_count": 332,
     "metadata": {},
     "output_type": "execute_result"
    }
   ],
   "source": [
    "k_means = KMeans(n_clusters = 4,random_state=42)\n",
    "k_means.fit(ndf_scaled1)\n",
    "labels_4 = k_means.labels_\n",
    "labels_4"
   ]
  },
  {
   "cell_type": "code",
   "execution_count": 333,
   "metadata": {},
   "outputs": [
    {
     "data": {
      "text/plain": [
       "array([0, 2, 0, 0, 0, 0, 0, 1, 0, 2, 0, 0, 0, 0, 0, 0, 1, 0, 0, 1, 2, 0,\n",
       "       0, 0, 2, 0, 0, 2, 2, 0, 0, 0, 0, 1, 0, 0, 1, 2, 0, 2, 0, 0, 2, 2,\n",
       "       2, 0, 0, 2, 0, 0, 0, 2, 0, 1, 0, 2, 2, 0, 0, 2, 2, 0, 0, 1, 2, 0,\n",
       "       2, 0, 0, 0, 0, 2, 0, 0, 0, 0, 2, 2, 0, 0, 0, 0, 0, 0, 0, 2, 0, 0,\n",
       "       0, 1, 0, 0, 0, 0, 0, 0, 2, 0, 0, 2, 0, 0, 1, 0, 2, 0, 2, 2, 0, 0,\n",
       "       0, 1, 2, 2, 0, 0, 0, 2, 0, 0, 2, 0, 0, 0, 1, 0, 2, 0, 0, 2, 0, 0,\n",
       "       0, 0, 0, 0, 0, 0, 0, 2, 0, 2, 0, 0, 0, 2, 1, 0, 2, 0, 1, 1, 1, 1,\n",
       "       1, 1, 1, 1, 1, 1, 1, 1, 1, 1, 1, 1, 1, 1, 1, 1, 1, 1, 1, 1, 1, 1,\n",
       "       1, 1, 1, 1, 1, 1, 1, 1, 1, 2, 1, 1, 1, 1, 1, 1, 1, 1, 1, 1, 1, 1,\n",
       "       1, 1, 1, 1, 1, 1, 1, 1, 2, 1, 1, 1, 1, 1, 1, 1, 1, 1, 1, 1, 1, 1,\n",
       "       1, 1, 1, 1, 2, 1, 1, 1, 1, 1, 1, 1, 1, 1, 1, 1, 2, 2, 2, 2, 2, 2,\n",
       "       2, 2, 2, 0, 2, 2, 2, 2, 2, 2, 2, 2, 2, 2, 2, 2, 2, 2, 2, 2, 2, 2,\n",
       "       2, 2, 2, 2, 2, 2, 2, 2, 2, 2, 2, 2, 2, 2, 2, 2, 2, 2, 2, 2, 2, 2,\n",
       "       2, 2, 2, 2, 2, 2, 2, 2, 2, 2, 2])"
      ]
     },
     "execution_count": 333,
     "metadata": {},
     "output_type": "execute_result"
    }
   ],
   "source": [
    "k_means = KMeans(n_clusters = 3,random_state=42)\n",
    "k_means.fit(ndf_scaled1)\n",
    "labels_3 = k_means.labels_\n",
    "labels_3"
   ]
  },
  {
   "cell_type": "code",
   "execution_count": 334,
   "metadata": {},
   "outputs": [
    {
     "data": {
      "text/html": [
       "<div>\n",
       "<style scoped>\n",
       "    .dataframe tbody tr th:only-of-type {\n",
       "        vertical-align: middle;\n",
       "    }\n",
       "\n",
       "    .dataframe tbody tr th {\n",
       "        vertical-align: top;\n",
       "    }\n",
       "\n",
       "    .dataframe thead th {\n",
       "        text-align: right;\n",
       "    }\n",
       "</style>\n",
       "<table border=\"1\" class=\"dataframe\">\n",
       "  <thead>\n",
       "    <tr style=\"text-align: right;\">\n",
       "      <th></th>\n",
       "      <th>Health_indeces1</th>\n",
       "      <th>Health_indices2</th>\n",
       "      <th>Per_capita_income</th>\n",
       "      <th>GDP</th>\n",
       "      <th>cluster_1</th>\n",
       "      <th>cluster_2</th>\n",
       "      <th>kmeans_cluster_4</th>\n",
       "      <th>kmeans_cluster_3</th>\n",
       "    </tr>\n",
       "  </thead>\n",
       "  <tbody>\n",
       "    <tr>\n",
       "      <th>0</th>\n",
       "      <td>417</td>\n",
       "      <td>66</td>\n",
       "      <td>564</td>\n",
       "      <td>1823</td>\n",
       "      <td>3</td>\n",
       "      <td>3</td>\n",
       "      <td>2</td>\n",
       "      <td>0</td>\n",
       "    </tr>\n",
       "    <tr>\n",
       "      <th>1</th>\n",
       "      <td>1485</td>\n",
       "      <td>646</td>\n",
       "      <td>2710</td>\n",
       "      <td>73662</td>\n",
       "      <td>4</td>\n",
       "      <td>4</td>\n",
       "      <td>0</td>\n",
       "      <td>2</td>\n",
       "    </tr>\n",
       "    <tr>\n",
       "      <th>2</th>\n",
       "      <td>654</td>\n",
       "      <td>299</td>\n",
       "      <td>1104</td>\n",
       "      <td>27318</td>\n",
       "      <td>3</td>\n",
       "      <td>3</td>\n",
       "      <td>2</td>\n",
       "      <td>0</td>\n",
       "    </tr>\n",
       "    <tr>\n",
       "      <th>3</th>\n",
       "      <td>192</td>\n",
       "      <td>25</td>\n",
       "      <td>573</td>\n",
       "      <td>250</td>\n",
       "      <td>3</td>\n",
       "      <td>3</td>\n",
       "      <td>2</td>\n",
       "      <td>0</td>\n",
       "    </tr>\n",
       "    <tr>\n",
       "      <th>4</th>\n",
       "      <td>43</td>\n",
       "      <td>8</td>\n",
       "      <td>528</td>\n",
       "      <td>22</td>\n",
       "      <td>3</td>\n",
       "      <td>3</td>\n",
       "      <td>2</td>\n",
       "      <td>0</td>\n",
       "    </tr>\n",
       "  </tbody>\n",
       "</table>\n",
       "</div>"
      ],
      "text/plain": [
       "   Health_indeces1  Health_indices2  Per_capita_income    GDP  cluster_1  \\\n",
       "0              417               66                564   1823          3   \n",
       "1             1485              646               2710  73662          4   \n",
       "2              654              299               1104  27318          3   \n",
       "3              192               25                573    250          3   \n",
       "4               43                8                528     22          3   \n",
       "\n",
       "   cluster_2  kmeans_cluster_4  kmeans_cluster_3  \n",
       "0          3                 2                 0  \n",
       "1          4                 0                 2  \n",
       "2          3                 2                 0  \n",
       "3          3                 2                 0  \n",
       "4          3                 2                 0  "
      ]
     },
     "execution_count": 334,
     "metadata": {},
     "output_type": "execute_result"
    }
   ],
   "source": [
    "ndf1['kmeans_cluster_4']= labels_4\n",
    "ndf1['kmeans_cluster_3']= labels_3\n",
    "ndf1.head()"
   ]
  },
  {
   "cell_type": "code",
   "execution_count": 335,
   "metadata": {},
   "outputs": [
    {
     "data": {
      "text/html": [
       "<div>\n",
       "<style scoped>\n",
       "    .dataframe tbody tr th:only-of-type {\n",
       "        vertical-align: middle;\n",
       "    }\n",
       "\n",
       "    .dataframe tbody tr th {\n",
       "        vertical-align: top;\n",
       "    }\n",
       "\n",
       "    .dataframe thead th {\n",
       "        text-align: right;\n",
       "    }\n",
       "</style>\n",
       "<table border=\"1\" class=\"dataframe\">\n",
       "  <thead>\n",
       "    <tr style=\"text-align: right;\">\n",
       "      <th>kmeans_cluster_4</th>\n",
       "      <th>0</th>\n",
       "      <th>1</th>\n",
       "      <th>2</th>\n",
       "      <th>3</th>\n",
       "    </tr>\n",
       "    <tr>\n",
       "      <th>kmeans_cluster_3</th>\n",
       "      <th></th>\n",
       "      <th></th>\n",
       "      <th></th>\n",
       "      <th></th>\n",
       "    </tr>\n",
       "  </thead>\n",
       "  <tbody>\n",
       "    <tr>\n",
       "      <th>0</th>\n",
       "      <td>0</td>\n",
       "      <td>0</td>\n",
       "      <td>101</td>\n",
       "      <td>0</td>\n",
       "    </tr>\n",
       "    <tr>\n",
       "      <th>1</th>\n",
       "      <td>0</td>\n",
       "      <td>59</td>\n",
       "      <td>0</td>\n",
       "      <td>36</td>\n",
       "    </tr>\n",
       "    <tr>\n",
       "      <th>2</th>\n",
       "      <td>101</td>\n",
       "      <td>0</td>\n",
       "      <td>0</td>\n",
       "      <td>0</td>\n",
       "    </tr>\n",
       "  </tbody>\n",
       "</table>\n",
       "</div>"
      ],
      "text/plain": [
       "kmeans_cluster_4    0   1    2   3\n",
       "kmeans_cluster_3                  \n",
       "0                   0   0  101   0\n",
       "1                   0  59    0  36\n",
       "2                 101   0    0   0"
      ]
     },
     "execution_count": 335,
     "metadata": {},
     "output_type": "execute_result"
    }
   ],
   "source": [
    "pd.crosstab(ndf1['kmeans_cluster_3'],ndf1['kmeans_cluster_4'])"
   ]
  },
  {
   "cell_type": "code",
   "execution_count": 336,
   "metadata": {},
   "outputs": [
    {
     "data": {
      "text/html": [
       "<div>\n",
       "<style scoped>\n",
       "    .dataframe tbody tr th:only-of-type {\n",
       "        vertical-align: middle;\n",
       "    }\n",
       "\n",
       "    .dataframe tbody tr th {\n",
       "        vertical-align: top;\n",
       "    }\n",
       "\n",
       "    .dataframe thead th {\n",
       "        text-align: right;\n",
       "    }\n",
       "</style>\n",
       "<table border=\"1\" class=\"dataframe\">\n",
       "  <thead>\n",
       "    <tr style=\"text-align: right;\">\n",
       "      <th></th>\n",
       "      <th>Health_indeces1</th>\n",
       "      <th>Health_indices2</th>\n",
       "      <th>Per_capita_income</th>\n",
       "      <th>GDP</th>\n",
       "      <th>cluster count</th>\n",
       "    </tr>\n",
       "    <tr>\n",
       "      <th>kmeans_cluster_3</th>\n",
       "      <th></th>\n",
       "      <th></th>\n",
       "      <th></th>\n",
       "      <th></th>\n",
       "      <th></th>\n",
       "    </tr>\n",
       "  </thead>\n",
       "  <tbody>\n",
       "    <tr>\n",
       "      <th>0</th>\n",
       "      <td>499.158416</td>\n",
       "      <td>116.356436</td>\n",
       "      <td>693.772277</td>\n",
       "      <td>9428.099010</td>\n",
       "      <td>101</td>\n",
       "    </tr>\n",
       "    <tr>\n",
       "      <th>1</th>\n",
       "      <td>4930.884211</td>\n",
       "      <td>1212.336842</td>\n",
       "      <td>3385.852632</td>\n",
       "      <td>385648.589474</td>\n",
       "      <td>95</td>\n",
       "    </tr>\n",
       "    <tr>\n",
       "      <th>2</th>\n",
       "      <td>2597.089109</td>\n",
       "      <td>783.019802</td>\n",
       "      <td>2464.128713</td>\n",
       "      <td>141264.138614</td>\n",
       "      <td>101</td>\n",
       "    </tr>\n",
       "  </tbody>\n",
       "</table>\n",
       "</div>"
      ],
      "text/plain": [
       "                  Health_indeces1  Health_indices2  Per_capita_income  \\\n",
       "kmeans_cluster_3                                                        \n",
       "0                      499.158416       116.356436         693.772277   \n",
       "1                     4930.884211      1212.336842        3385.852632   \n",
       "2                     2597.089109       783.019802        2464.128713   \n",
       "\n",
       "                            GDP  cluster count  \n",
       "kmeans_cluster_3                                \n",
       "0                   9428.099010            101  \n",
       "1                 385648.589474             95  \n",
       "2                 141264.138614            101  "
      ]
     },
     "execution_count": 336,
     "metadata": {},
     "output_type": "execute_result"
    }
   ],
   "source": [
    "df_kmeans_3 = ndf1.drop(['cluster_1','cluster_2','kmeans_cluster_4'],axis=1)\n",
    "df_kclust_3 = df_kmeans_3.groupby('kmeans_cluster_3').mean()\n",
    "cluster_3_freq = ndf1['kmeans_cluster_3'].value_counts().sort_index()\n",
    "df_kclust_3['cluster count'] = cluster_3_freq\n",
    "df_kclust_3"
   ]
  },
  {
   "cell_type": "code",
   "execution_count": 337,
   "metadata": {},
   "outputs": [
    {
     "data": {
      "text/html": [
       "<div>\n",
       "<style scoped>\n",
       "    .dataframe tbody tr th:only-of-type {\n",
       "        vertical-align: middle;\n",
       "    }\n",
       "\n",
       "    .dataframe tbody tr th {\n",
       "        vertical-align: top;\n",
       "    }\n",
       "\n",
       "    .dataframe thead th {\n",
       "        text-align: right;\n",
       "    }\n",
       "</style>\n",
       "<table border=\"1\" class=\"dataframe\">\n",
       "  <thead>\n",
       "    <tr style=\"text-align: right;\">\n",
       "      <th></th>\n",
       "      <th>Health_indeces1</th>\n",
       "      <th>Health_indices2</th>\n",
       "      <th>Per_capita_income</th>\n",
       "      <th>GDP</th>\n",
       "      <th>cluster count</th>\n",
       "    </tr>\n",
       "    <tr>\n",
       "      <th>kmeans_cluster_4</th>\n",
       "      <th></th>\n",
       "      <th></th>\n",
       "      <th></th>\n",
       "      <th></th>\n",
       "      <th></th>\n",
       "    </tr>\n",
       "  </thead>\n",
       "  <tbody>\n",
       "    <tr>\n",
       "      <th>0</th>\n",
       "      <td>2597.089109</td>\n",
       "      <td>783.019802</td>\n",
       "      <td>2464.128713</td>\n",
       "      <td>141264.138614</td>\n",
       "      <td>101</td>\n",
       "    </tr>\n",
       "    <tr>\n",
       "      <th>1</th>\n",
       "      <td>4799.355932</td>\n",
       "      <td>1142.288136</td>\n",
       "      <td>2372.220339</td>\n",
       "      <td>396907.237288</td>\n",
       "      <td>59</td>\n",
       "    </tr>\n",
       "    <tr>\n",
       "      <th>2</th>\n",
       "      <td>499.158416</td>\n",
       "      <td>116.356436</td>\n",
       "      <td>693.772277</td>\n",
       "      <td>9428.099010</td>\n",
       "      <td>101</td>\n",
       "    </tr>\n",
       "    <tr>\n",
       "      <th>3</th>\n",
       "      <td>5146.444444</td>\n",
       "      <td>1327.138889</td>\n",
       "      <td>5047.083333</td>\n",
       "      <td>367196.916667</td>\n",
       "      <td>36</td>\n",
       "    </tr>\n",
       "  </tbody>\n",
       "</table>\n",
       "</div>"
      ],
      "text/plain": [
       "                  Health_indeces1  Health_indices2  Per_capita_income  \\\n",
       "kmeans_cluster_4                                                        \n",
       "0                     2597.089109       783.019802        2464.128713   \n",
       "1                     4799.355932      1142.288136        2372.220339   \n",
       "2                      499.158416       116.356436         693.772277   \n",
       "3                     5146.444444      1327.138889        5047.083333   \n",
       "\n",
       "                            GDP  cluster count  \n",
       "kmeans_cluster_4                                \n",
       "0                 141264.138614            101  \n",
       "1                 396907.237288             59  \n",
       "2                   9428.099010            101  \n",
       "3                 367196.916667             36  "
      ]
     },
     "execution_count": 337,
     "metadata": {},
     "output_type": "execute_result"
    }
   ],
   "source": [
    "df_kmeans_4 = ndf1.drop(['cluster_1','cluster_2','kmeans_cluster_3'],axis=1)\n",
    "df_kclust_4 = df_kmeans_4.groupby('kmeans_cluster_4').mean()\n",
    "cluster_4_freq = ndf1['kmeans_cluster_4'].value_counts().sort_index()\n",
    "df_kclust_4['cluster count'] = cluster_4_freq\n",
    "df_kclust_4"
   ]
  },
  {
   "cell_type": "code",
   "execution_count": 338,
   "metadata": {},
   "outputs": [],
   "source": [
    "ndf.drop(\"Unnamed: 0\",axis=1,inplace=True)"
   ]
  },
  {
   "cell_type": "code",
   "execution_count": 339,
   "metadata": {},
   "outputs": [
    {
     "data": {
      "text/plain": [
       "(297,)"
      ]
     },
     "execution_count": 339,
     "metadata": {},
     "output_type": "execute_result"
    }
   ],
   "source": [
    "labels_4.shape"
   ]
  },
  {
   "cell_type": "code",
   "execution_count": 340,
   "metadata": {},
   "outputs": [
    {
     "data": {
      "text/plain": [
       "(297, 5)"
      ]
     },
     "execution_count": 340,
     "metadata": {},
     "output_type": "execute_result"
    }
   ],
   "source": [
    "ndf.shape"
   ]
  },
  {
   "cell_type": "code",
   "execution_count": 341,
   "metadata": {},
   "outputs": [
    {
     "data": {
      "text/html": [
       "<div>\n",
       "<style scoped>\n",
       "    .dataframe tbody tr th:only-of-type {\n",
       "        vertical-align: middle;\n",
       "    }\n",
       "\n",
       "    .dataframe tbody tr th {\n",
       "        vertical-align: top;\n",
       "    }\n",
       "\n",
       "    .dataframe thead th {\n",
       "        text-align: right;\n",
       "    }\n",
       "</style>\n",
       "<table border=\"1\" class=\"dataframe\">\n",
       "  <thead>\n",
       "    <tr style=\"text-align: right;\">\n",
       "      <th></th>\n",
       "      <th>States</th>\n",
       "      <th>Health_indeces1</th>\n",
       "      <th>Health_indices2</th>\n",
       "      <th>Per_capita_income</th>\n",
       "      <th>GDP</th>\n",
       "      <th>Hierarchical Clustering Clusters</th>\n",
       "      <th>KMeans Clustering Clusters</th>\n",
       "    </tr>\n",
       "  </thead>\n",
       "  <tbody>\n",
       "    <tr>\n",
       "      <th>0</th>\n",
       "      <td>Bachevo</td>\n",
       "      <td>417</td>\n",
       "      <td>66</td>\n",
       "      <td>564</td>\n",
       "      <td>1823</td>\n",
       "      <td>3</td>\n",
       "      <td>2</td>\n",
       "    </tr>\n",
       "    <tr>\n",
       "      <th>1</th>\n",
       "      <td>Balgarchevo</td>\n",
       "      <td>1485</td>\n",
       "      <td>646</td>\n",
       "      <td>2710</td>\n",
       "      <td>73662</td>\n",
       "      <td>4</td>\n",
       "      <td>0</td>\n",
       "    </tr>\n",
       "    <tr>\n",
       "      <th>2</th>\n",
       "      <td>Belasitsa</td>\n",
       "      <td>654</td>\n",
       "      <td>299</td>\n",
       "      <td>1104</td>\n",
       "      <td>27318</td>\n",
       "      <td>3</td>\n",
       "      <td>2</td>\n",
       "    </tr>\n",
       "    <tr>\n",
       "      <th>3</th>\n",
       "      <td>Belo_Pole</td>\n",
       "      <td>192</td>\n",
       "      <td>25</td>\n",
       "      <td>573</td>\n",
       "      <td>250</td>\n",
       "      <td>3</td>\n",
       "      <td>2</td>\n",
       "    </tr>\n",
       "    <tr>\n",
       "      <th>4</th>\n",
       "      <td>Beslen</td>\n",
       "      <td>43</td>\n",
       "      <td>8</td>\n",
       "      <td>528</td>\n",
       "      <td>22</td>\n",
       "      <td>3</td>\n",
       "      <td>2</td>\n",
       "    </tr>\n",
       "  </tbody>\n",
       "</table>\n",
       "</div>"
      ],
      "text/plain": [
       "        States  Health_indeces1  Health_indices2  Per_capita_income    GDP  \\\n",
       "0      Bachevo              417               66                564   1823   \n",
       "1  Balgarchevo             1485              646               2710  73662   \n",
       "2    Belasitsa              654              299               1104  27318   \n",
       "3    Belo_Pole              192               25                573    250   \n",
       "4       Beslen               43                8                528     22   \n",
       "\n",
       "   Hierarchical Clustering Clusters  KMeans Clustering Clusters  \n",
       "0                                 3                           2  \n",
       "1                                 4                           0  \n",
       "2                                 3                           2  \n",
       "3                                 3                           2  \n",
       "4                                 3                           2  "
      ]
     },
     "execution_count": 341,
     "metadata": {},
     "output_type": "execute_result"
    }
   ],
   "source": [
    "ndf['Hierarchical Clustering Clusters'] = clusters_2\n",
    "ndf['KMeans Clustering Clusters'] = labels_4\n",
    "ndf.head()"
   ]
  },
  {
   "cell_type": "code",
   "execution_count": 342,
   "metadata": {},
   "outputs": [],
   "source": [
    "from sklearn.metrics import silhouette_score"
   ]
  },
  {
   "cell_type": "code",
   "execution_count": 343,
   "metadata": {},
   "outputs": [
    {
     "data": {
      "text/plain": [
       "0.5375296344905539"
      ]
     },
     "execution_count": 343,
     "metadata": {},
     "output_type": "execute_result"
    }
   ],
   "source": [
    "silhouette_score(ndf_scaled, labels = clusters_2)"
   ]
  },
  {
   "cell_type": "code",
   "execution_count": 344,
   "metadata": {},
   "outputs": [
    {
     "data": {
      "text/plain": [
       "0.5520464132164321"
      ]
     },
     "execution_count": 344,
     "metadata": {},
     "output_type": "execute_result"
    }
   ],
   "source": [
    "silhouette_score(ndf_scaled, labels = labels_4)"
   ]
  },
  {
   "cell_type": "code",
   "execution_count": null,
   "metadata": {},
   "outputs": [],
   "source": []
  }
 ],
 "metadata": {
  "kernelspec": {
   "display_name": "Python 3",
   "language": "python",
   "name": "python3"
  },
  "language_info": {
   "codemirror_mode": {
    "name": "ipython",
    "version": 3
   },
   "file_extension": ".py",
   "mimetype": "text/x-python",
   "name": "python",
   "nbconvert_exporter": "python",
   "pygments_lexer": "ipython3",
   "version": "3.7.6"
  }
 },
 "nbformat": 4,
 "nbformat_minor": 4
}
